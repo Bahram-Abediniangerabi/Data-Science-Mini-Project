{
 "cells": [
  {
   "cell_type": "code",
   "execution_count": 1,
   "metadata": {
    "_cell_guid": "89f02488-4980-40ae-84c0-eab14363a620",
    "_uuid": "5be7c0a0d1dc586c598b08d69209ebc5e84760bd"
   },
   "outputs": [],
   "source": [
    "import matplotlib.pyplot as plt\n",
    "# ^^^ pyforest auto-imports - don't write above this line\n",
    "#Required modules\n",
    "import datetime \n",
    "import calendar\n",
    "from sklearn.model_selection import train_test_split\n",
    "import warnings\n",
    "warnings.filterwarnings('ignore')\n",
    "import random\n",
    "import numpy as np\n",
    "import pandas as pd\n",
    "from datetime import datetime\n",
    "from sklearn.model_selection import RandomizedSearchCV, GridSearchCV\n",
    "from sklearn.metrics import roc_auc_score\n",
    "from sklearn.model_selection import StratifiedKFold\n",
    "from xgboost import XGBClassifier\n",
    "from sklearn.metrics import auc\n",
    "from sklearn.metrics import roc_curve, auc\n",
    "from sklearn.metrics import roc_auc_score"
   ]
  },
  {
   "cell_type": "code",
   "execution_count": 2,
   "metadata": {
    "_cell_guid": "39b12a37-3ce3-4a95-9f7d-268b925b88fc",
    "_uuid": "d9206a1794df1b15193532fc62a24c1eec7a5c5d"
   },
   "outputs": [],
   "source": [
    "def timer(start_time=None):\n",
    "    if not start_time:\n",
    "        start_time = datetime.now()\n",
    "        return start_time\n",
    "    elif start_time:\n",
    "        thour, temp_sec = divmod((datetime.now() - start_time).total_seconds(), 3600)\n",
    "        tmin, tsec = divmod(temp_sec, 60)\n",
    "        print('\\n Time taken: %i hours %i minutes and %s seconds.' % (thour, tmin, round(tsec, 2)))"
   ]
  },
  {
   "cell_type": "code",
   "execution_count": 3,
   "metadata": {},
   "outputs": [
    {
     "name": "stdout",
     "output_type": "stream",
     "text": [
      "(130086, 29)\n"
     ]
    },
    {
     "data": {
      "text/html": [
       "<div>\n",
       "<style scoped>\n",
       "    .dataframe tbody tr th:only-of-type {\n",
       "        vertical-align: middle;\n",
       "    }\n",
       "\n",
       "    .dataframe tbody tr th {\n",
       "        vertical-align: top;\n",
       "    }\n",
       "\n",
       "    .dataframe thead th {\n",
       "        text-align: right;\n",
       "    }\n",
       "</style>\n",
       "<table border=\"1\" class=\"dataframe\">\n",
       "  <thead>\n",
       "    <tr style=\"text-align: right;\">\n",
       "      <th></th>\n",
       "      <th>DATE_FOR</th>\n",
       "      <th>RTD_ST_CD</th>\n",
       "      <th>CustomerSegment</th>\n",
       "      <th>Tenure</th>\n",
       "      <th>Age</th>\n",
       "      <th>MART_STATUS</th>\n",
       "      <th>GENDER</th>\n",
       "      <th>CHANNEL1_6M</th>\n",
       "      <th>CHANNEL2_6M</th>\n",
       "      <th>CHANNEL3_6M</th>\n",
       "      <th>...</th>\n",
       "      <th>CHANNEL5_3M</th>\n",
       "      <th>METHOD1_3M</th>\n",
       "      <th>PAYMENTS_3M</th>\n",
       "      <th>NOT_DI_3M</th>\n",
       "      <th>NOT_DI_6M</th>\n",
       "      <th>EVENT1_30_FLAG</th>\n",
       "      <th>EVENT2_90_SUM</th>\n",
       "      <th>LOGINS</th>\n",
       "      <th>POLICYPURCHASECHANNEL</th>\n",
       "      <th>Call_Flag</th>\n",
       "    </tr>\n",
       "  </thead>\n",
       "  <tbody>\n",
       "    <tr>\n",
       "      <th>0</th>\n",
       "      <td>5/19/2014</td>\n",
       "      <td>ST_S0</td>\n",
       "      <td>1</td>\n",
       "      <td>16.175222</td>\n",
       "      <td>78.403833</td>\n",
       "      <td>MS_S0</td>\n",
       "      <td>F</td>\n",
       "      <td>0.0</td>\n",
       "      <td>0.0</td>\n",
       "      <td>1.0</td>\n",
       "      <td>...</td>\n",
       "      <td>2</td>\n",
       "      <td>0</td>\n",
       "      <td>3</td>\n",
       "      <td>0</td>\n",
       "      <td>0</td>\n",
       "      <td>0</td>\n",
       "      <td>0</td>\n",
       "      <td>0</td>\n",
       "      <td>0</td>\n",
       "      <td>0</td>\n",
       "    </tr>\n",
       "    <tr>\n",
       "      <th>1</th>\n",
       "      <td>5/17/2014</td>\n",
       "      <td>ST_S0</td>\n",
       "      <td>1</td>\n",
       "      <td>15.931554</td>\n",
       "      <td>70.989733</td>\n",
       "      <td>MS_S1</td>\n",
       "      <td>F</td>\n",
       "      <td>0.0</td>\n",
       "      <td>6.0</td>\n",
       "      <td>0.0</td>\n",
       "      <td>...</td>\n",
       "      <td>0</td>\n",
       "      <td>3</td>\n",
       "      <td>3</td>\n",
       "      <td>0</td>\n",
       "      <td>0</td>\n",
       "      <td>0</td>\n",
       "      <td>0</td>\n",
       "      <td>0</td>\n",
       "      <td>0</td>\n",
       "      <td>0</td>\n",
       "    </tr>\n",
       "    <tr>\n",
       "      <th>2</th>\n",
       "      <td>5/15/2014</td>\n",
       "      <td>ST_S0</td>\n",
       "      <td>1</td>\n",
       "      <td>15.937029</td>\n",
       "      <td>87.578371</td>\n",
       "      <td>MS_S2</td>\n",
       "      <td>M</td>\n",
       "      <td>0.0</td>\n",
       "      <td>0.0</td>\n",
       "      <td>10.0</td>\n",
       "      <td>...</td>\n",
       "      <td>0</td>\n",
       "      <td>0</td>\n",
       "      <td>6</td>\n",
       "      <td>0</td>\n",
       "      <td>0</td>\n",
       "      <td>0</td>\n",
       "      <td>0</td>\n",
       "      <td>0</td>\n",
       "      <td>0</td>\n",
       "      <td>0</td>\n",
       "    </tr>\n",
       "    <tr>\n",
       "      <th>3</th>\n",
       "      <td>5/16/2014</td>\n",
       "      <td>ST_S1</td>\n",
       "      <td>1</td>\n",
       "      <td>15.934292</td>\n",
       "      <td>68.438056</td>\n",
       "      <td>MS_S2</td>\n",
       "      <td>M</td>\n",
       "      <td>0.0</td>\n",
       "      <td>0.0</td>\n",
       "      <td>1.0</td>\n",
       "      <td>...</td>\n",
       "      <td>0</td>\n",
       "      <td>0</td>\n",
       "      <td>0</td>\n",
       "      <td>0</td>\n",
       "      <td>0</td>\n",
       "      <td>0</td>\n",
       "      <td>0</td>\n",
       "      <td>0</td>\n",
       "      <td>1</td>\n",
       "      <td>0</td>\n",
       "    </tr>\n",
       "    <tr>\n",
       "      <th>4</th>\n",
       "      <td>5/20/2014</td>\n",
       "      <td>ST_S0</td>\n",
       "      <td>1</td>\n",
       "      <td>15.501711</td>\n",
       "      <td>80.514716</td>\n",
       "      <td>MS_S0</td>\n",
       "      <td>F</td>\n",
       "      <td>0.0</td>\n",
       "      <td>0.0</td>\n",
       "      <td>1.0</td>\n",
       "      <td>...</td>\n",
       "      <td>0</td>\n",
       "      <td>0</td>\n",
       "      <td>1</td>\n",
       "      <td>0</td>\n",
       "      <td>0</td>\n",
       "      <td>0</td>\n",
       "      <td>0</td>\n",
       "      <td>0</td>\n",
       "      <td>0</td>\n",
       "      <td>0</td>\n",
       "    </tr>\n",
       "  </tbody>\n",
       "</table>\n",
       "<p>5 rows × 29 columns</p>\n",
       "</div>"
      ],
      "text/plain": [
       "    DATE_FOR RTD_ST_CD CustomerSegment     Tenure        Age MART_STATUS  \\\n",
       "0  5/19/2014     ST_S0               1  16.175222  78.403833       MS_S0   \n",
       "1  5/17/2014     ST_S0               1  15.931554  70.989733       MS_S1   \n",
       "2  5/15/2014     ST_S0               1  15.937029  87.578371       MS_S2   \n",
       "3  5/16/2014     ST_S1               1  15.934292  68.438056       MS_S2   \n",
       "4  5/20/2014     ST_S0               1  15.501711  80.514716       MS_S0   \n",
       "\n",
       "  GENDER  CHANNEL1_6M  CHANNEL2_6M  CHANNEL3_6M    ...      CHANNEL5_3M  \\\n",
       "0      F          0.0          0.0          1.0    ...                2   \n",
       "1      F          0.0          6.0          0.0    ...                0   \n",
       "2      M          0.0          0.0         10.0    ...                0   \n",
       "3      M          0.0          0.0          1.0    ...                0   \n",
       "4      F          0.0          0.0          1.0    ...                0   \n",
       "\n",
       "   METHOD1_3M  PAYMENTS_3M  NOT_DI_3M  NOT_DI_6M  EVENT1_30_FLAG  \\\n",
       "0           0            3          0          0               0   \n",
       "1           3            3          0          0               0   \n",
       "2           0            6          0          0               0   \n",
       "3           0            0          0          0               0   \n",
       "4           0            1          0          0               0   \n",
       "\n",
       "   EVENT2_90_SUM  LOGINS  POLICYPURCHASECHANNEL  Call_Flag  \n",
       "0              0       0                      0          0  \n",
       "1              0       0                      0          0  \n",
       "2              0       0                      0          0  \n",
       "3              0       0                      1          0  \n",
       "4              0       0                      0          0  \n",
       "\n",
       "[5 rows x 29 columns]"
      ]
     },
     "execution_count": 3,
     "metadata": {},
     "output_type": "execute_result"
    }
   ],
   "source": [
    "#Loading data\n",
    "df = pd.read_csv('DS_MiniProject_ANON.csv')\n",
    "print(df.shape)\n",
    "df.head()"
   ]
  },
  {
   "cell_type": "code",
   "execution_count": 4,
   "metadata": {},
   "outputs": [],
   "source": [
    "#Converting Date to weekday names\n",
    "df['Day_of_Week'] = pd.to_datetime(df['DATE_FOR']).dt.weekday_name"
   ]
  },
  {
   "cell_type": "code",
   "execution_count": 5,
   "metadata": {},
   "outputs": [
    {
     "name": "stdout",
     "output_type": "stream",
     "text": [
      "shape before drop (130086, 30)\n",
      "DATE_FOR                   0\n",
      "RTD_ST_CD                  0\n",
      "CustomerSegment            0\n",
      "Tenure                     0\n",
      "Age                        0\n",
      "MART_STATUS                0\n",
      "GENDER                     0\n",
      "CHANNEL1_6M              809\n",
      "CHANNEL2_6M              809\n",
      "CHANNEL3_6M              809\n",
      "CHANNEL4_6M              809\n",
      "CHANNEL5_6M              809\n",
      "METHOD1_6M               809\n",
      "RECENT_PAYMENT           809\n",
      "PAYMENTS_6M              809\n",
      "CHANNEL1_3M                0\n",
      "CHANNEL2_3M                0\n",
      "CHANNEL3_3M                0\n",
      "CHANNEL4_3M                0\n",
      "CHANNEL5_3M                0\n",
      "METHOD1_3M                 0\n",
      "PAYMENTS_3M                0\n",
      "NOT_DI_3M                  0\n",
      "NOT_DI_6M                  0\n",
      "EVENT1_30_FLAG             0\n",
      "EVENT2_90_SUM              0\n",
      "LOGINS                     0\n",
      "POLICYPURCHASECHANNEL      0\n",
      "Call_Flag                  0\n",
      "Day_of_Week                0\n",
      "dtype: int64\n",
      "shape after drop (129277, 30)\n",
      "DATE_FOR                 0\n",
      "RTD_ST_CD                0\n",
      "CustomerSegment          0\n",
      "Tenure                   0\n",
      "Age                      0\n",
      "MART_STATUS              0\n",
      "GENDER                   0\n",
      "CHANNEL1_6M              0\n",
      "CHANNEL2_6M              0\n",
      "CHANNEL3_6M              0\n",
      "CHANNEL4_6M              0\n",
      "CHANNEL5_6M              0\n",
      "METHOD1_6M               0\n",
      "RECENT_PAYMENT           0\n",
      "PAYMENTS_6M              0\n",
      "CHANNEL1_3M              0\n",
      "CHANNEL2_3M              0\n",
      "CHANNEL3_3M              0\n",
      "CHANNEL4_3M              0\n",
      "CHANNEL5_3M              0\n",
      "METHOD1_3M               0\n",
      "PAYMENTS_3M              0\n",
      "NOT_DI_3M                0\n",
      "NOT_DI_6M                0\n",
      "EVENT1_30_FLAG           0\n",
      "EVENT2_90_SUM            0\n",
      "LOGINS                   0\n",
      "POLICYPURCHASECHANNEL    0\n",
      "Call_Flag                0\n",
      "Day_of_Week              0\n",
      "dtype: int64\n"
     ]
    }
   ],
   "source": [
    "print(\"shape before drop\",df.shape)\n",
    "print(df.isnull().sum())\n",
    "df = df.dropna()\n",
    "print(\"shape after drop\",df.shape)\n",
    "print(df.isnull().sum())"
   ]
  },
  {
   "cell_type": "code",
   "execution_count": 6,
   "metadata": {},
   "outputs": [
    {
     "name": "stdout",
     "output_type": "stream",
     "text": [
      "['DATE_FOR', 'RTD_ST_CD', 'CustomerSegment', 'Tenure', 'Age', 'MART_STATUS', 'GENDER', 'CHANNEL1_6M', 'CHANNEL2_6M', 'CHANNEL3_6M', 'CHANNEL4_6M', 'CHANNEL5_6M', 'METHOD1_6M', 'RECENT_PAYMENT', 'PAYMENTS_6M', 'CHANNEL1_3M', 'CHANNEL2_3M', 'CHANNEL3_3M', 'CHANNEL4_3M', 'CHANNEL5_3M', 'METHOD1_3M', 'PAYMENTS_3M', 'NOT_DI_3M', 'NOT_DI_6M', 'EVENT1_30_FLAG', 'EVENT2_90_SUM', 'LOGINS', 'POLICYPURCHASECHANNEL', 'Call_Flag', 'Day_of_Week']\n"
     ]
    }
   ],
   "source": [
    "Colnames = list(df.columns)\n",
    "print(Colnames)"
   ]
  },
  {
   "cell_type": "code",
   "execution_count": 7,
   "metadata": {},
   "outputs": [
    {
     "name": "stdout",
     "output_type": "stream",
     "text": [
      "Day_of_Week            Friday        16476.0\n",
      "                       Monday        16597.0\n",
      "                       Saturday      15938.0\n",
      "                       Sunday        16884.0\n",
      "                       Thursday      16522.0\n",
      "                       Tuesday       30073.0\n",
      "                       Wednesday     16787.0\n",
      "DATE_FOR               5/13/2014     15162.0\n",
      "                       5/14/2014     16787.0\n",
      "                       5/15/2014     16522.0\n",
      "                       5/16/2014     16476.0\n",
      "                       5/17/2014     15938.0\n",
      "                       5/18/2014     16884.0\n",
      "                       5/19/2014     16597.0\n",
      "                       5/20/2014     14911.0\n",
      "RTD_ST_CD              ST_S0          8477.0\n",
      "                       ST_S1          1149.0\n",
      "                       ST_S10         1154.0\n",
      "                       ST_S11         4222.0\n",
      "                       ST_S12         2252.0\n",
      "                       ST_S13          933.0\n",
      "                       ST_S14         7656.0\n",
      "                       ST_S15          609.0\n",
      "                       ST_S16         3020.0\n",
      "                       ST_S17          940.0\n",
      "                       ST_S18          543.0\n",
      "                       ST_S19          711.0\n",
      "                       ST_S2          1908.0\n",
      "                       ST_S20         2421.0\n",
      "                       ST_S21         1312.0\n",
      "                                      ...   \n",
      "                       ST_S46           96.0\n",
      "                       ST_S47          159.0\n",
      "                       ST_S48          575.0\n",
      "                       ST_S49           93.0\n",
      "                       ST_S5           178.0\n",
      "                       ST_S50          845.0\n",
      "                       ST_S6          4779.0\n",
      "                       ST_S7         24297.0\n",
      "                       ST_S8          1038.0\n",
      "                       ST_S9         18746.0\n",
      "CustomerSegment        1             95349.0\n",
      "                       2             25226.0\n",
      "                       3              5019.0\n",
      "                       NONE           3683.0\n",
      "MART_STATUS            MS_S0          4817.0\n",
      "                       MS_S1         45354.0\n",
      "                       MS_S2         57874.0\n",
      "                       MS_S3         13375.0\n",
      "                       MS_S4          7857.0\n",
      "GENDER                 F             59878.0\n",
      "                       M             69399.0\n",
      "RECENT_PAYMENT         0.0          115615.0\n",
      "                       1.0           13662.0\n",
      "NOT_DI_3M              0.0          122035.0\n",
      "                       1.0            7242.0\n",
      "NOT_DI_6M              0.0          118870.0\n",
      "                       1.0           10407.0\n",
      "EVENT1_30_FLAG         0.0          129277.0\n",
      "POLICYPURCHASECHANNEL  0.0          112305.0\n",
      "                       1.0           16972.0\n",
      "Length: 86, dtype: float64\n"
     ]
    }
   ],
   "source": [
    "cat_cols = ['Day_of_Week','DATE_FOR','RTD_ST_CD','CustomerSegment','MART_STATUS','GENDER','RECENT_PAYMENT','NOT_DI_3M','NOT_DI_6M', 'EVENT1_30_FLAG',\n",
    " 'POLICYPURCHASECHANNEL']\n",
    "df_cat = df[cat_cols]\n",
    "df_cat.isnull().sum()\n",
    "print(df_cat.apply(lambda x: x.value_counts()).T.stack())"
   ]
  },
  {
   "cell_type": "code",
   "execution_count": 8,
   "metadata": {},
   "outputs": [
    {
     "name": "stdout",
     "output_type": "stream",
     "text": [
      "    DATE_FOR RTD_ST_CD CustomerSegment     Tenure        Age MART_STATUS  \\\n",
      "0  5/19/2014     ST_S0               1  16.175222  78.403833       MS_S0   \n",
      "1  5/17/2014     ST_S0               1  15.931554  70.989733       MS_S1   \n",
      "2  5/15/2014     ST_S0               1  15.937029  87.578371       MS_S2   \n",
      "3  5/16/2014     ST_S1               1  15.934292  68.438056       MS_S2   \n",
      "4  5/20/2014     ST_S0               1  15.501711  80.514716       MS_S0   \n",
      "\n",
      "  GENDER  CHANNEL1_6M  CHANNEL2_6M  CHANNEL3_6M     ...       CHANNEL5_3M  \\\n",
      "0      F          0.0          0.0          1.0     ...                 2   \n",
      "1      F          0.0          6.0          0.0     ...                 0   \n",
      "2      M          0.0          0.0         10.0     ...                 0   \n",
      "3      M          0.0          0.0          1.0     ...                 0   \n",
      "4      F          0.0          0.0          1.0     ...                 0   \n",
      "\n",
      "   METHOD1_3M  PAYMENTS_3M  NOT_DI_3M  NOT_DI_6M  EVENT2_90_SUM  LOGINS  \\\n",
      "0           0            3          0          0              0       0   \n",
      "1           3            3          0          0              0       0   \n",
      "2           0            6          0          0              0       0   \n",
      "3           0            0          0          0              0       0   \n",
      "4           0            1          0          0              0       0   \n",
      "\n",
      "   POLICYPURCHASECHANNEL  Call_Flag  Day_of_Week  \n",
      "0                      0          0       Monday  \n",
      "1                      0          0     Saturday  \n",
      "2                      0          0     Thursday  \n",
      "3                      1          0       Friday  \n",
      "4                      0          0      Tuesday  \n",
      "\n",
      "[5 rows x 29 columns]\n"
     ]
    }
   ],
   "source": [
    "df = df.drop(['EVENT1_30_FLAG'], axis=1)\n",
    "print(df.head())"
   ]
  },
  {
   "cell_type": "code",
   "execution_count": 9,
   "metadata": {},
   "outputs": [
    {
     "name": "stdout",
     "output_type": "stream",
     "text": [
      "(129277, 104)\n"
     ]
    }
   ],
   "source": [
    "cat_cols.remove('EVENT1_30_FLAG')\n",
    "df_final = pd.get_dummies(df, columns=cat_cols)\n",
    "df_final.columns\n",
    "print(df_final.shape)"
   ]
  },
  {
   "cell_type": "code",
   "execution_count": 10,
   "metadata": {},
   "outputs": [
    {
     "data": {
      "image/png": "[encoded data removed]",
      "text/plain": [
       "<Figure size 432x288 with 1 Axes>"
      ]
     },
     "metadata": {
      "needs_background": "light"
     },
     "output_type": "display_data"
    }
   ],
   "source": [
    "df_final.Call_Flag.plot(kind='hist',bins=[-.5,.5,1.5], ec=\"k\", alpha=0.5)\n",
    "plt.xticks((0,1))\n",
    "plt.show()"
   ]
  },
  {
   "cell_type": "code",
   "execution_count": 11,
   "metadata": {},
   "outputs": [],
   "source": [
    "random.seed(42)\n",
    "train, test = train_test_split(df_final, test_size=0.20, stratify=df_final['Call_Flag']) "
   ]
  },
  {
   "cell_type": "code",
   "execution_count": 12,
   "metadata": {},
   "outputs": [
    {
     "data": {
      "image/png": "[encoded data removed]",
      "text/plain": [
       "<Figure size 432x288 with 1 Axes>"
      ]
     },
     "metadata": {
      "needs_background": "light"
     },
     "output_type": "display_data"
    }
   ],
   "source": [
    "#Oversampling to handle imbalanced data\n",
    "from sklearn.utils import resample\n",
    "train_majority = train[train[\"Call_Flag\"] == 0]\n",
    "train_minority = train[train[\"Call_Flag\"] == 1]\n",
    "train_minority_upsampled = resample(train_minority, \n",
    "                                 replace=True,     \n",
    "                                 n_samples=50000,    \n",
    "                                 random_state=42) \n",
    "df_train = pd.concat([train_majority, train_minority_upsampled])\n",
    "\n",
    " \n",
    "# Display new class counts\n",
    "# Display new class counts\n",
    "df_train.Call_Flag.plot(kind='hist',bins=[-.5,.5,1.5], ec=\"k\", alpha=0.5)\n",
    "plt.xticks((0,1))\n",
    "plt.show()\n"
   ]
  },
  {
   "cell_type": "code",
   "execution_count": 13,
   "metadata": {},
   "outputs": [],
   "source": [
    "X = df_train.drop(['Call_Flag'], axis=1)\n",
    "y = df_train['Call_Flag'].values"
   ]
  },
  {
   "cell_type": "markdown",
   "metadata": {
    "_cell_guid": "f170e597-98b9-4e93-aa84-c2e358d8b88c",
    "_uuid": "5e5dd068cbcdbfcb6f7bdbcee839f60547be71fb"
   },
   "source": [
    "Let's set up a parameter grid that will be explored during the search. Note that you can use fewer parameters and fewer options for each parameter. Same goes for more parameter and more options if you want to be very thorough. Also, you can plug in any other ML method instead of XGBoost and search for its optimal parameters."
   ]
  },
  {
   "cell_type": "code",
   "execution_count": 14,
   "metadata": {
    "_cell_guid": "2e8333f1-3d62-40e6-9238-d39f6ce30b4b",
    "_uuid": "920ed200eb1a69250c41cbe57f2fac449e72bc11"
   },
   "outputs": [],
   "source": [
    "# A parameter grid for XGBoost\n",
    "params = {\n",
    "        'min_child_weight': [1, 5, 10],\n",
    "        'gamma': [0.5, 1, 1.5, 2, 5],\n",
    "        'subsample': [0.6, 0.8, 1.0],\n",
    "        'colsample_bytree': [0.6, 0.8, 1.0],\n",
    "        'max_depth': [3, 4, 5, 6, 8, 9, 10, 15],\n",
    "        'learning_rate':[0.001,0.01,0.1,0.2,0.5,0.9],\n",
    "        'n_estimators':[50,100,200,300,400,500,600,700,800,900,1000]\n",
    "        }\n"
   ]
  },
  {
   "cell_type": "markdown",
   "metadata": {
    "_cell_guid": "853541a7-f638-4071-8d32-983415b4f726",
    "_uuid": "019960cb5c26ef6191a495f8fc23297f78a8bf86"
   },
   "source": [
    "A total number of combinations for the set of parameters above is a product of options for each parameter (3 x 5 x 3 x 3 x 3 = 405). It also needs to be multiplied by 5 to calculate a total number of data-fitting runs as we will be doing 5-fold cross-validation. That gets to be a large number in a hurry if you are using many parameters and lots of options, which is why **brute-force grid search takes a long time**.\n",
    "\n",
    "Next we set up our classifier. We use sklearn's API of XGBoost as that is a requirement for grid search (another reason why Bayesian optimization may be preferable, as it does not need to be sklearn-wrapped). You should consider setting a learning rate to smaller value (at least 0.01, if not even lower), or make it a hyperparameter for grid searching. I am not using very small value here to save on running time. \n",
    "\n",
    "*Even though we have 4 threads available per job on Kaggle, I think it is more efficient to do XGBoost runs on single threads, but instead run 4 parallel jobs in the grid search. It's up to you whether you want to change this.*"
   ]
  },
  {
   "cell_type": "code",
   "execution_count": 15,
   "metadata": {
    "_cell_guid": "14fe1366-f429-4168-886f-69e59d0efcf0",
    "_uuid": "9a51f0a5ca0e0598210798d3e0b3a83af89f10c0"
   },
   "outputs": [],
   "source": [
    "xgb = XGBClassifier(objective='binary:logistic',silent=True, nthread=12)"
   ]
  },
  {
   "cell_type": "markdown",
   "metadata": {
    "_cell_guid": "92dad863-2918-4e4b-aef2-9395b70edebd",
    "_uuid": "966cae216288e8f4c257e39839057cfca917daf5"
   },
   "source": [
    "Next we set up our stratified folds and grid search parameters. I am using AUC as a scoring function, but you can plug in a custom scoring function here if you wish. Grid search wil spawn 4 jobs running a single thread each. The param_comb parameter declares how many different combinations should be picked randomly out of our total (405, see above). I am doing only 5 here, knowing that it will not properly sample the parameter space. Definitely use a bigger number for param_comb.\n",
    "\n",
    "*You may want to increase/decrease verbosity depending on your preference.*\n",
    "\n",
    "**Note that I have set the number of splits/folds to 3 in order to save time. You should probably put 5 there to get a more reliable result.**"
   ]
  },
  {
   "cell_type": "code",
   "execution_count": null,
   "metadata": {
    "_cell_guid": "4b481813-a095-4a86-b8a2-c12938ed1797",
    "_uuid": "b98b6859ae1dcccfa0e0a37123f57e41390c9995"
   },
   "outputs": [
    {
     "name": "stdout",
     "output_type": "stream",
     "text": [
      "Fitting 5 folds for each of 20 candidates, totalling 100 fits\n"
     ]
    }
   ],
   "source": [
    "folds = 5\n",
    "param_comb = 20\n",
    "\n",
    "skf = StratifiedKFold(n_splits=folds, shuffle = True, random_state = 42)\n",
    "\n",
    "random_search = RandomizedSearchCV(xgb, param_distributions=params, n_iter=param_comb, scoring='roc_auc', n_jobs=12, cv=skf.split(X, y), verbose=3, random_state=42 )\n",
    "\n",
    "# Here we go\n",
    "start_time = timer(None) # timing starts from this point for \"start_time\" variable\n",
    "random_search.fit(X, y)\n",
    "timer(start_time) # timing ends here for \"start_time\" variable\n"
   ]
  },
  {
   "cell_type": "markdown",
   "metadata": {
    "_cell_guid": "a842a4db-3128-451c-bf9a-f7b37eeb19f4",
    "_uuid": "f87de8a533c18505b1eec99a70c6d50ef7bc29d3"
   },
   "source": [
    "You can actually follow along as the search goes on. To convert to normalized gini, multiply the obtained AUC values by 2 and subtract 1.\n",
    "\n",
    "Let's print the grid-search results and save them in a file."
   ]
  },
  {
   "cell_type": "code",
   "execution_count": null,
   "metadata": {
    "_cell_guid": "26a88219-7efb-4c8a-91cf-76efc3f5a026",
    "_uuid": "d09f09d16566bba47b69330ba54c7ed294e4a559"
   },
   "outputs": [],
   "source": [
    "print('\\n All results:')\n",
    "print(random_search.cv_results_)\n",
    "print('\\n Best estimator:')\n",
    "print(random_search.best_estimator_)\n",
    "print('\\n Best normalized gini score for %d-fold search with %d parameter combinations:' % (folds, param_comb))\n",
    "print(random_search.best_score_ * 2 - 1)\n",
    "print('\\n Best hyperparameters:')\n",
    "print(random_search.best_params_)\n",
    "results = pd.DataFrame(random_search.cv_results_)\n",
    "results.to_csv('xgb-random-grid-search-results-01.csv', index=False)\n"
   ]
  },
  {
   "cell_type": "markdown",
   "metadata": {
    "_cell_guid": "6447f3d0-5ef3-4839-8fb4-cd099909fb65",
    "_uuid": "ecbe97acf379f9a442f7b6bfc111d5c1e5bac161"
   },
   "source": [
    "Not surprisingly, this search does not produce a great score because of 3-fold validation and limited parameter sampling.\n",
    "\n",
    "Lastly, let's make a prediction based on best parameters found during the search."
   ]
  },
  {
   "cell_type": "code",
   "execution_count": null,
   "metadata": {},
   "outputs": [],
   "source": [
    "X_test = test.drop(['Call_Flag'], axis=1)\n",
    "y_test = test['Call_Flag'].values"
   ]
  },
  {
   "cell_type": "code",
   "execution_count": null,
   "metadata": {
    "_cell_guid": "f185d719-25b1-4dc3-a1f1-3cea218f3967",
    "_uuid": "2174c78da609042833528bfb430d1babffa502a2"
   },
   "outputs": [],
   "source": [
    "y_predict = random_search.predict(X_test)\n",
    "y_predict_probs = random_search.predict_proba(X_test)"
   ]
  },
  {
   "cell_type": "code",
   "execution_count": null,
   "metadata": {},
   "outputs": [],
   "source": [
    "from sklearn.metrics import classification_report\n",
    "target_names = ['0', '1']\n",
    "print(classification_report(y_test, y_predict, target_names=target_names))"
   ]
  },
  {
   "cell_type": "code",
   "execution_count": null,
   "metadata": {},
   "outputs": [],
   "source": [
    "from sklearn.metrics import roc_auc_score\n",
    "\n",
    "# Calculate roc auc\n",
    "roc_value = roc_auc_score(y_test, y_predict_probs[:, 1])\n",
    "roc_value"
   ]
  },
  {
   "cell_type": "code",
   "execution_count": null,
   "metadata": {},
   "outputs": [],
   "source": [
    "from matplotlib import pyplot as plt\n",
    "from sklearn.metrics import roc_auc_score\n",
    "from sklearn.metrics import roc_curve\n",
    "RF_roc_auc = roc_auc_score(y_test, y_predict)\n",
    "fpr, tpr, thresholds = roc_curve(y_test, y_predict)\n",
    "plt.figure()\n",
    "plt.plot(fpr, tpr, label='XGB_3 (area = %0.2f)' % roc_value)\n",
    "plt.plot([0, 1], [0, 1],'r--')\n",
    "plt.xlim([0.0, 1.0])\n",
    "plt.ylim([0.0, 1.05])\n",
    "plt.xlabel('False Positive Rate')\n",
    "plt.ylabel('True Positive Rate')\n",
    "plt.title('Receiver operating characteristic')\n",
    "plt.legend(loc=\"lower right\")\n",
    "plt.savefig('xgboost with Resampling_ROC')\n",
    "plt.show()"
   ]
  },
  {
   "cell_type": "code",
   "execution_count": null,
   "metadata": {},
   "outputs": [],
   "source": [
    "from sklearn.metrics import confusion_matrix\n",
    "confusion_matrix(y_test, y_predict)"
   ]
  },
  {
   "cell_type": "code",
   "execution_count": null,
   "metadata": {},
   "outputs": [],
   "source": [
    "Ys = np.column_stack((y_predict, y_test))\n",
    "from numpy import savetxt\n",
    "savetxt('Ys_xgb_resampled_40000.csv', Ys, delimiter=',')"
   ]
  },
  {
   "cell_type": "code",
   "execution_count": null,
   "metadata": {},
   "outputs": [],
   "source": [
    "y_prob = random_search.predict_proba(X_test)\n",
    "Ys_prob = np.column_stack((y_prob, y_test))\n",
    "from numpy import savetxt\n",
    "savetxt('Ys_xgb_resampled_more_combs_prob.csv', Ys_prob, delimiter=',')"
   ]
  },
  {
   "cell_type": "code",
   "execution_count": null,
   "metadata": {},
   "outputs": [],
   "source": []
  }
 ],
 "metadata": {
  "kernelspec": {
   "display_name": "Python 3",
   "language": "python",
   "name": "python3"
  },
  "language_info": {
   "codemirror_mode": {
    "name": "ipython",
    "version": 3
   },
   "file_extension": ".py",
   "mimetype": "text/x-python",
   "name": "python",
   "nbconvert_exporter": "python",
   "pygments_lexer": "ipython3",
   "version": "3.7.0"
  }
 },
 "nbformat": 4,
 "nbformat_minor": 1
}
