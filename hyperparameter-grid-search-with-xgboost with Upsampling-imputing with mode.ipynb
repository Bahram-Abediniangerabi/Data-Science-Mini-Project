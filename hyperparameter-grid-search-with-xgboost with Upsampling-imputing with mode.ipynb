{
 "cells": [
  {
   "cell_type": "code",
   "execution_count": 1,
   "metadata": {
    "_cell_guid": "89f02488-4980-40ae-84c0-eab14363a620",
    "_uuid": "5be7c0a0d1dc586c598b08d69209ebc5e84760bd"
   },
   "outputs": [],
   "source": [
    "#Required modules\n",
    "import datetime \n",
    "import calendar\n",
    "from sklearn.model_selection import train_test_split\n",
    "import warnings\n",
    "warnings.filterwarnings('ignore')\n",
    "import numpy as np\n",
    "import pandas as pd\n",
    "from datetime import datetime\n",
    "from sklearn.model_selection import RandomizedSearchCV, GridSearchCV\n",
    "from sklearn.metrics import roc_auc_score\n",
    "from sklearn.model_selection import StratifiedKFold\n",
    "from xgboost import XGBClassifier\n",
    "from sklearn.metrics import auc\n",
    "from sklearn.metrics import roc_curve, auc\n",
    "from sklearn.metrics import roc_auc_score\n",
    "import random"
   ]
  },
  {
   "cell_type": "code",
   "execution_count": 2,
   "metadata": {
    "_cell_guid": "39b12a37-3ce3-4a95-9f7d-268b925b88fc",
    "_uuid": "d9206a1794df1b15193532fc62a24c1eec7a5c5d"
   },
   "outputs": [],
   "source": [
    "def timer(start_time=None):\n",
    "    if not start_time:\n",
    "        start_time = datetime.now()\n",
    "        return start_time\n",
    "    elif start_time:\n",
    "        thour, temp_sec = divmod((datetime.now() - start_time).total_seconds(), 3600)\n",
    "        tmin, tsec = divmod(temp_sec, 60)\n",
    "        print('\\n Time taken: %i hours %i minutes and %s seconds.' % (thour, tmin, round(tsec, 2)))"
   ]
  },
  {
   "cell_type": "code",
   "execution_count": 24,
   "metadata": {},
   "outputs": [
    {
     "name": "stdout",
     "output_type": "stream",
     "text": [
      "(130086, 29)\n"
     ]
    },
    {
     "data": {
      "text/html": [
       "<div>\n",
       "<style scoped>\n",
       "    .dataframe tbody tr th:only-of-type {\n",
       "        vertical-align: middle;\n",
       "    }\n",
       "\n",
       "    .dataframe tbody tr th {\n",
       "        vertical-align: top;\n",
       "    }\n",
       "\n",
       "    .dataframe thead th {\n",
       "        text-align: right;\n",
       "    }\n",
       "</style>\n",
       "<table border=\"1\" class=\"dataframe\">\n",
       "  <thead>\n",
       "    <tr style=\"text-align: right;\">\n",
       "      <th></th>\n",
       "      <th>DATE_FOR</th>\n",
       "      <th>RTD_ST_CD</th>\n",
       "      <th>CustomerSegment</th>\n",
       "      <th>Tenure</th>\n",
       "      <th>Age</th>\n",
       "      <th>MART_STATUS</th>\n",
       "      <th>GENDER</th>\n",
       "      <th>CHANNEL1_6M</th>\n",
       "      <th>CHANNEL2_6M</th>\n",
       "      <th>CHANNEL3_6M</th>\n",
       "      <th>...</th>\n",
       "      <th>CHANNEL5_3M</th>\n",
       "      <th>METHOD1_3M</th>\n",
       "      <th>PAYMENTS_3M</th>\n",
       "      <th>NOT_DI_3M</th>\n",
       "      <th>NOT_DI_6M</th>\n",
       "      <th>EVENT1_30_FLAG</th>\n",
       "      <th>EVENT2_90_SUM</th>\n",
       "      <th>LOGINS</th>\n",
       "      <th>POLICYPURCHASECHANNEL</th>\n",
       "      <th>Call_Flag</th>\n",
       "    </tr>\n",
       "  </thead>\n",
       "  <tbody>\n",
       "    <tr>\n",
       "      <th>0</th>\n",
       "      <td>5/19/2014</td>\n",
       "      <td>ST_S0</td>\n",
       "      <td>1</td>\n",
       "      <td>16.175222</td>\n",
       "      <td>78.403833</td>\n",
       "      <td>MS_S0</td>\n",
       "      <td>F</td>\n",
       "      <td>0.0</td>\n",
       "      <td>0.0</td>\n",
       "      <td>1.0</td>\n",
       "      <td>...</td>\n",
       "      <td>2</td>\n",
       "      <td>0</td>\n",
       "      <td>3</td>\n",
       "      <td>0</td>\n",
       "      <td>0</td>\n",
       "      <td>0</td>\n",
       "      <td>0</td>\n",
       "      <td>0</td>\n",
       "      <td>0</td>\n",
       "      <td>0</td>\n",
       "    </tr>\n",
       "    <tr>\n",
       "      <th>1</th>\n",
       "      <td>5/17/2014</td>\n",
       "      <td>ST_S0</td>\n",
       "      <td>1</td>\n",
       "      <td>15.931554</td>\n",
       "      <td>70.989733</td>\n",
       "      <td>MS_S1</td>\n",
       "      <td>F</td>\n",
       "      <td>0.0</td>\n",
       "      <td>6.0</td>\n",
       "      <td>0.0</td>\n",
       "      <td>...</td>\n",
       "      <td>0</td>\n",
       "      <td>3</td>\n",
       "      <td>3</td>\n",
       "      <td>0</td>\n",
       "      <td>0</td>\n",
       "      <td>0</td>\n",
       "      <td>0</td>\n",
       "      <td>0</td>\n",
       "      <td>0</td>\n",
       "      <td>0</td>\n",
       "    </tr>\n",
       "    <tr>\n",
       "      <th>2</th>\n",
       "      <td>5/15/2014</td>\n",
       "      <td>ST_S0</td>\n",
       "      <td>1</td>\n",
       "      <td>15.937029</td>\n",
       "      <td>87.578371</td>\n",
       "      <td>MS_S2</td>\n",
       "      <td>M</td>\n",
       "      <td>0.0</td>\n",
       "      <td>0.0</td>\n",
       "      <td>10.0</td>\n",
       "      <td>...</td>\n",
       "      <td>0</td>\n",
       "      <td>0</td>\n",
       "      <td>6</td>\n",
       "      <td>0</td>\n",
       "      <td>0</td>\n",
       "      <td>0</td>\n",
       "      <td>0</td>\n",
       "      <td>0</td>\n",
       "      <td>0</td>\n",
       "      <td>0</td>\n",
       "    </tr>\n",
       "    <tr>\n",
       "      <th>3</th>\n",
       "      <td>5/16/2014</td>\n",
       "      <td>ST_S1</td>\n",
       "      <td>1</td>\n",
       "      <td>15.934292</td>\n",
       "      <td>68.438056</td>\n",
       "      <td>MS_S2</td>\n",
       "      <td>M</td>\n",
       "      <td>0.0</td>\n",
       "      <td>0.0</td>\n",
       "      <td>1.0</td>\n",
       "      <td>...</td>\n",
       "      <td>0</td>\n",
       "      <td>0</td>\n",
       "      <td>0</td>\n",
       "      <td>0</td>\n",
       "      <td>0</td>\n",
       "      <td>0</td>\n",
       "      <td>0</td>\n",
       "      <td>0</td>\n",
       "      <td>1</td>\n",
       "      <td>0</td>\n",
       "    </tr>\n",
       "    <tr>\n",
       "      <th>4</th>\n",
       "      <td>5/20/2014</td>\n",
       "      <td>ST_S0</td>\n",
       "      <td>1</td>\n",
       "      <td>15.501711</td>\n",
       "      <td>80.514716</td>\n",
       "      <td>MS_S0</td>\n",
       "      <td>F</td>\n",
       "      <td>0.0</td>\n",
       "      <td>0.0</td>\n",
       "      <td>1.0</td>\n",
       "      <td>...</td>\n",
       "      <td>0</td>\n",
       "      <td>0</td>\n",
       "      <td>1</td>\n",
       "      <td>0</td>\n",
       "      <td>0</td>\n",
       "      <td>0</td>\n",
       "      <td>0</td>\n",
       "      <td>0</td>\n",
       "      <td>0</td>\n",
       "      <td>0</td>\n",
       "    </tr>\n",
       "  </tbody>\n",
       "</table>\n",
       "<p>5 rows × 29 columns</p>\n",
       "</div>"
      ],
      "text/plain": [
       "    DATE_FOR RTD_ST_CD CustomerSegment     Tenure        Age MART_STATUS  \\\n",
       "0  5/19/2014     ST_S0               1  16.175222  78.403833       MS_S0   \n",
       "1  5/17/2014     ST_S0               1  15.931554  70.989733       MS_S1   \n",
       "2  5/15/2014     ST_S0               1  15.937029  87.578371       MS_S2   \n",
       "3  5/16/2014     ST_S1               1  15.934292  68.438056       MS_S2   \n",
       "4  5/20/2014     ST_S0               1  15.501711  80.514716       MS_S0   \n",
       "\n",
       "  GENDER  CHANNEL1_6M  CHANNEL2_6M  CHANNEL3_6M    ...      CHANNEL5_3M  \\\n",
       "0      F          0.0          0.0          1.0    ...                2   \n",
       "1      F          0.0          6.0          0.0    ...                0   \n",
       "2      M          0.0          0.0         10.0    ...                0   \n",
       "3      M          0.0          0.0          1.0    ...                0   \n",
       "4      F          0.0          0.0          1.0    ...                0   \n",
       "\n",
       "   METHOD1_3M  PAYMENTS_3M  NOT_DI_3M  NOT_DI_6M  EVENT1_30_FLAG  \\\n",
       "0           0            3          0          0               0   \n",
       "1           3            3          0          0               0   \n",
       "2           0            6          0          0               0   \n",
       "3           0            0          0          0               0   \n",
       "4           0            1          0          0               0   \n",
       "\n",
       "   EVENT2_90_SUM  LOGINS  POLICYPURCHASECHANNEL  Call_Flag  \n",
       "0              0       0                      0          0  \n",
       "1              0       0                      0          0  \n",
       "2              0       0                      0          0  \n",
       "3              0       0                      1          0  \n",
       "4              0       0                      0          0  \n",
       "\n",
       "[5 rows x 29 columns]"
      ]
     },
     "execution_count": 24,
     "metadata": {},
     "output_type": "execute_result"
    }
   ],
   "source": [
    "#Loading data\n",
    "df = pd.read_csv('DS_MiniProject_ANON.csv')\n",
    "print(df.shape)\n",
    "df.head()"
   ]
  },
  {
   "cell_type": "code",
   "execution_count": 25,
   "metadata": {},
   "outputs": [],
   "source": [
    "#Converting Date to weekday names\n",
    "df['Day_of_Week'] = pd.to_datetime(df['DATE_FOR']).dt.weekday_name"
   ]
  },
  {
   "cell_type": "code",
   "execution_count": 26,
   "metadata": {},
   "outputs": [
    {
     "name": "stdout",
     "output_type": "stream",
     "text": [
      "shape before imputing (130086, 30)\n",
      "DATE_FOR                   0\n",
      "RTD_ST_CD                  0\n",
      "CustomerSegment            0\n",
      "Tenure                     0\n",
      "Age                        0\n",
      "MART_STATUS                0\n",
      "GENDER                     0\n",
      "CHANNEL1_6M              809\n",
      "CHANNEL2_6M              809\n",
      "CHANNEL3_6M              809\n",
      "CHANNEL4_6M              809\n",
      "CHANNEL5_6M              809\n",
      "METHOD1_6M               809\n",
      "RECENT_PAYMENT           809\n",
      "PAYMENTS_6M              809\n",
      "CHANNEL1_3M                0\n",
      "CHANNEL2_3M                0\n",
      "CHANNEL3_3M                0\n",
      "CHANNEL4_3M                0\n",
      "CHANNEL5_3M                0\n",
      "METHOD1_3M                 0\n",
      "PAYMENTS_3M                0\n",
      "NOT_DI_3M                  0\n",
      "NOT_DI_6M                  0\n",
      "EVENT1_30_FLAG             0\n",
      "EVENT2_90_SUM              0\n",
      "LOGINS                     0\n",
      "POLICYPURCHASECHANNEL      0\n",
      "Call_Flag                  0\n",
      "Day_of_Week                0\n",
      "dtype: int64\n",
      "shape after imputing (130086, 30)\n",
      "DATE_FOR                 0\n",
      "RTD_ST_CD                0\n",
      "CustomerSegment          0\n",
      "Tenure                   0\n",
      "Age                      0\n",
      "MART_STATUS              0\n",
      "GENDER                   0\n",
      "CHANNEL1_6M              0\n",
      "CHANNEL2_6M              0\n",
      "CHANNEL3_6M              0\n",
      "CHANNEL4_6M              0\n",
      "CHANNEL5_6M              0\n",
      "METHOD1_6M               0\n",
      "RECENT_PAYMENT           0\n",
      "PAYMENTS_6M              0\n",
      "CHANNEL1_3M              0\n",
      "CHANNEL2_3M              0\n",
      "CHANNEL3_3M              0\n",
      "CHANNEL4_3M              0\n",
      "CHANNEL5_3M              0\n",
      "METHOD1_3M               0\n",
      "PAYMENTS_3M              0\n",
      "NOT_DI_3M                0\n",
      "NOT_DI_6M                0\n",
      "EVENT1_30_FLAG           0\n",
      "EVENT2_90_SUM            0\n",
      "LOGINS                   0\n",
      "POLICYPURCHASECHANNEL    0\n",
      "Call_Flag                0\n",
      "Day_of_Week              0\n",
      "dtype: int64\n"
     ]
    }
   ],
   "source": [
    "print(\"shape before imputing\",df.shape)\n",
    "print(df.isnull().sum())\n",
    "df = df.apply(lambda x:x.fillna(x.value_counts().index[0]))\n",
    "print(\"shape after imputing\",df.shape)\n",
    "print(df.isnull().sum())"
   ]
  },
  {
   "cell_type": "code",
   "execution_count": 27,
   "metadata": {},
   "outputs": [
    {
     "name": "stdout",
     "output_type": "stream",
     "text": [
      "    DATE_FOR RTD_ST_CD CustomerSegment     Tenure        Age MART_STATUS  \\\n",
      "0  5/19/2014     ST_S0               1  16.175222  78.403833       MS_S0   \n",
      "1  5/17/2014     ST_S0               1  15.931554  70.989733       MS_S1   \n",
      "2  5/15/2014     ST_S0               1  15.937029  87.578371       MS_S2   \n",
      "3  5/16/2014     ST_S1               1  15.934292  68.438056       MS_S2   \n",
      "4  5/20/2014     ST_S0               1  15.501711  80.514716       MS_S0   \n",
      "\n",
      "  GENDER  CHANNEL1_6M  CHANNEL2_6M  CHANNEL3_6M     ...       METHOD1_3M  \\\n",
      "0      F          0.0          0.0          1.0     ...                0   \n",
      "1      F          0.0          6.0          0.0     ...                3   \n",
      "2      M          0.0          0.0         10.0     ...                0   \n",
      "3      M          0.0          0.0          1.0     ...                0   \n",
      "4      F          0.0          0.0          1.0     ...                0   \n",
      "\n",
      "   PAYMENTS_3M  NOT_DI_3M  NOT_DI_6M  EVENT1_30_FLAG  EVENT2_90_SUM  LOGINS  \\\n",
      "0            3          0          0               0              0       0   \n",
      "1            3          0          0               0              0       0   \n",
      "2            6          0          0               0              0       0   \n",
      "3            0          0          0               0              0       0   \n",
      "4            1          0          0               0              0       0   \n",
      "\n",
      "   POLICYPURCHASECHANNEL  Call_Flag  Day_of_Week  \n",
      "0                      0          0       Monday  \n",
      "1                      0          0     Saturday  \n",
      "2                      0          0     Thursday  \n",
      "3                      1          0       Friday  \n",
      "4                      0          0      Tuesday  \n",
      "\n",
      "[5 rows x 30 columns]\n"
     ]
    }
   ],
   "source": [
    "print(df.head())"
   ]
  },
  {
   "cell_type": "code",
   "execution_count": 28,
   "metadata": {},
   "outputs": [],
   "source": [
    "Colnames = list(df.columns)"
   ]
  },
  {
   "cell_type": "code",
   "execution_count": 31,
   "metadata": {},
   "outputs": [
    {
     "name": "stdout",
     "output_type": "stream",
     "text": [
      "DATE_FOR               5/13/2014     15254.0\n",
      "                       5/14/2014     16884.0\n",
      "                       5/15/2014     16624.0\n",
      "                       5/16/2014     16570.0\n",
      "                       5/17/2014     16053.0\n",
      "                       5/18/2014     17002.0\n",
      "                       5/19/2014     16704.0\n",
      "                       5/20/2014     14995.0\n",
      "RTD_ST_CD              ST_S0          8512.0\n",
      "                       ST_S1          1151.0\n",
      "                       ST_S10         1164.0\n",
      "                       ST_S11         4258.0\n",
      "                       ST_S12         2270.0\n",
      "                       ST_S13          934.0\n",
      "                       ST_S14         7690.0\n",
      "                       ST_S15          615.0\n",
      "                       ST_S16         3034.0\n",
      "                       ST_S17          949.0\n",
      "                       ST_S18          544.0\n",
      "                       ST_S19          724.0\n",
      "                       ST_S2          1920.0\n",
      "                       ST_S20         2427.0\n",
      "                       ST_S21         1316.0\n",
      "                       ST_S22         5691.0\n",
      "                       ST_S23          438.0\n",
      "                       ST_S24         1660.0\n",
      "                       ST_S25         2635.0\n",
      "                       ST_S26          315.0\n",
      "                       ST_S27          547.0\n",
      "                       ST_S28          710.0\n",
      "                                      ...   \n",
      "                       ST_S7         24475.0\n",
      "                       ST_S8          1044.0\n",
      "                       ST_S9         18834.0\n",
      "CustomerSegment        1             95885.0\n",
      "                       2             25434.0\n",
      "                       3              5065.0\n",
      "                       NONE           3702.0\n",
      "MART_STATUS            MS_S0          4853.0\n",
      "                       MS_S1         45717.0\n",
      "                       MS_S2         58164.0\n",
      "                       MS_S3         13446.0\n",
      "                       MS_S4          7906.0\n",
      "GENDER                 F             60177.0\n",
      "                       M             69909.0\n",
      "RECENT_PAYMENT         0.0          116424.0\n",
      "                       1.0           13662.0\n",
      "NOT_DI_3M              0.0          122844.0\n",
      "                       1.0            7242.0\n",
      "NOT_DI_6M              0.0          119678.0\n",
      "                       1.0           10408.0\n",
      "EVENT1_30_FLAG         0.0          130086.0\n",
      "POLICYPURCHASECHANNEL  0.0          113087.0\n",
      "                       1.0           16999.0\n",
      "Day_of_Week            Tuesday       30249.0\n",
      "                       Sunday        17002.0\n",
      "                       Wednesday     16884.0\n",
      "                       Monday        16704.0\n",
      "                       Thursday      16624.0\n",
      "                       Friday        16570.0\n",
      "                       Saturday      16053.0\n",
      "Length: 86, dtype: float64\n"
     ]
    }
   ],
   "source": [
    "cat_cols = ['DATE_FOR','RTD_ST_CD','CustomerSegment','MART_STATUS','GENDER','RECENT_PAYMENT','NOT_DI_3M','NOT_DI_6M', 'EVENT1_30_FLAG',\n",
    " 'POLICYPURCHASECHANNEL','Day_of_Week']\n",
    "df_cat = df[cat_cols]\n",
    "df_cat.isnull().sum()\n",
    "print(df_cat.apply(lambda x: x.value_counts()).T.stack())"
   ]
  },
  {
   "cell_type": "code",
   "execution_count": 32,
   "metadata": {},
   "outputs": [
    {
     "data": {
      "text/html": [
       "<div>\n",
       "<style scoped>\n",
       "    .dataframe tbody tr th:only-of-type {\n",
       "        vertical-align: middle;\n",
       "    }\n",
       "\n",
       "    .dataframe tbody tr th {\n",
       "        vertical-align: top;\n",
       "    }\n",
       "\n",
       "    .dataframe thead th {\n",
       "        text-align: right;\n",
       "    }\n",
       "</style>\n",
       "<table border=\"1\" class=\"dataframe\">\n",
       "  <thead>\n",
       "    <tr style=\"text-align: right;\">\n",
       "      <th></th>\n",
       "      <th>DATE_FOR</th>\n",
       "      <th>RTD_ST_CD</th>\n",
       "      <th>CustomerSegment</th>\n",
       "      <th>Tenure</th>\n",
       "      <th>Age</th>\n",
       "      <th>MART_STATUS</th>\n",
       "      <th>GENDER</th>\n",
       "      <th>CHANNEL1_6M</th>\n",
       "      <th>CHANNEL2_6M</th>\n",
       "      <th>CHANNEL3_6M</th>\n",
       "      <th>...</th>\n",
       "      <th>CHANNEL5_3M</th>\n",
       "      <th>METHOD1_3M</th>\n",
       "      <th>PAYMENTS_3M</th>\n",
       "      <th>NOT_DI_3M</th>\n",
       "      <th>NOT_DI_6M</th>\n",
       "      <th>EVENT2_90_SUM</th>\n",
       "      <th>LOGINS</th>\n",
       "      <th>POLICYPURCHASECHANNEL</th>\n",
       "      <th>Call_Flag</th>\n",
       "      <th>Day_of_Week</th>\n",
       "    </tr>\n",
       "  </thead>\n",
       "  <tbody>\n",
       "    <tr>\n",
       "      <th>0</th>\n",
       "      <td>5/19/2014</td>\n",
       "      <td>ST_S0</td>\n",
       "      <td>1</td>\n",
       "      <td>16.175222</td>\n",
       "      <td>78.403833</td>\n",
       "      <td>MS_S0</td>\n",
       "      <td>F</td>\n",
       "      <td>0.0</td>\n",
       "      <td>0.0</td>\n",
       "      <td>1.0</td>\n",
       "      <td>...</td>\n",
       "      <td>2</td>\n",
       "      <td>0</td>\n",
       "      <td>3</td>\n",
       "      <td>0</td>\n",
       "      <td>0</td>\n",
       "      <td>0</td>\n",
       "      <td>0</td>\n",
       "      <td>0</td>\n",
       "      <td>0</td>\n",
       "      <td>Monday</td>\n",
       "    </tr>\n",
       "    <tr>\n",
       "      <th>1</th>\n",
       "      <td>5/17/2014</td>\n",
       "      <td>ST_S0</td>\n",
       "      <td>1</td>\n",
       "      <td>15.931554</td>\n",
       "      <td>70.989733</td>\n",
       "      <td>MS_S1</td>\n",
       "      <td>F</td>\n",
       "      <td>0.0</td>\n",
       "      <td>6.0</td>\n",
       "      <td>0.0</td>\n",
       "      <td>...</td>\n",
       "      <td>0</td>\n",
       "      <td>3</td>\n",
       "      <td>3</td>\n",
       "      <td>0</td>\n",
       "      <td>0</td>\n",
       "      <td>0</td>\n",
       "      <td>0</td>\n",
       "      <td>0</td>\n",
       "      <td>0</td>\n",
       "      <td>Saturday</td>\n",
       "    </tr>\n",
       "    <tr>\n",
       "      <th>2</th>\n",
       "      <td>5/15/2014</td>\n",
       "      <td>ST_S0</td>\n",
       "      <td>1</td>\n",
       "      <td>15.937029</td>\n",
       "      <td>87.578371</td>\n",
       "      <td>MS_S2</td>\n",
       "      <td>M</td>\n",
       "      <td>0.0</td>\n",
       "      <td>0.0</td>\n",
       "      <td>10.0</td>\n",
       "      <td>...</td>\n",
       "      <td>0</td>\n",
       "      <td>0</td>\n",
       "      <td>6</td>\n",
       "      <td>0</td>\n",
       "      <td>0</td>\n",
       "      <td>0</td>\n",
       "      <td>0</td>\n",
       "      <td>0</td>\n",
       "      <td>0</td>\n",
       "      <td>Thursday</td>\n",
       "    </tr>\n",
       "    <tr>\n",
       "      <th>3</th>\n",
       "      <td>5/16/2014</td>\n",
       "      <td>ST_S1</td>\n",
       "      <td>1</td>\n",
       "      <td>15.934292</td>\n",
       "      <td>68.438056</td>\n",
       "      <td>MS_S2</td>\n",
       "      <td>M</td>\n",
       "      <td>0.0</td>\n",
       "      <td>0.0</td>\n",
       "      <td>1.0</td>\n",
       "      <td>...</td>\n",
       "      <td>0</td>\n",
       "      <td>0</td>\n",
       "      <td>0</td>\n",
       "      <td>0</td>\n",
       "      <td>0</td>\n",
       "      <td>0</td>\n",
       "      <td>0</td>\n",
       "      <td>1</td>\n",
       "      <td>0</td>\n",
       "      <td>Friday</td>\n",
       "    </tr>\n",
       "    <tr>\n",
       "      <th>4</th>\n",
       "      <td>5/20/2014</td>\n",
       "      <td>ST_S0</td>\n",
       "      <td>1</td>\n",
       "      <td>15.501711</td>\n",
       "      <td>80.514716</td>\n",
       "      <td>MS_S0</td>\n",
       "      <td>F</td>\n",
       "      <td>0.0</td>\n",
       "      <td>0.0</td>\n",
       "      <td>1.0</td>\n",
       "      <td>...</td>\n",
       "      <td>0</td>\n",
       "      <td>0</td>\n",
       "      <td>1</td>\n",
       "      <td>0</td>\n",
       "      <td>0</td>\n",
       "      <td>0</td>\n",
       "      <td>0</td>\n",
       "      <td>0</td>\n",
       "      <td>0</td>\n",
       "      <td>Tuesday</td>\n",
       "    </tr>\n",
       "  </tbody>\n",
       "</table>\n",
       "<p>5 rows × 29 columns</p>\n",
       "</div>"
      ],
      "text/plain": [
       "    DATE_FOR RTD_ST_CD CustomerSegment     Tenure        Age MART_STATUS  \\\n",
       "0  5/19/2014     ST_S0               1  16.175222  78.403833       MS_S0   \n",
       "1  5/17/2014     ST_S0               1  15.931554  70.989733       MS_S1   \n",
       "2  5/15/2014     ST_S0               1  15.937029  87.578371       MS_S2   \n",
       "3  5/16/2014     ST_S1               1  15.934292  68.438056       MS_S2   \n",
       "4  5/20/2014     ST_S0               1  15.501711  80.514716       MS_S0   \n",
       "\n",
       "  GENDER  CHANNEL1_6M  CHANNEL2_6M  CHANNEL3_6M     ...       CHANNEL5_3M  \\\n",
       "0      F          0.0          0.0          1.0     ...                 2   \n",
       "1      F          0.0          6.0          0.0     ...                 0   \n",
       "2      M          0.0          0.0         10.0     ...                 0   \n",
       "3      M          0.0          0.0          1.0     ...                 0   \n",
       "4      F          0.0          0.0          1.0     ...                 0   \n",
       "\n",
       "   METHOD1_3M  PAYMENTS_3M  NOT_DI_3M  NOT_DI_6M  EVENT2_90_SUM  LOGINS  \\\n",
       "0           0            3          0          0              0       0   \n",
       "1           3            3          0          0              0       0   \n",
       "2           0            6          0          0              0       0   \n",
       "3           0            0          0          0              0       0   \n",
       "4           0            1          0          0              0       0   \n",
       "\n",
       "   POLICYPURCHASECHANNEL  Call_Flag  Day_of_Week  \n",
       "0                      0          0       Monday  \n",
       "1                      0          0     Saturday  \n",
       "2                      0          0     Thursday  \n",
       "3                      1          0       Friday  \n",
       "4                      0          0      Tuesday  \n",
       "\n",
       "[5 rows x 29 columns]"
      ]
     },
     "execution_count": 32,
     "metadata": {},
     "output_type": "execute_result"
    }
   ],
   "source": [
    "df = df.drop(['EVENT1_30_FLAG'], axis=1)\n",
    "df.head()"
   ]
  },
  {
   "cell_type": "code",
   "execution_count": 35,
   "metadata": {},
   "outputs": [
    {
     "name": "stdout",
     "output_type": "stream",
     "text": [
      "(130086, 104)\n"
     ]
    }
   ],
   "source": [
    "cat_cols.remove('EVENT1_30_FLAG')\n",
    "df_final = pd.get_dummies(df, columns=cat_cols)\n",
    "df_final.columns\n",
    "print(df_final.shape)"
   ]
  },
  {
   "cell_type": "code",
   "execution_count": 37,
   "metadata": {},
   "outputs": [
    {
     "data": {
      "text/plain": [
       "array([[<matplotlib.axes._subplots.AxesSubplot object at 0x000002AA6304D6A0>]],\n",
       "      dtype=object)"
      ]
     },
     "execution_count": 37,
     "metadata": {},
     "output_type": "execute_result"
    },
    {
     "data": {
      "image/png": "[encoded data removed]",
      "text/plain": [
       "<Figure size 432x288 with 1 Axes>"
      ]
     },
     "metadata": {
      "needs_background": "light"
     },
     "output_type": "display_data"
    }
   ],
   "source": [
    "df_final.hist(column='Call_Flag')"
   ]
  },
  {
   "cell_type": "code",
   "execution_count": 38,
   "metadata": {},
   "outputs": [],
   "source": [
    "random.seed(42)\n",
    "train, test = train_test_split(df_final, test_size=0.20, stratify=df_final['Call_Flag']) "
   ]
  },
  {
   "cell_type": "code",
   "execution_count": 39,
   "metadata": {},
   "outputs": [
    {
     "name": "stdout",
     "output_type": "stream",
     "text": [
      "[[<matplotlib.axes._subplots.AxesSubplot object at 0x000002AA6323BCC0>]]\n"
     ]
    },
    {
     "data": {
      "image/png": "[encoded data removed]",
      "text/plain": [
       "<Figure size 432x288 with 1 Axes>"
      ]
     },
     "metadata": {
      "needs_background": "light"
     },
     "output_type": "display_data"
    }
   ],
   "source": [
    "#Oversampling to handle imbalanced data\n",
    "from sklearn.utils import resample\n",
    "train_majority = train[train[\"Call_Flag\"] == 0]\n",
    "train_minority = train[train[\"Call_Flag\"] == 1]\n",
    "train_minority_upsampled = resample(train_minority, \n",
    "                                 replace=True,     \n",
    "                                 n_samples=50000,    \n",
    "                                 random_state=42) \n",
    "df_train = pd.concat([train_majority, train_minority_upsampled])\n",
    "\n",
    " \n",
    "# Display new class counts\n",
    "print (df_train.hist(column='Call_Flag'))\n"
   ]
  },
  {
   "cell_type": "code",
   "execution_count": 40,
   "metadata": {},
   "outputs": [],
   "source": [
    "X = df_train.drop(['Call_Flag'], axis=1)\n",
    "y = df_train['Call_Flag'].values"
   ]
  },
  {
   "cell_type": "markdown",
   "metadata": {
    "_cell_guid": "f170e597-98b9-4e93-aa84-c2e358d8b88c",
    "_uuid": "5e5dd068cbcdbfcb6f7bdbcee839f60547be71fb"
   },
   "source": [
    "Let's set up a parameter grid that will be explored during the search. Note that you can use fewer parameters and fewer options for each parameter. Same goes for more parameter and more options if you want to be very thorough. Also, you can plug in any other ML method instead of XGBoost and search for its optimal parameters."
   ]
  },
  {
   "cell_type": "code",
   "execution_count": 41,
   "metadata": {
    "_cell_guid": "2e8333f1-3d62-40e6-9238-d39f6ce30b4b",
    "_uuid": "920ed200eb1a69250c41cbe57f2fac449e72bc11"
   },
   "outputs": [],
   "source": [
    "# A parameter grid for XGBoost\n",
    "params = {\n",
    "        'min_child_weight': [1, 5, 10],\n",
    "        'gamma': [0.5, 1, 1.5, 2, 5],\n",
    "        'subsample': [0.6, 0.8, 1.0],\n",
    "        'colsample_bytree': [0.6, 0.8, 1.0],\n",
    "        'max_depth': [3, 4, 5, 6, 8, 9, 10, 15],\n",
    "        'learning_rate':[0.001,0.01,0.1,0.2,0.5,0.9],\n",
    "        'n_estimators':[50,100,200,300,400,500,600,700,800,900,1000]\n",
    "        }"
   ]
  },
  {
   "cell_type": "markdown",
   "metadata": {
    "_cell_guid": "853541a7-f638-4071-8d32-983415b4f726",
    "_uuid": "019960cb5c26ef6191a495f8fc23297f78a8bf86"
   },
   "source": [
    "A total number of combinations for the set of parameters above is a product of options for each parameter (3 x 5 x 3 x 3 x 3 = 405). It also needs to be multiplied by 5 to calculate a total number of data-fitting runs as we will be doing 5-fold cross-validation. That gets to be a large number in a hurry if you are using many parameters and lots of options, which is why **brute-force grid search takes a long time**.\n",
    "\n",
    "Next we set up our classifier. We use sklearn's API of XGBoost as that is a requirement for grid search (another reason why Bayesian optimization may be preferable, as it does not need to be sklearn-wrapped). You should consider setting a learning rate to smaller value (at least 0.01, if not even lower), or make it a hyperparameter for grid searching. I am not using very small value here to save on running time. \n",
    "\n",
    "*Even though we have 4 threads available per job on Kaggle, I think it is more efficient to do XGBoost runs on single threads, but instead run 4 parallel jobs in the grid search. It's up to you whether you want to change this.*"
   ]
  },
  {
   "cell_type": "code",
   "execution_count": 42,
   "metadata": {
    "_cell_guid": "14fe1366-f429-4168-886f-69e59d0efcf0",
    "_uuid": "9a51f0a5ca0e0598210798d3e0b3a83af89f10c0"
   },
   "outputs": [],
   "source": [
    "xgb = XGBClassifier(objective='binary:logistic',silent=True, nthread=4)"
   ]
  },
  {
   "cell_type": "markdown",
   "metadata": {
    "_cell_guid": "92dad863-2918-4e4b-aef2-9395b70edebd",
    "_uuid": "966cae216288e8f4c257e39839057cfca917daf5"
   },
   "source": [
    "Next we set up our stratified folds and grid search parameters. I am using AUC as a scoring function, but you can plug in a custom scoring function here if you wish. Grid search wil spawn 4 jobs running a single thread each. The param_comb parameter declares how many different combinations should be picked randomly out of our total (405, see above). I am doing only 5 here, knowing that it will not properly sample the parameter space. Definitely use a bigger number for param_comb.\n",
    "\n",
    "*You may want to increase/decrease verbosity depending on your preference.*\n",
    "\n",
    "**Note that I have set the number of splits/folds to 3 in order to save time. You should probably put 5 there to get a more reliable result.**"
   ]
  },
  {
   "cell_type": "code",
   "execution_count": 99,
   "metadata": {
    "_cell_guid": "4b481813-a095-4a86-b8a2-c12938ed1797",
    "_uuid": "b98b6859ae1dcccfa0e0a37123f57e41390c9995"
   },
   "outputs": [
    {
     "name": "stdout",
     "output_type": "stream",
     "text": [
      "Fitting 10 folds for each of 10 candidates, totalling 100 fits\n"
     ]
    },
    {
     "name": "stderr",
     "output_type": "stream",
     "text": [
      "[Parallel(n_jobs=6)]: Done  20 tasks      | elapsed:  8.9min\n",
      "[Parallel(n_jobs=6)]: Done 100 out of 100 | elapsed: 96.0min finished\n"
     ]
    },
    {
     "name": "stdout",
     "output_type": "stream",
     "text": [
      "\n",
      " Time taken: 1 hours 37 minutes and 12.76 seconds.\n"
     ]
    }
   ],
   "source": [
    "folds = 5\n",
    "param_comb = 10\n",
    "\n",
    "skf = StratifiedKFold(n_splits=folds, shuffle = True, random_state = 42)\n",
    "\n",
    "random_search = RandomizedSearchCV(xgb, param_distributions=params, n_iter=param_comb, scoring='roc_auc', n_jobs=4, cv=skf.split(X, y), verbose=3, random_state=42 )\n",
    "\n",
    "# Here we go\n",
    "start_time = timer(None) # timing starts from this point for \"start_time\" variable\n",
    "random_search.fit(X, y)\n",
    "timer(start_time) # timing ends here for \"start_time\" variable\n"
   ]
  },
  {
   "cell_type": "markdown",
   "metadata": {
    "_cell_guid": "a842a4db-3128-451c-bf9a-f7b37eeb19f4",
    "_uuid": "f87de8a533c18505b1eec99a70c6d50ef7bc29d3"
   },
   "source": [
    "You can actually follow along as the search goes on. To convert to normalized gini, multiply the obtained AUC values by 2 and subtract 1.\n",
    "\n",
    "Let's print the grid-search results and save them in a file."
   ]
  },
  {
   "cell_type": "code",
   "execution_count": 100,
   "metadata": {
    "_cell_guid": "26a88219-7efb-4c8a-91cf-76efc3f5a026",
    "_uuid": "d09f09d16566bba47b69330ba54c7ed294e4a559"
   },
   "outputs": [
    {
     "name": "stdout",
     "output_type": "stream",
     "text": [
      "\n",
      " All results:\n",
      "{'mean_fit_time': array([ 155.23349516,   97.36068215,  332.10148673,  330.90046098,\n",
      "        221.85571373,   82.53232961,  584.05919492, 1347.35729268,\n",
      "        130.48222103,   78.60447502]), 'std_fit_time': array([42.62785233,  6.7352356 , 15.02425687,  9.00431092, 11.9339866 ,\n",
      "        1.75983031, 49.96187975, 80.26684183,  6.40779998,  1.97542057]), 'mean_score_time': array([0.41558824, 0.38965821, 0.46026959, 0.43364005, 0.43852839,\n",
      "       0.37699151, 0.64058795, 0.62183816, 0.46944547, 0.50115955]), 'std_score_time': array([0.11026388, 0.0306848 , 0.04296267, 0.04667861, 0.0945344 ,\n",
      "       0.07137161, 0.20276249, 0.21688894, 0.06826103, 0.04925341]), 'param_subsample': masked_array(data=[0.8, 1.0, 1.0, 0.8, 0.6, 0.8, 0.8, 0.8, 0.8, 0.8],\n",
      "             mask=[False, False, False, False, False, False, False, False,\n",
      "                   False, False],\n",
      "       fill_value='?',\n",
      "            dtype=object), 'param_n_estimators': masked_array(data=[100, 200, 600, 600, 200, 100, 400, 1000, 100, 100],\n",
      "             mask=[False, False, False, False, False, False, False, False,\n",
      "                   False, False],\n",
      "       fill_value='?',\n",
      "            dtype=object), 'param_min_child_weight': masked_array(data=[5, 10, 10, 1, 5, 10, 1, 1, 5, 10],\n",
      "             mask=[False, False, False, False, False, False, False, False,\n",
      "                   False, False],\n",
      "       fill_value='?',\n",
      "            dtype=object), 'param_max_depth': masked_array(data=[5, 3, 3, 3, 5, 4, 4, 5, 5, 3],\n",
      "             mask=[False, False, False, False, False, False, False, False,\n",
      "                   False, False],\n",
      "       fill_value='?',\n",
      "            dtype=object), 'param_learning_rate': masked_array(data=[0.02, 0.9, 0.01, 0.1, 0.01, 0.02, 0.9, 0.01, 0.1, 0.1],\n",
      "             mask=[False, False, False, False, False, False, False, False,\n",
      "                   False, False],\n",
      "       fill_value='?',\n",
      "            dtype=object), 'param_gamma': masked_array(data=[2, 1, 1, 1, 5, 2, 1.5, 1.5, 0.5, 0.5],\n",
      "             mask=[False, False, False, False, False, False, False, False,\n",
      "                   False, False],\n",
      "       fill_value='?',\n",
      "            dtype=object), 'param_colsample_bytree': masked_array(data=[0.8, 0.6, 0.8, 0.8, 1.0, 1.0, 0.8, 0.8, 0.6, 0.8],\n",
      "             mask=[False, False, False, False, False, False, False, False,\n",
      "                   False, False],\n",
      "       fill_value='?',\n",
      "            dtype=object), 'params': [{'subsample': 0.8, 'n_estimators': 100, 'min_child_weight': 5, 'max_depth': 5, 'learning_rate': 0.02, 'gamma': 2, 'colsample_bytree': 0.8}, {'subsample': 1.0, 'n_estimators': 200, 'min_child_weight': 10, 'max_depth': 3, 'learning_rate': 0.9, 'gamma': 1, 'colsample_bytree': 0.6}, {'subsample': 1.0, 'n_estimators': 600, 'min_child_weight': 10, 'max_depth': 3, 'learning_rate': 0.01, 'gamma': 1, 'colsample_bytree': 0.8}, {'subsample': 0.8, 'n_estimators': 600, 'min_child_weight': 1, 'max_depth': 3, 'learning_rate': 0.1, 'gamma': 1, 'colsample_bytree': 0.8}, {'subsample': 0.6, 'n_estimators': 200, 'min_child_weight': 5, 'max_depth': 5, 'learning_rate': 0.01, 'gamma': 5, 'colsample_bytree': 1.0}, {'subsample': 0.8, 'n_estimators': 100, 'min_child_weight': 10, 'max_depth': 4, 'learning_rate': 0.02, 'gamma': 2, 'colsample_bytree': 1.0}, {'subsample': 0.8, 'n_estimators': 400, 'min_child_weight': 1, 'max_depth': 4, 'learning_rate': 0.9, 'gamma': 1.5, 'colsample_bytree': 0.8}, {'subsample': 0.8, 'n_estimators': 1000, 'min_child_weight': 1, 'max_depth': 5, 'learning_rate': 0.01, 'gamma': 1.5, 'colsample_bytree': 0.8}, {'subsample': 0.8, 'n_estimators': 100, 'min_child_weight': 5, 'max_depth': 5, 'learning_rate': 0.1, 'gamma': 0.5, 'colsample_bytree': 0.6}, {'subsample': 0.8, 'n_estimators': 100, 'min_child_weight': 10, 'max_depth': 3, 'learning_rate': 0.1, 'gamma': 0.5, 'colsample_bytree': 0.8}], 'split0_test_score': array([0.87810425, 0.92398766, 0.87275884, 0.9080022 , 0.87701475,\n",
      "       0.86893389, 0.98035684, 0.90205951, 0.89987916, 0.87829752]), 'split1_test_score': array([0.87670299, 0.9237153 , 0.87152249, 0.90565766, 0.87489545,\n",
      "       0.86620405, 0.98182792, 0.90119611, 0.89773565, 0.87586218]), 'split2_test_score': array([0.8805477 , 0.92612721, 0.87647051, 0.91029352, 0.87857782,\n",
      "       0.87035678, 0.98110897, 0.90492682, 0.90291345, 0.88149308]), 'split3_test_score': array([0.87646033, 0.92222435, 0.8716814 , 0.9061828 , 0.87555397,\n",
      "       0.86792753, 0.97951223, 0.90061008, 0.89777813, 0.87677642]), 'split4_test_score': array([0.87885214, 0.92570263, 0.87605144, 0.90881156, 0.87713432,\n",
      "       0.87128963, 0.97807526, 0.90386204, 0.9004749 , 0.88044942]), 'split5_test_score': array([0.87752351, 0.92524782, 0.87226567, 0.90897539, 0.87621659,\n",
      "       0.86768937, 0.98159579, 0.90222865, 0.90010049, 0.87821472]), 'split6_test_score': array([0.88269811, 0.92680356, 0.87801917, 0.91325629, 0.88149483,\n",
      "       0.87344693, 0.98121792, 0.90707139, 0.90381559, 0.88323729]), 'split7_test_score': array([0.87746324, 0.92256537, 0.87395953, 0.90855948, 0.87649062,\n",
      "       0.86858679, 0.98035088, 0.90316216, 0.89957196, 0.87925671]), 'split8_test_score': array([0.87587045, 0.92181015, 0.87167812, 0.90816652, 0.87433902,\n",
      "       0.86604265, 0.97994739, 0.90123472, 0.89868579, 0.87753796]), 'split9_test_score': array([0.87705556, 0.92510683, 0.8728299 , 0.90825349, 0.87608082,\n",
      "       0.86805299, 0.98066223, 0.9018555 , 0.8994678 , 0.87781408]), 'mean_test_score': array([0.87812783, 0.92432908, 0.8737237 , 0.90861588, 0.87677982,\n",
      "       0.86885306, 0.98046554, 0.90282069, 0.90004229, 0.87889393]), 'std_test_score': array([0.00197816, 0.00164531, 0.00220286, 0.00199748, 0.00193766,\n",
      "       0.0021713 , 0.00105204, 0.00188701, 0.00188512, 0.00213701]), 'rank_test_score': array([ 7,  2,  9,  3,  8, 10,  1,  4,  5,  6]), 'split0_train_score': array([0.87949382, 0.93286725, 0.87468688, 0.91390013, 0.87845287,\n",
      "       0.86960348, 0.9910058 , 0.90720949, 0.9040142 , 0.88042264]), 'split1_train_score': array([0.88011041, 0.93395748, 0.87502718, 0.91455125, 0.87891958,\n",
      "       0.8698872 , 0.9916003 , 0.90754526, 0.90418776, 0.88043632]), 'split2_train_score': array([0.87962761, 0.93322873, 0.87448412, 0.91359081, 0.87810759,\n",
      "       0.86946061, 0.99124702, 0.90720552, 0.90434689, 0.88024632]), 'split3_train_score': array([0.88001026, 0.93287712, 0.87508691, 0.91428168, 0.87864142,\n",
      "       0.86997508, 0.99133626, 0.90739747, 0.90445208, 0.88082677]), 'split4_train_score': array([0.87982635, 0.93380548, 0.87470937, 0.91401987, 0.87849414,\n",
      "       0.87036891, 0.99103537, 0.90741602, 0.90343937, 0.88003421]), 'split5_train_score': array([0.8799229 , 0.93334038, 0.87467121, 0.91420598, 0.87876057,\n",
      "       0.87016287, 0.99131892, 0.90744653, 0.90437392, 0.88065035]), 'split6_train_score': array([0.87960974, 0.93378523, 0.87418556, 0.9136982 , 0.8779559 ,\n",
      "       0.86909701, 0.99131959, 0.90691627, 0.90359082, 0.8798346 ]), 'split7_train_score': array([0.87994588, 0.93352382, 0.8748314 , 0.91390077, 0.87866173,\n",
      "       0.86990697, 0.99102821, 0.90730932, 0.9040102 , 0.8804282 ]), 'split8_train_score': array([0.88021527, 0.93301752, 0.87492769, 0.9137998 , 0.87894308,\n",
      "       0.87011217, 0.99137191, 0.9071861 , 0.90399775, 0.88060361]), 'split9_train_score': array([0.88004248, 0.93454456, 0.87483851, 0.91448967, 0.87879463,\n",
      "       0.87012354, 0.99166748, 0.90743159, 0.90390324, 0.88048933]), 'mean_train_score': array([0.87988047, 0.93349476, 0.87474488, 0.91404381, 0.87857315,\n",
      "       0.86986978, 0.99129309, 0.90730636, 0.90403162, 0.88039724]), 'std_train_score': array([0.00022445, 0.00050947, 0.00025244, 0.00031065, 0.00031177,\n",
      "       0.00036145, 0.00021569, 0.00017289, 0.00031324, 0.00027819])}\n",
      "\n",
      " Best estimator:\n",
      "XGBClassifier(base_score=0.5, booster='gbtree', colsample_bylevel=1,\n",
      "       colsample_bynode=1, colsample_bytree=0.8, gamma=1.5,\n",
      "       learning_rate=0.9, max_delta_step=0, max_depth=4,\n",
      "       min_child_weight=1, missing=None, n_estimators=400, n_jobs=1,\n",
      "       nthread=6, objective='binary:logistic', random_state=0, reg_alpha=0,\n",
      "       reg_lambda=1, scale_pos_weight=1, seed=None, silent=True,\n",
      "       subsample=0.8, verbosity=1)\n",
      "\n",
      " Best normalized gini score for 10-fold search with 10 parameter combinations:\n",
      "0.9609310832115032\n",
      "\n",
      " Best hyperparameters:\n",
      "{'subsample': 0.8, 'n_estimators': 400, 'min_child_weight': 1, 'max_depth': 4, 'learning_rate': 0.9, 'gamma': 1.5, 'colsample_bytree': 0.8}\n"
     ]
    }
   ],
   "source": [
    "print('\\n All results:')\n",
    "print(random_search.cv_results_)\n",
    "print('\\n Best estimator:')\n",
    "print(random_search.best_estimator_)\n",
    "print('\\n Best normalized gini score for %d-fold search with %d parameter combinations:' % (folds, param_comb))\n",
    "print(random_search.best_score_ * 2 - 1)\n",
    "print('\\n Best hyperparameters:')\n",
    "print(random_search.best_params_)\n",
    "results = pd.DataFrame(random_search.cv_results_)\n",
    "results.to_csv('xgb-random-grid-search-results-01.csv', index=False)\n"
   ]
  },
  {
   "cell_type": "markdown",
   "metadata": {
    "_cell_guid": "6447f3d0-5ef3-4839-8fb4-cd099909fb65",
    "_uuid": "ecbe97acf379f9a442f7b6bfc111d5c1e5bac161"
   },
   "source": [
    "Not surprisingly, this search does not produce a great score because of 3-fold validation and limited parameter sampling.\n",
    "\n",
    "Lastly, let's make a prediction based on best parameters found during the search."
   ]
  },
  {
   "cell_type": "code",
   "execution_count": 101,
   "metadata": {},
   "outputs": [],
   "source": [
    "X_test = test.drop(['Call_Flag'], axis=1)\n",
    "y_test = test['Call_Flag'].values"
   ]
  },
  {
   "cell_type": "code",
   "execution_count": 102,
   "metadata": {
    "_cell_guid": "f185d719-25b1-4dc3-a1f1-3cea218f3967",
    "_uuid": "2174c78da609042833528bfb430d1babffa502a2"
   },
   "outputs": [
    {
     "data": {
      "text/plain": [
       "array([0, 0, 0, ..., 1, 0, 0], dtype=int64)"
      ]
     },
     "execution_count": 102,
     "metadata": {},
     "output_type": "execute_result"
    }
   ],
   "source": [
    "y_predict = random_search.predict(X_test)\n",
    "y_predict_probs = random_search.predict_proba(X_test)"
   ]
  },
  {
   "cell_type": "code",
   "execution_count": 103,
   "metadata": {},
   "outputs": [
    {
     "name": "stdout",
     "output_type": "stream",
     "text": [
      "             precision    recall  f1-score   support\n",
      "\n",
      "          0       0.97      0.95      0.96     24911\n",
      "          1       0.20      0.36      0.26       945\n",
      "\n",
      "avg / total       0.95      0.92      0.93     25856\n",
      "\n"
     ]
    }
   ],
   "source": [
    "from sklearn.metrics import classification_report\n",
    "target_names = ['0', '1']\n",
    "print(classification_report(y_test, y_predict, target_names=target_names))"
   ]
  },
  {
   "cell_type": "code",
   "execution_count": null,
   "metadata": {},
   "outputs": [],
   "source": [
    "from sklearn.metrics import roc_auc_score\n",
    "\n",
    "# Calculate roc auc\n",
    "roc_value = roc_auc_score(y_test, y_predict_probs[:, 1])\n",
    "roc_value"
   ]
  },
  {
   "cell_type": "code",
   "execution_count": null,
   "metadata": {},
   "outputs": [],
   "source": [
    "from matplotlib import pyplot as plt\n",
    "from sklearn.metrics import roc_auc_score\n",
    "from sklearn.metrics import roc_curve\n",
    "RF_roc_auc = roc_auc_score(y_test, y_predict)\n",
    "fpr, tpr, thresholds = roc_curve(y_test, y_predict)\n",
    "plt.figure()\n",
    "plt.plot(fpr, tpr, label='Random Forest (area = %0.2f)' % roc_value)\n",
    "plt.plot([0, 1], [0, 1],'r--')\n",
    "plt.xlim([0.0, 1.0])\n",
    "plt.ylim([0.0, 1.05])\n",
    "plt.xlabel('False Positive Rate')\n",
    "plt.ylabel('True Positive Rate')\n",
    "plt.title('Receiver operating characteristic')\n",
    "plt.legend(loc=\"lower right\")\n",
    "plt.savefig('xgboost with Resampling_ROC')\n",
    "plt.show()"
   ]
  },
  {
   "cell_type": "code",
   "execution_count": 40,
   "metadata": {},
   "outputs": [
    {
     "ename": "NameError",
     "evalue": "name 'y_test' is not defined",
     "output_type": "error",
     "traceback": [
      "\u001b[1;31m---------------------------------------------------------------------------\u001b[0m",
      "\u001b[1;31mNameError\u001b[0m                                 Traceback (most recent call last)",
      "\u001b[1;32m<ipython-input-40-a4a19b0efb1d>\u001b[0m in \u001b[0;36m<module>\u001b[1;34m\u001b[0m\n\u001b[0;32m      1\u001b[0m \u001b[1;32mfrom\u001b[0m \u001b[0msklearn\u001b[0m\u001b[1;33m.\u001b[0m\u001b[0mmetrics\u001b[0m \u001b[1;32mimport\u001b[0m \u001b[0mconfusion_matrix\u001b[0m\u001b[1;33m\u001b[0m\u001b[0m\n\u001b[1;32m----> 2\u001b[1;33m \u001b[0mconfusion_matrix\u001b[0m\u001b[1;33m(\u001b[0m\u001b[0my_test\u001b[0m\u001b[1;33m,\u001b[0m \u001b[0my_predict\u001b[0m\u001b[1;33m)\u001b[0m\u001b[1;33m\u001b[0m\u001b[0m\n\u001b[0m",
      "\u001b[1;31mNameError\u001b[0m: name 'y_test' is not defined"
     ]
    }
   ],
   "source": [
    "from sklearn.metrics import confusion_matrix\n",
    "confusion_matrix(y_test, y_predict)"
   ]
  },
  {
   "cell_type": "code",
   "execution_count": 104,
   "metadata": {},
   "outputs": [],
   "source": [
    "Ys = np.column_stack((y_predict, y_test))\n",
    "from numpy import savetxt\n",
    "savetxt('Ys_xgb_resampled_40000.csv', Ys, delimiter=',')"
   ]
  },
  {
   "cell_type": "code",
   "execution_count": 106,
   "metadata": {},
   "outputs": [],
   "source": [
    "y_prob = random_search.predict_proba(X_test)\n",
    "Ys_prob = np.column_stack((y_prob, y_test))\n",
    "from numpy import savetxt\n",
    "savetxt('Ys_xgb_resampled_40000_prob.csv', Ys_prob, delimiter=',')"
   ]
  },
  {
   "cell_type": "code",
   "execution_count": null,
   "metadata": {},
   "outputs": [],
   "source": []
  }
 ],
 "metadata": {
  "kernelspec": {
   "display_name": "Python 3",
   "language": "python",
   "name": "python3"
  },
  "language_info": {
   "codemirror_mode": {
    "name": "ipython",
    "version": 3
   },
   "file_extension": ".py",
   "mimetype": "text/x-python",
   "name": "python",
   "nbconvert_exporter": "python",
   "pygments_lexer": "ipython3",
   "version": "3.7.0"
  }
 },
 "nbformat": 4,
 "nbformat_minor": 1
}
