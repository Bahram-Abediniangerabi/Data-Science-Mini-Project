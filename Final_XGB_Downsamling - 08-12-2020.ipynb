{
 "cells": [
  {
   "cell_type": "code",
   "execution_count": 66,
   "metadata": {
    "_cell_guid": "89f02488-4980-40ae-84c0-eab14363a620",
    "_uuid": "5be7c0a0d1dc586c598b08d69209ebc5e84760bd"
   },
   "outputs": [],
   "source": [
    "#Importing all the required modules\n",
    "import warnings\n",
    "warnings.filterwarnings('ignore')\n",
    "import numpy as np\n",
    "from numpy import savetxt\n",
    "import pandas as pd\n",
    "import datetime \n",
    "import calendar\n",
    "import random\n",
    "from datetime import datetime\n",
    "\n",
    "#sklearn\n",
    "from sklearn.model_selection import train_test_split\n",
    "from sklearn.model_selection import RandomizedSearchCV, GridSearchCV\n",
    "from sklearn.model_selection import StratifiedKFold\n",
    "from sklearn.utils import resample\n",
    "from xgboost import XGBClassifier\n",
    "from sklearn.metrics import classification_report\n",
    "from sklearn.metrics import roc_curve\n",
    "from sklearn.metrics import roc_auc_score\n",
    "from sklearn.metrics import auc\n",
    "from sklearn.metrics import roc_curve, auc\n",
    "from sklearn.metrics import confusion_matrix\n",
    "\n",
    "#matplotlib and Seaborn\n",
    "from matplotlib import pyplot as plt\n",
    "import seaborn as sns"
   ]
  },
  {
   "cell_type": "code",
   "execution_count": 33,
   "metadata": {},
   "outputs": [
    {
     "name": "stdout",
     "output_type": "stream",
     "text": [
      "(130086, 29)\n"
     ]
    },
    {
     "data": {
      "text/html": [
       "<div>\n",
       "<style scoped>\n",
       "    .dataframe tbody tr th:only-of-type {\n",
       "        vertical-align: middle;\n",
       "    }\n",
       "\n",
       "    .dataframe tbody tr th {\n",
       "        vertical-align: top;\n",
       "    }\n",
       "\n",
       "    .dataframe thead th {\n",
       "        text-align: right;\n",
       "    }\n",
       "</style>\n",
       "<table border=\"1\" class=\"dataframe\">\n",
       "  <thead>\n",
       "    <tr style=\"text-align: right;\">\n",
       "      <th></th>\n",
       "      <th>DATE_FOR</th>\n",
       "      <th>RTD_ST_CD</th>\n",
       "      <th>CustomerSegment</th>\n",
       "      <th>Tenure</th>\n",
       "      <th>Age</th>\n",
       "      <th>MART_STATUS</th>\n",
       "      <th>GENDER</th>\n",
       "      <th>CHANNEL1_6M</th>\n",
       "      <th>CHANNEL2_6M</th>\n",
       "      <th>CHANNEL3_6M</th>\n",
       "      <th>...</th>\n",
       "      <th>CHANNEL5_3M</th>\n",
       "      <th>METHOD1_3M</th>\n",
       "      <th>PAYMENTS_3M</th>\n",
       "      <th>NOT_DI_3M</th>\n",
       "      <th>NOT_DI_6M</th>\n",
       "      <th>EVENT1_30_FLAG</th>\n",
       "      <th>EVENT2_90_SUM</th>\n",
       "      <th>LOGINS</th>\n",
       "      <th>POLICYPURCHASECHANNEL</th>\n",
       "      <th>Call_Flag</th>\n",
       "    </tr>\n",
       "  </thead>\n",
       "  <tbody>\n",
       "    <tr>\n",
       "      <th>0</th>\n",
       "      <td>5/19/2014</td>\n",
       "      <td>ST_S0</td>\n",
       "      <td>1</td>\n",
       "      <td>16.175222</td>\n",
       "      <td>78.403833</td>\n",
       "      <td>MS_S0</td>\n",
       "      <td>F</td>\n",
       "      <td>0.0</td>\n",
       "      <td>0.0</td>\n",
       "      <td>1.0</td>\n",
       "      <td>...</td>\n",
       "      <td>2</td>\n",
       "      <td>0</td>\n",
       "      <td>3</td>\n",
       "      <td>0</td>\n",
       "      <td>0</td>\n",
       "      <td>0</td>\n",
       "      <td>0</td>\n",
       "      <td>0</td>\n",
       "      <td>0</td>\n",
       "      <td>0</td>\n",
       "    </tr>\n",
       "    <tr>\n",
       "      <th>1</th>\n",
       "      <td>5/17/2014</td>\n",
       "      <td>ST_S0</td>\n",
       "      <td>1</td>\n",
       "      <td>15.931554</td>\n",
       "      <td>70.989733</td>\n",
       "      <td>MS_S1</td>\n",
       "      <td>F</td>\n",
       "      <td>0.0</td>\n",
       "      <td>6.0</td>\n",
       "      <td>0.0</td>\n",
       "      <td>...</td>\n",
       "      <td>0</td>\n",
       "      <td>3</td>\n",
       "      <td>3</td>\n",
       "      <td>0</td>\n",
       "      <td>0</td>\n",
       "      <td>0</td>\n",
       "      <td>0</td>\n",
       "      <td>0</td>\n",
       "      <td>0</td>\n",
       "      <td>0</td>\n",
       "    </tr>\n",
       "    <tr>\n",
       "      <th>2</th>\n",
       "      <td>5/15/2014</td>\n",
       "      <td>ST_S0</td>\n",
       "      <td>1</td>\n",
       "      <td>15.937029</td>\n",
       "      <td>87.578371</td>\n",
       "      <td>MS_S2</td>\n",
       "      <td>M</td>\n",
       "      <td>0.0</td>\n",
       "      <td>0.0</td>\n",
       "      <td>10.0</td>\n",
       "      <td>...</td>\n",
       "      <td>0</td>\n",
       "      <td>0</td>\n",
       "      <td>6</td>\n",
       "      <td>0</td>\n",
       "      <td>0</td>\n",
       "      <td>0</td>\n",
       "      <td>0</td>\n",
       "      <td>0</td>\n",
       "      <td>0</td>\n",
       "      <td>0</td>\n",
       "    </tr>\n",
       "    <tr>\n",
       "      <th>3</th>\n",
       "      <td>5/16/2014</td>\n",
       "      <td>ST_S1</td>\n",
       "      <td>1</td>\n",
       "      <td>15.934292</td>\n",
       "      <td>68.438056</td>\n",
       "      <td>MS_S2</td>\n",
       "      <td>M</td>\n",
       "      <td>0.0</td>\n",
       "      <td>0.0</td>\n",
       "      <td>1.0</td>\n",
       "      <td>...</td>\n",
       "      <td>0</td>\n",
       "      <td>0</td>\n",
       "      <td>0</td>\n",
       "      <td>0</td>\n",
       "      <td>0</td>\n",
       "      <td>0</td>\n",
       "      <td>0</td>\n",
       "      <td>0</td>\n",
       "      <td>1</td>\n",
       "      <td>0</td>\n",
       "    </tr>\n",
       "    <tr>\n",
       "      <th>4</th>\n",
       "      <td>5/20/2014</td>\n",
       "      <td>ST_S0</td>\n",
       "      <td>1</td>\n",
       "      <td>15.501711</td>\n",
       "      <td>80.514716</td>\n",
       "      <td>MS_S0</td>\n",
       "      <td>F</td>\n",
       "      <td>0.0</td>\n",
       "      <td>0.0</td>\n",
       "      <td>1.0</td>\n",
       "      <td>...</td>\n",
       "      <td>0</td>\n",
       "      <td>0</td>\n",
       "      <td>1</td>\n",
       "      <td>0</td>\n",
       "      <td>0</td>\n",
       "      <td>0</td>\n",
       "      <td>0</td>\n",
       "      <td>0</td>\n",
       "      <td>0</td>\n",
       "      <td>0</td>\n",
       "    </tr>\n",
       "  </tbody>\n",
       "</table>\n",
       "<p>5 rows × 29 columns</p>\n",
       "</div>"
      ],
      "text/plain": [
       "    DATE_FOR RTD_ST_CD CustomerSegment     Tenure        Age MART_STATUS  \\\n",
       "0  5/19/2014     ST_S0               1  16.175222  78.403833       MS_S0   \n",
       "1  5/17/2014     ST_S0               1  15.931554  70.989733       MS_S1   \n",
       "2  5/15/2014     ST_S0               1  15.937029  87.578371       MS_S2   \n",
       "3  5/16/2014     ST_S1               1  15.934292  68.438056       MS_S2   \n",
       "4  5/20/2014     ST_S0               1  15.501711  80.514716       MS_S0   \n",
       "\n",
       "  GENDER  CHANNEL1_6M  CHANNEL2_6M  CHANNEL3_6M    ...      CHANNEL5_3M  \\\n",
       "0      F          0.0          0.0          1.0    ...                2   \n",
       "1      F          0.0          6.0          0.0    ...                0   \n",
       "2      M          0.0          0.0         10.0    ...                0   \n",
       "3      M          0.0          0.0          1.0    ...                0   \n",
       "4      F          0.0          0.0          1.0    ...                0   \n",
       "\n",
       "   METHOD1_3M  PAYMENTS_3M  NOT_DI_3M  NOT_DI_6M  EVENT1_30_FLAG  \\\n",
       "0           0            3          0          0               0   \n",
       "1           3            3          0          0               0   \n",
       "2           0            6          0          0               0   \n",
       "3           0            0          0          0               0   \n",
       "4           0            1          0          0               0   \n",
       "\n",
       "   EVENT2_90_SUM  LOGINS  POLICYPURCHASECHANNEL  Call_Flag  \n",
       "0              0       0                      0          0  \n",
       "1              0       0                      0          0  \n",
       "2              0       0                      0          0  \n",
       "3              0       0                      1          0  \n",
       "4              0       0                      0          0  \n",
       "\n",
       "[5 rows x 29 columns]"
      ]
     },
     "execution_count": 33,
     "metadata": {},
     "output_type": "execute_result"
    }
   ],
   "source": [
    "#Loading data\n",
    "df = pd.read_csv('DS_MiniProject_ANON.csv')\n",
    "print(df.shape)\n",
    "df.head()"
   ]
  },
  {
   "cell_type": "code",
   "execution_count": 34,
   "metadata": {},
   "outputs": [],
   "source": [
    "#Converting \"DATE_FOR\" to weekday names\n",
    "df['Day_of_Week'] = pd.to_datetime(df['DATE_FOR']).dt.weekday_name"
   ]
  },
  {
   "cell_type": "code",
   "execution_count": 35,
   "metadata": {},
   "outputs": [
    {
     "name": "stdout",
     "output_type": "stream",
     "text": [
      "DATE_FOR                   0\n",
      "RTD_ST_CD                  0\n",
      "CustomerSegment            0\n",
      "Tenure                     0\n",
      "Age                        0\n",
      "MART_STATUS                0\n",
      "GENDER                     0\n",
      "CHANNEL1_6M              809\n",
      "CHANNEL2_6M              809\n",
      "CHANNEL3_6M              809\n",
      "CHANNEL4_6M              809\n",
      "CHANNEL5_6M              809\n",
      "METHOD1_6M               809\n",
      "RECENT_PAYMENT           809\n",
      "PAYMENTS_6M              809\n",
      "CHANNEL1_3M                0\n",
      "CHANNEL2_3M                0\n",
      "CHANNEL3_3M                0\n",
      "CHANNEL4_3M                0\n",
      "CHANNEL5_3M                0\n",
      "METHOD1_3M                 0\n",
      "PAYMENTS_3M                0\n",
      "NOT_DI_3M                  0\n",
      "NOT_DI_6M                  0\n",
      "EVENT1_30_FLAG             0\n",
      "EVENT2_90_SUM              0\n",
      "LOGINS                     0\n",
      "POLICYPURCHASECHANNEL      0\n",
      "Call_Flag                  0\n",
      "Day_of_Week                0\n",
      "dtype: int64\n",
      "DATE_FOR                 0\n",
      "RTD_ST_CD                0\n",
      "CustomerSegment          0\n",
      "Tenure                   0\n",
      "Age                      0\n",
      "MART_STATUS              0\n",
      "GENDER                   0\n",
      "CHANNEL1_6M              0\n",
      "CHANNEL2_6M              0\n",
      "CHANNEL3_6M              0\n",
      "CHANNEL4_6M              0\n",
      "CHANNEL5_6M              0\n",
      "METHOD1_6M               0\n",
      "RECENT_PAYMENT           0\n",
      "PAYMENTS_6M              0\n",
      "CHANNEL1_3M              0\n",
      "CHANNEL2_3M              0\n",
      "CHANNEL3_3M              0\n",
      "CHANNEL4_3M              0\n",
      "CHANNEL5_3M              0\n",
      "METHOD1_3M               0\n",
      "PAYMENTS_3M              0\n",
      "NOT_DI_3M                0\n",
      "NOT_DI_6M                0\n",
      "EVENT1_30_FLAG           0\n",
      "EVENT2_90_SUM            0\n",
      "LOGINS                   0\n",
      "POLICYPURCHASECHANNEL    0\n",
      "Call_Flag                0\n",
      "Day_of_Week              0\n",
      "dtype: int64\n"
     ]
    }
   ],
   "source": [
    "#Handling missing values using imputing (mode)\n",
    "#Missing values\n",
    "print(df.isnull().sum())\n",
    "\n",
    "#Imputing\n",
    "df = df.apply(lambda x:x.fillna(x.value_counts().index[0]))\n",
    "\n",
    "#Recheck the imputed data\n",
    "print(df.isnull().sum())"
   ]
  },
  {
   "cell_type": "code",
   "execution_count": 36,
   "metadata": {},
   "outputs": [
    {
     "name": "stdout",
     "output_type": "stream",
     "text": [
      "Index(['DATE_FOR', 'RTD_ST_CD', 'CustomerSegment', 'Tenure', 'Age',\n",
      "       'MART_STATUS', 'GENDER', 'CHANNEL1_6M', 'CHANNEL2_6M', 'CHANNEL3_6M',\n",
      "       'CHANNEL4_6M', 'CHANNEL5_6M', 'METHOD1_6M', 'RECENT_PAYMENT',\n",
      "       'PAYMENTS_6M', 'CHANNEL1_3M', 'CHANNEL2_3M', 'CHANNEL3_3M',\n",
      "       'CHANNEL4_3M', 'CHANNEL5_3M', 'METHOD1_3M', 'PAYMENTS_3M', 'NOT_DI_3M',\n",
      "       'NOT_DI_6M', 'EVENT1_30_FLAG', 'EVENT2_90_SUM', 'LOGINS',\n",
      "       'POLICYPURCHASECHANNEL', 'Call_Flag', 'Day_of_Week'],\n",
      "      dtype='object')\n"
     ]
    }
   ],
   "source": [
    "#Column names\n",
    "print(df.columns)"
   ]
  },
  {
   "cell_type": "code",
   "execution_count": 37,
   "metadata": {},
   "outputs": [
    {
     "name": "stdout",
     "output_type": "stream",
     "text": [
      "DATE_FOR               5/13/2014     15254.0\n",
      "                       5/14/2014     16884.0\n",
      "                       5/15/2014     16624.0\n",
      "                       5/16/2014     16570.0\n",
      "                       5/17/2014     16053.0\n",
      "                       5/18/2014     17002.0\n",
      "                       5/19/2014     16704.0\n",
      "                       5/20/2014     14995.0\n",
      "RTD_ST_CD              ST_S0          8512.0\n",
      "                       ST_S1          1151.0\n",
      "                       ST_S10         1164.0\n",
      "                       ST_S11         4258.0\n",
      "                       ST_S12         2270.0\n",
      "                       ST_S13          934.0\n",
      "                       ST_S14         7690.0\n",
      "                       ST_S15          615.0\n",
      "                       ST_S16         3034.0\n",
      "                       ST_S17          949.0\n",
      "                       ST_S18          544.0\n",
      "                       ST_S19          724.0\n",
      "                       ST_S2          1920.0\n",
      "                       ST_S20         2427.0\n",
      "                       ST_S21         1316.0\n",
      "                       ST_S22         5691.0\n",
      "                       ST_S23          438.0\n",
      "                       ST_S24         1660.0\n",
      "                       ST_S25         2635.0\n",
      "                       ST_S26          315.0\n",
      "                       ST_S27          547.0\n",
      "                       ST_S28          710.0\n",
      "                                      ...   \n",
      "                       ST_S7         24475.0\n",
      "                       ST_S8          1044.0\n",
      "                       ST_S9         18834.0\n",
      "CustomerSegment        1             95885.0\n",
      "                       2             25434.0\n",
      "                       3              5065.0\n",
      "                       NONE           3702.0\n",
      "MART_STATUS            MS_S0          4853.0\n",
      "                       MS_S1         45717.0\n",
      "                       MS_S2         58164.0\n",
      "                       MS_S3         13446.0\n",
      "                       MS_S4          7906.0\n",
      "GENDER                 F             60177.0\n",
      "                       M             69909.0\n",
      "RECENT_PAYMENT         0.0          116424.0\n",
      "                       1.0           13662.0\n",
      "NOT_DI_3M              0.0          122844.0\n",
      "                       1.0            7242.0\n",
      "NOT_DI_6M              0.0          119678.0\n",
      "                       1.0           10408.0\n",
      "EVENT1_30_FLAG         0.0          130086.0\n",
      "POLICYPURCHASECHANNEL  0.0          113087.0\n",
      "                       1.0           16999.0\n",
      "Day_of_Week            Tuesday       30249.0\n",
      "                       Sunday        17002.0\n",
      "                       Wednesday     16884.0\n",
      "                       Monday        16704.0\n",
      "                       Thursday      16624.0\n",
      "                       Friday        16570.0\n",
      "                       Saturday      16053.0\n",
      "Length: 86, dtype: float64\n"
     ]
    }
   ],
   "source": [
    "#Categorical features\n",
    "#A list of categorical features\n",
    "cat_cols = ['DATE_FOR','RTD_ST_CD','CustomerSegment','MART_STATUS','GENDER','RECENT_PAYMENT','NOT_DI_3M','NOT_DI_6M', 'EVENT1_30_FLAG',\n",
    " 'POLICYPURCHASECHANNEL','Day_of_Week']\n",
    "\n",
    "#Missing values in categorical features\n",
    "df[cat_cols].isnull().sum()\n",
    "print(df[cat_cols].apply(lambda x: x.value_counts()).T.stack())"
   ]
  },
  {
   "cell_type": "code",
   "execution_count": 38,
   "metadata": {},
   "outputs": [],
   "source": [
    "# Dropping 'EVENT1_30_FLAG' since it has only one class (not useful feature for classification)\n",
    "df = df.drop(['EVENT1_30_FLAG'], axis=1)\n",
    "\n",
    "#Removing the same feature from lst of categorical features\n",
    "cat_cols.remove('EVENT1_30_FLAG')"
   ]
  },
  {
   "cell_type": "code",
   "execution_count": 77,
   "metadata": {},
   "outputs": [
    {
     "data": {
      "image/png": "[encoded data removed]",
      "text/plain": [
       "<Figure size 432x288 with 1 Axes>"
      ]
     },
     "metadata": {},
     "output_type": "display_data"
    }
   ],
   "source": [
    "sns.set(style=\"darkgrid\")\n",
    "ax = sns.countplot(x=\"DATE_FOR\",  hue=\"Call_Flag\",data=df)"
   ]
  },
  {
   "cell_type": "code",
   "execution_count": 69,
   "metadata": {},
   "outputs": [
    {
     "data": {
      "image/png": "[encoded data removed]",
      "text/plain": [
       "<Figure size 432x288 with 1 Axes>"
      ]
     },
     "metadata": {},
     "output_type": "display_data"
    }
   ],
   "source": [
    "sns.set(style=\"darkgrid\")\n",
    "ax = sns.countplot(x=\"RTD_ST_CD\",  hue=\"Call_Flag\",data=df)"
   ]
  },
  {
   "cell_type": "code",
   "execution_count": 70,
   "metadata": {},
   "outputs": [
    {
     "data": {
      "image/png": "[encoded data removed]",
      "text/plain": [
       "<Figure size 432x288 with 1 Axes>"
      ]
     },
     "metadata": {},
     "output_type": "display_data"
    }
   ],
   "source": [
    "sns.set(style=\"darkgrid\")\n",
    "ax = sns.countplot(x=\"CustomerSegment\",  hue=\"Call_Flag\",data=df)"
   ]
  },
  {
   "cell_type": "code",
   "execution_count": 71,
   "metadata": {},
   "outputs": [
    {
     "data": {
      "image/png": "[encoded data removed]",
      "text/plain": [
       "<Figure size 432x288 with 1 Axes>"
      ]
     },
     "metadata": {},
     "output_type": "display_data"
    }
   ],
   "source": [
    "sns.set(style=\"darkgrid\")\n",
    "ax = sns.countplot(x=\"MART_STATUS\",  hue=\"Call_Flag\",data=df)"
   ]
  },
  {
   "cell_type": "code",
   "execution_count": 72,
   "metadata": {},
   "outputs": [
    {
     "data": {
      "image/png": "[encoded data removed]",
      "text/plain": [
       "<Figure size 432x288 with 1 Axes>"
      ]
     },
     "metadata": {},
     "output_type": "display_data"
    }
   ],
   "source": [
    "sns.set(style=\"darkgrid\")\n",
    "ax = sns.countplot(x=\"GENDER\",  hue=\"Call_Flag\",data=df)"
   ]
  },
  {
   "cell_type": "code",
   "execution_count": 73,
   "metadata": {},
   "outputs": [
    {
     "data": {
      "image/png": "[encoded data removed]",
      "text/plain": [
       "<Figure size 432x288 with 1 Axes>"
      ]
     },
     "metadata": {},
     "output_type": "display_data"
    }
   ],
   "source": [
    "sns.set(style=\"darkgrid\")\n",
    "ax = sns.countplot(x=\"RECENT_PAYMENT\",  hue=\"Call_Flag\",data=df)"
   ]
  },
  {
   "cell_type": "code",
   "execution_count": 74,
   "metadata": {},
   "outputs": [
    {
     "data": {
      "image/png": "[encoded data removed]",
      "text/plain": [
       "<Figure size 432x288 with 1 Axes>"
      ]
     },
     "metadata": {},
     "output_type": "display_data"
    }
   ],
   "source": [
    "sns.set(style=\"darkgrid\")\n",
    "ax = sns.countplot(x=\"NOT_DI_3M\",  hue=\"Call_Flag\",data=df)"
   ]
  },
  {
   "cell_type": "code",
   "execution_count": 75,
   "metadata": {},
   "outputs": [
    {
     "data": {
      "image/png": "[encoded data removed]",
      "text/plain": [
       "<Figure size 432x288 with 1 Axes>"
      ]
     },
     "metadata": {},
     "output_type": "display_data"
    }
   ],
   "source": [
    "sns.set(style=\"darkgrid\")\n",
    "ax = sns.countplot(x=\"NOT_DI_6M\",  hue=\"Call_Flag\",data=df)"
   ]
  },
  {
   "cell_type": "code",
   "execution_count": 76,
   "metadata": {},
   "outputs": [
    {
     "data": {
      "image/png": "[encoded data removed]",
      "text/plain": [
       "<Figure size 432x288 with 1 Axes>"
      ]
     },
     "metadata": {},
     "output_type": "display_data"
    }
   ],
   "source": [
    "sns.set(style=\"darkgrid\")\n",
    "ax = sns.countplot(x=\"POLICYPURCHASECHANNEL\",  hue=\"Call_Flag\",data=df)"
   ]
  },
  {
   "cell_type": "code",
   "execution_count": 79,
   "metadata": {},
   "outputs": [
    {
     "data": {
      "image/png": "[encoded data removed]",
      "text/plain": [
       "<Figure size 432x288 with 1 Axes>"
      ]
     },
     "metadata": {},
     "output_type": "display_data"
    }
   ],
   "source": [
    "sns.set(style=\"darkgrid\")\n",
    "ax = sns.countplot(x=\"Day_of_Week\",  hue=\"Call_Flag\",data=df)"
   ]
  },
  {
   "cell_type": "code",
   "execution_count": 39,
   "metadata": {},
   "outputs": [],
   "source": [
    "#Getting dummis for categorical features\n",
    "df_final = pd.get_dummies(df, columns=cat_cols)"
   ]
  },
  {
   "cell_type": "code",
   "execution_count": 40,
   "metadata": {},
   "outputs": [
    {
     "name": "stdout",
     "output_type": "stream",
     "text": [
      "Index(['Tenure', 'Age', 'CHANNEL1_6M', 'CHANNEL2_6M', 'CHANNEL3_6M',\n",
      "       'CHANNEL4_6M', 'CHANNEL5_6M', 'METHOD1_6M', 'PAYMENTS_6M',\n",
      "       'CHANNEL1_3M',\n",
      "       ...\n",
      "       'NOT_DI_6M_1', 'POLICYPURCHASECHANNEL_0', 'POLICYPURCHASECHANNEL_1',\n",
      "       'Day_of_Week_Friday', 'Day_of_Week_Monday', 'Day_of_Week_Saturday',\n",
      "       'Day_of_Week_Sunday', 'Day_of_Week_Thursday', 'Day_of_Week_Tuesday',\n",
      "       'Day_of_Week_Wednesday'],\n",
      "      dtype='object', length=104)\n",
      "(130086, 104)\n"
     ]
    }
   ],
   "source": [
    "#Recheck the shape and columns of the final dataset\n",
    "print(df_final.columns)\n",
    "print(df_final.shape)"
   ]
  },
  {
   "cell_type": "code",
   "execution_count": 41,
   "metadata": {},
   "outputs": [
    {
     "data": {
      "image/png": "[encoded data removed]",
      "text/plain": [
       "<Figure size 432x288 with 1 Axes>"
      ]
     },
     "metadata": {
      "needs_background": "light"
     },
     "output_type": "display_data"
    }
   ],
   "source": [
    "# Display target class counts - column='Call_Flag'\n",
    "df_final.Call_Flag.plot(kind='hist',bins=[-.5,.5,1.5], ec=\"k\", alpha=0.5)\n",
    "plt.xticks((0,1))\n",
    "plt.show()"
   ]
  },
  {
   "cell_type": "code",
   "execution_count": 42,
   "metadata": {},
   "outputs": [],
   "source": [
    "#Splitting final data into train and test datasets\n",
    "random.seed(42)\n",
    "train, test = train_test_split(df_final, test_size=0.20, stratify=df_final['Call_Flag']) "
   ]
  },
  {
   "cell_type": "code",
   "execution_count": 44,
   "metadata": {},
   "outputs": [
    {
     "data": {
      "image/png": "[encoded data removed]",
      "text/plain": [
       "<Figure size 432x288 with 1 Axes>"
      ]
     },
     "metadata": {
      "needs_background": "light"
     },
     "output_type": "display_data"
    }
   ],
   "source": [
    "#DOWNsampling majority class (0) to handle imbalanced data\n",
    "train_majority = train[train[\"Call_Flag\"] == 0]\n",
    "train_minority = train[train[\"Call_Flag\"] == 1]\n",
    "train_majority_downsampled = resample(train_majority, \n",
    "                                 replace=False,     \n",
    "                                 n_samples=10000,    \n",
    "                                 random_state=42) \n",
    "df_train = pd.concat([train_minority, train_majority_downsampled])\n",
    "\n",
    " \n",
    "# Redisplay target class counts - column='Call_Flag' after downsampling\n",
    "df_train.Call_Flag.plot(kind='hist',bins=[-.5,.5,1.5], ec=\"k\", alpha=0.5)\n",
    "plt.xticks((0,1))\n",
    "plt.show()"
   ]
  },
  {
   "cell_type": "code",
   "execution_count": 45,
   "metadata": {},
   "outputs": [],
   "source": [
    "#Defining the features and target \n",
    "X = df_train.drop(['Call_Flag'], axis=1)\n",
    "y = df_train['Call_Flag'].values"
   ]
  },
  {
   "cell_type": "code",
   "execution_count": 46,
   "metadata": {
    "_cell_guid": "2e8333f1-3d62-40e6-9238-d39f6ce30b4b",
    "_uuid": "920ed200eb1a69250c41cbe57f2fac449e72bc11"
   },
   "outputs": [],
   "source": [
    "# Setting A hyperparameter grid search for XGBoost\n",
    "params = {\n",
    "        'min_child_weight': [1, 5, 10],\n",
    "        'gamma': [0.5, 1, 1.5, 2, 5],\n",
    "        'subsample': [0.6, 0.8, 1.0],\n",
    "        'colsample_bytree': [0.6, 0.8, 1.0],\n",
    "        'max_depth': [3, 4, 5, 6, 8, 9, 10, 15],\n",
    "        'learning_rate':[0.001,0.01,0.1,0.2,0.5,0.9],\n",
    "        'n_estimators':[50,100,200,300,400,500,600,700,800,900,1000]\n",
    "        }"
   ]
  },
  {
   "attachments": {},
   "cell_type": "markdown",
   "metadata": {
    "_cell_guid": "853541a7-f638-4071-8d32-983415b4f726",
    "_uuid": "019960cb5c26ef6191a495f8fc23297f78a8bf86"
   },
   "source": [
    "A total number of combinations for the set of parameters above is a product of options for each parameter (3 x 5 x 3 x 3 x 7 x 6 x 11 = 62,370). It also needs to be multiplied by 5 to calculate a total number of data-fitting runs as we will be doing 5-fold cross-validation."
   ]
  },
  {
   "cell_type": "code",
   "execution_count": 49,
   "metadata": {
    "_cell_guid": "14fe1366-f429-4168-886f-69e59d0efcf0",
    "_uuid": "9a51f0a5ca0e0598210798d3e0b3a83af89f10c0"
   },
   "outputs": [],
   "source": [
    "#Model \n",
    "xgb = XGBClassifier(objective='binary:logistic',silent=True, nthread=8)"
   ]
  },
  {
   "cell_type": "code",
   "execution_count": 51,
   "metadata": {
    "_cell_guid": "4b481813-a095-4a86-b8a2-c12938ed1797",
    "_uuid": "b98b6859ae1dcccfa0e0a37123f57e41390c9995"
   },
   "outputs": [
    {
     "name": "stdout",
     "output_type": "stream",
     "text": [
      "Fitting 5 folds for each of 10 candidates, totalling 50 fits\n"
     ]
    },
    {
     "name": "stderr",
     "output_type": "stream",
     "text": [
      "[Parallel(n_jobs=8)]: Done  16 tasks      | elapsed:  1.5min\n",
      "[Parallel(n_jobs=8)]: Done  50 out of  50 | elapsed:  3.8min finished\n"
     ]
    },
    {
     "data": {
      "text/plain": [
       "RandomizedSearchCV(cv=<generator object _BaseKFold.split at 0x000001A6E7B698B8>,\n",
       "          error_score='raise',\n",
       "          estimator=XGBClassifier(base_score=0.5, booster='gbtree', colsample_bylevel=1,\n",
       "       colsample_bynode=1, colsample_bytree=1, gamma=0, learning_rate=0.1,\n",
       "       max_delta_step=0, max_depth=3, min_child_weight=1, missing=None,\n",
       "       n_estimators=100, n_jobs=1, nthread=8, objective='binary:logistic',\n",
       "       random_state=0, reg_alpha=0, reg_lambda=1, scale_pos_weight=1,\n",
       "       seed=None, silent=True, subsample=1, verbosity=1),\n",
       "          fit_params=None, iid=True, n_iter=10, n_jobs=8,\n",
       "          param_distributions={'min_child_weight': [1, 5, 10], 'gamma': [0.5, 1, 1.5, 2, 5], 'subsample': [0.6, 0.8, 1.0], 'colsample_bytree': [0.6, 0.8, 1.0], 'max_depth': [3, 4, 5, 6, 8, 9, 10, 15], 'learning_rate': [0.001, 0.01, 0.1, 0.2, 0.5, 0.9], 'n_estimators': [50, 100, 200, 300, 400, 500, 600, 700, 800, 900, 1000]},\n",
       "          pre_dispatch='2*n_jobs', random_state=42, refit=True,\n",
       "          return_train_score='warn', scoring='roc_auc', verbose=3)"
      ]
     },
     "execution_count": 51,
     "metadata": {},
     "output_type": "execute_result"
    }
   ],
   "source": [
    "#Stratified folds and grid search parameters\n",
    "folds = 5\n",
    "param_comb = 10\n",
    "\n",
    "#StratifiedKFold\n",
    "skf = StratifiedKFold(n_splits=folds, shuffle = True, random_state = 42)\n",
    "\n",
    "#Random_search\n",
    "random_search = RandomizedSearchCV(xgb, param_distributions=params, n_iter=param_comb, scoring='roc_auc', n_jobs=8, cv=skf.split(X, y), verbose=3, random_state=42 )\n",
    "\n",
    "#Model fit\n",
    "random_search.fit(X, y)"
   ]
  },
  {
   "cell_type": "code",
   "execution_count": 52,
   "metadata": {
    "_cell_guid": "26a88219-7efb-4c8a-91cf-76efc3f5a026",
    "_uuid": "d09f09d16566bba47b69330ba54c7ed294e4a559"
   },
   "outputs": [
    {
     "name": "stdout",
     "output_type": "stream",
     "text": [
      "\n",
      " All results:\n",
      "{'mean_fit_time': array([ 77.77024541,   1.64167457,   8.98058147, 162.09011273,\n",
      "         9.2125864 ,  25.97801228,   2.43945866,  19.68610988,\n",
      "        16.75189686,   9.65371122]), 'std_fit_time': array([ 4.16046454,  0.23655204,  0.29478563, 11.05325002,  0.43640857,\n",
      "        1.52451945,  0.09149287,  0.85491689,  0.6809965 ,  2.03644814]), 'mean_score_time': array([0.06225624, 0.03009086, 0.02704802, 0.11642828, 0.0285552 ,\n",
      "       0.03159318, 0.02090826, 0.03322778, 0.02546015, 0.02249589]), 'std_score_time': array([0.00678539, 0.01438068, 0.00490266, 0.00936433, 0.00190795,\n",
      "       0.00210623, 0.0009522 , 0.00258278, 0.00138013, 0.00224455]), 'param_subsample': masked_array(data=[0.6, 1.0, 0.8, 0.8, 0.6, 0.8, 1.0, 0.6, 1.0, 0.6],\n",
      "             mask=[False, False, False, False, False, False, False, False,\n",
      "                   False, False],\n",
      "       fill_value='?',\n",
      "            dtype=object), 'param_n_estimators': masked_array(data=[700, 50, 200, 900, 100, 300, 100, 600, 100, 50],\n",
      "             mask=[False, False, False, False, False, False, False, False,\n",
      "                   False, False],\n",
      "       fill_value='?',\n",
      "            dtype=object), 'param_min_child_weight': masked_array(data=[5, 10, 5, 1, 10, 10, 10, 10, 1, 1],\n",
      "             mask=[False, False, False, False, False, False, False, False,\n",
      "                   False, False],\n",
      "       fill_value='?',\n",
      "            dtype=object), 'param_max_depth': masked_array(data=[15, 3, 5, 15, 15, 9, 3, 4, 15, 15],\n",
      "             mask=[False, False, False, False, False, False, False, False,\n",
      "                   False, False],\n",
      "       fill_value='?',\n",
      "            dtype=object), 'param_learning_rate': masked_array(data=[0.01, 0.01, 0.2, 0.01, 0.5, 0.01, 0.5, 0.1, 0.2, 0.001],\n",
      "             mask=[False, False, False, False, False, False, False, False,\n",
      "                   False, False],\n",
      "       fill_value='?',\n",
      "            dtype=object), 'param_gamma': masked_array(data=[2, 0.5, 1, 1, 1.5, 5, 1.5, 2, 2, 5],\n",
      "             mask=[False, False, False, False, False, False, False, False,\n",
      "                   False, False],\n",
      "       fill_value='?',\n",
      "            dtype=object), 'param_colsample_bytree': masked_array(data=[0.6, 0.6, 1.0, 0.6, 0.8, 0.8, 1.0, 0.6, 0.8, 1.0],\n",
      "             mask=[False, False, False, False, False, False, False, False,\n",
      "                   False, False],\n",
      "       fill_value='?',\n",
      "            dtype=object), 'params': [{'subsample': 0.6, 'n_estimators': 700, 'min_child_weight': 5, 'max_depth': 15, 'learning_rate': 0.01, 'gamma': 2, 'colsample_bytree': 0.6}, {'subsample': 1.0, 'n_estimators': 50, 'min_child_weight': 10, 'max_depth': 3, 'learning_rate': 0.01, 'gamma': 0.5, 'colsample_bytree': 0.6}, {'subsample': 0.8, 'n_estimators': 200, 'min_child_weight': 5, 'max_depth': 5, 'learning_rate': 0.2, 'gamma': 1, 'colsample_bytree': 1.0}, {'subsample': 0.8, 'n_estimators': 900, 'min_child_weight': 1, 'max_depth': 15, 'learning_rate': 0.01, 'gamma': 1, 'colsample_bytree': 0.6}, {'subsample': 0.6, 'n_estimators': 100, 'min_child_weight': 10, 'max_depth': 15, 'learning_rate': 0.5, 'gamma': 1.5, 'colsample_bytree': 0.8}, {'subsample': 0.8, 'n_estimators': 300, 'min_child_weight': 10, 'max_depth': 9, 'learning_rate': 0.01, 'gamma': 5, 'colsample_bytree': 0.8}, {'subsample': 1.0, 'n_estimators': 100, 'min_child_weight': 10, 'max_depth': 3, 'learning_rate': 0.5, 'gamma': 1.5, 'colsample_bytree': 1.0}, {'subsample': 0.6, 'n_estimators': 600, 'min_child_weight': 10, 'max_depth': 4, 'learning_rate': 0.1, 'gamma': 2, 'colsample_bytree': 0.6}, {'subsample': 1.0, 'n_estimators': 100, 'min_child_weight': 1, 'max_depth': 15, 'learning_rate': 0.2, 'gamma': 2, 'colsample_bytree': 0.8}, {'subsample': 0.6, 'n_estimators': 50, 'min_child_weight': 1, 'max_depth': 15, 'learning_rate': 0.001, 'gamma': 5, 'colsample_bytree': 1.0}], 'split0_test_score': array([0.85986828, 0.84338073, 0.84653735, 0.85590826, 0.81473198,\n",
      "       0.86283028, 0.85681979, 0.85625885, 0.84930734, 0.85785419]), 'split1_test_score': array([0.85702231, 0.83759055, 0.84788058, 0.85191732, 0.81571063,\n",
      "       0.85626214, 0.85535138, 0.84991339, 0.84535302, 0.84825689]), 'split2_test_score': array([0.8800561 , 0.86867749, 0.86489534, 0.87677001, 0.84103051,\n",
      "       0.87908202, 0.87780315, 0.87494259, 0.8685023 , 0.87255249]), 'split3_test_score': array([0.85991601, 0.8461624 , 0.84428675, 0.85206627, 0.80217651,\n",
      "       0.86156234, 0.85606037, 0.8529357 , 0.84266371, 0.84891043]), 'split4_test_score': array([0.87216076, 0.85699409, 0.85798688, 0.86813845, 0.82443045,\n",
      "       0.87479298, 0.86656332, 0.86344488, 0.86131824, 0.86846555]), 'mean_test_score': array([0.86580426, 0.85056054, 0.85231696, 0.8609597 , 0.81961566,\n",
      "       0.86690565, 0.86251919, 0.85949884, 0.85342862, 0.85920781]), 'std_test_score': array([0.00883781, 0.01103361, 0.00784759, 0.00987774, 0.01284485,\n",
      "       0.0085895 , 0.00866621, 0.00893878, 0.00987437, 0.00991506]), 'rank_test_score': array([ 2,  9,  8,  4, 10,  1,  3,  5,  7,  6]), 'split0_train_score': array([0.9432004 , 0.85560497, 0.94791644, 0.99584418, 0.97980981,\n",
      "       0.88926212, 0.89712402, 0.92395253, 0.99222853, 0.89105889]), 'split1_train_score': array([0.94385024, 0.85468102, 0.94915421, 0.99604331, 0.98106976,\n",
      "       0.89065685, 0.89059964, 0.92453805, 0.99229872, 0.89162404]), 'split2_train_score': array([0.94112285, 0.84934349, 0.94626252, 0.99565401, 0.9798249 ,\n",
      "       0.8864853 , 0.8894999 , 0.92119062, 0.99204542, 0.88968133]), 'split3_train_score': array([0.94526851, 0.85513451, 0.95093611, 0.99627154, 0.98079639,\n",
      "       0.89036286, 0.89782277, 0.92627843, 0.99331176, 0.89173397]), 'split4_train_score': array([0.94264357, 0.85240864, 0.94708445, 0.99611537, 0.98010237,\n",
      "       0.88766292, 0.90256096, 0.92423811, 0.99432986, 0.88761188]), 'mean_train_score': array([0.94321711, 0.85343453, 0.94827075, 0.99598568, 0.98032065,\n",
      "       0.88888601, 0.89552146, 0.92403955, 0.99284286, 0.89034202]), 'std_train_score': array([0.0013656 , 0.00232136, 0.00164015, 0.00021535, 0.00051805,\n",
      "       0.00159485, 0.00485597, 0.00163857, 0.00086492, 0.00154824])}\n",
      "\n",
      " Best estimator:\n",
      "XGBClassifier(base_score=0.5, booster='gbtree', colsample_bylevel=1,\n",
      "       colsample_bynode=1, colsample_bytree=0.8, gamma=5,\n",
      "       learning_rate=0.01, max_delta_step=0, max_depth=9,\n",
      "       min_child_weight=10, missing=None, n_estimators=300, n_jobs=1,\n",
      "       nthread=8, objective='binary:logistic', random_state=0, reg_alpha=0,\n",
      "       reg_lambda=1, scale_pos_weight=1, seed=None, silent=True,\n",
      "       subsample=0.8, verbosity=1)\n",
      "\n",
      " Best normalized gini score for 5-fold search with 10 parameter combinations:\n",
      "0.7338113099109331\n",
      "\n",
      " Best hyperparameters:\n",
      "{'subsample': 0.8, 'n_estimators': 300, 'min_child_weight': 10, 'max_depth': 9, 'learning_rate': 0.01, 'gamma': 5, 'colsample_bytree': 0.8}\n"
     ]
    }
   ],
   "source": [
    "#Random search results\n",
    "print('\\n All results:')\n",
    "print(random_search.cv_results_)\n",
    "print('\\n Best estimator:')\n",
    "print(random_search.best_estimator_)\n",
    "print('\\n Best normalized gini score for %d-fold search with %d parameter combinations:' % (folds, param_comb))\n",
    "print(random_search.best_score_ * 2 - 1)\n",
    "print('\\n Best hyperparameters:')\n",
    "print(random_search.best_params_)\n",
    "results = pd.DataFrame(random_search.cv_results_)\n",
    "results.to_csv('xgb-random-grid-search-results.csv', index=False)"
   ]
  },
  {
   "cell_type": "code",
   "execution_count": 53,
   "metadata": {},
   "outputs": [],
   "source": [
    "#Preparing testing dataset \n",
    "X_test = test.drop(['Call_Flag'], axis=1)\n",
    "y_test = test['Call_Flag'].values"
   ]
  },
  {
   "cell_type": "code",
   "execution_count": 54,
   "metadata": {
    "_cell_guid": "f185d719-25b1-4dc3-a1f1-3cea218f3967",
    "_uuid": "2174c78da609042833528bfb430d1babffa502a2"
   },
   "outputs": [],
   "source": [
    "#Prediction based on best parameters\n",
    "y_predict = random_search.predict(X_test)\n",
    "y_predict_probs = random_search.predict_proba(X_test)"
   ]
  },
  {
   "cell_type": "code",
   "execution_count": 55,
   "metadata": {},
   "outputs": [
    {
     "name": "stdout",
     "output_type": "stream",
     "text": [
      "             precision    recall  f1-score   support\n",
      "\n",
      "          0       0.98      0.92      0.95     25065\n",
      "          1       0.21      0.55      0.30       953\n",
      "\n",
      "avg / total       0.95      0.91      0.93     26018\n",
      "\n"
     ]
    }
   ],
   "source": [
    "#Classification report\n",
    "target_names = ['0', '1']\n",
    "print(classification_report(y_test, y_predict, target_names=target_names))"
   ]
  },
  {
   "cell_type": "code",
   "execution_count": 56,
   "metadata": {},
   "outputs": [
    {
     "data": {
      "text/plain": [
       "0.8633563438103952"
      ]
     },
     "execution_count": 56,
     "metadata": {},
     "output_type": "execute_result"
    }
   ],
   "source": [
    "#ROC_AUC value\n",
    "from sklearn.metrics import roc_auc_score\n",
    "\n",
    "# Calculate roc auc\n",
    "roc_value = roc_auc_score(y_test, y_predict_probs[:, 1])\n",
    "roc_value"
   ]
  },
  {
   "cell_type": "code",
   "execution_count": 57,
   "metadata": {},
   "outputs": [
    {
     "data": {
      "image/png": "[encoded data removed]",
      "text/plain": [
       "<Figure size 432x288 with 1 Axes>"
      ]
     },
     "metadata": {
      "needs_background": "light"
     },
     "output_type": "display_data"
    }
   ],
   "source": [
    "#ROC_AUC curve\n",
    "RF_roc_auc = roc_auc_score(y_test, y_predict)\n",
    "fpr, tpr, thresholds = roc_curve(y_test, y_predict)\n",
    "plt.figure()\n",
    "plt.plot(fpr, tpr, label='XGB_2 (area = %0.2f)' % roc_value)\n",
    "plt.plot([0, 1], [0, 1],'r--')\n",
    "plt.xlim([0.0, 1.0])\n",
    "plt.ylim([0.0, 1.05])\n",
    "plt.xlabel('False Positive Rate')\n",
    "plt.ylabel('True Positive Rate')\n",
    "plt.title('Receiver operating characteristic')\n",
    "plt.legend(loc=\"lower right\")\n",
    "plt.savefig('xgboost with Resampling_ROC')\n",
    "plt.show()"
   ]
  },
  {
   "cell_type": "code",
   "execution_count": 58,
   "metadata": {},
   "outputs": [
    {
     "data": {
      "text/plain": [
       "array([[23088,  1977],\n",
       "       [  428,   525]], dtype=int64)"
      ]
     },
     "execution_count": 58,
     "metadata": {},
     "output_type": "execute_result"
    }
   ],
   "source": [
    "#Confusion matrix\n",
    "from sklearn.metrics import confusion_matrix\n",
    "confusion_matrix(y_test, y_predict)"
   ]
  },
  {
   "cell_type": "code",
   "execution_count": 60,
   "metadata": {},
   "outputs": [],
   "source": [
    "#Saving the predictions\n",
    "Prediction_GrounfTruth = np.column_stack((y_predict, y_test))\n",
    "from numpy import savetxt\n",
    "savetxt('Predictions_Final_XGB_Downsamling.csv', Prediction_GrounfTruth, delimiter=',')"
   ]
  }
 ],
 "metadata": {
  "kernelspec": {
   "display_name": "Python 3",
   "language": "python",
   "name": "python3"
  },
  "language_info": {
   "codemirror_mode": {
    "name": "ipython",
    "version": 3
   },
   "file_extension": ".py",
   "mimetype": "text/x-python",
   "name": "python",
   "nbconvert_exporter": "python",
   "pygments_lexer": "ipython3",
   "version": "3.7.0"
  }
 },
 "nbformat": 4,
 "nbformat_minor": 1
}
