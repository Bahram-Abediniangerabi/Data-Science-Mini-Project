{
 "cells": [
  {
   "cell_type": "code",
   "execution_count": 1,
   "metadata": {
    "_cell_guid": "89f02488-4980-40ae-84c0-eab14363a620",
    "_uuid": "5be7c0a0d1dc586c598b08d69209ebc5e84760bd"
   },
   "outputs": [],
   "source": [
    "import matplotlib.pyplot as plt\n",
    "# ^^^ pyforest auto-imports - don't write above this line\n",
    "#Required modules\n",
    "import datetime \n",
    "import calendar\n",
    "from sklearn.model_selection import train_test_split\n",
    "import warnings\n",
    "warnings.filterwarnings('ignore')\n",
    "import numpy as np\n",
    "import pandas as pd\n",
    "from datetime import datetime\n",
    "from sklearn.model_selection import RandomizedSearchCV, GridSearchCV\n",
    "from sklearn.metrics import roc_auc_score\n",
    "from sklearn.model_selection import StratifiedKFold\n",
    "from xgboost import XGBClassifier\n",
    "from sklearn.metrics import auc\n",
    "from sklearn.metrics import roc_curve, auc\n",
    "from sklearn.metrics import roc_auc_score\n",
    "import random"
   ]
  },
  {
   "cell_type": "code",
   "execution_count": 2,
   "metadata": {
    "_cell_guid": "39b12a37-3ce3-4a95-9f7d-268b925b88fc",
    "_uuid": "d9206a1794df1b15193532fc62a24c1eec7a5c5d"
   },
   "outputs": [],
   "source": [
    "def timer(start_time=None):\n",
    "    if not start_time:\n",
    "        start_time = datetime.now()\n",
    "        return start_time\n",
    "    elif start_time:\n",
    "        thour, temp_sec = divmod((datetime.now() - start_time).total_seconds(), 3600)\n",
    "        tmin, tsec = divmod(temp_sec, 60)\n",
    "        print('\\n Time taken: %i hours %i minutes and %s seconds.' % (thour, tmin, round(tsec, 2)))"
   ]
  },
  {
   "cell_type": "code",
   "execution_count": 3,
   "metadata": {},
   "outputs": [
    {
     "name": "stdout",
     "output_type": "stream",
     "text": [
      "(130086, 29)\n"
     ]
    },
    {
     "data": {
      "text/html": [
       "<div>\n",
       "<style scoped>\n",
       "    .dataframe tbody tr th:only-of-type {\n",
       "        vertical-align: middle;\n",
       "    }\n",
       "\n",
       "    .dataframe tbody tr th {\n",
       "        vertical-align: top;\n",
       "    }\n",
       "\n",
       "    .dataframe thead th {\n",
       "        text-align: right;\n",
       "    }\n",
       "</style>\n",
       "<table border=\"1\" class=\"dataframe\">\n",
       "  <thead>\n",
       "    <tr style=\"text-align: right;\">\n",
       "      <th></th>\n",
       "      <th>DATE_FOR</th>\n",
       "      <th>RTD_ST_CD</th>\n",
       "      <th>CustomerSegment</th>\n",
       "      <th>Tenure</th>\n",
       "      <th>Age</th>\n",
       "      <th>MART_STATUS</th>\n",
       "      <th>GENDER</th>\n",
       "      <th>CHANNEL1_6M</th>\n",
       "      <th>CHANNEL2_6M</th>\n",
       "      <th>CHANNEL3_6M</th>\n",
       "      <th>...</th>\n",
       "      <th>CHANNEL5_3M</th>\n",
       "      <th>METHOD1_3M</th>\n",
       "      <th>PAYMENTS_3M</th>\n",
       "      <th>NOT_DI_3M</th>\n",
       "      <th>NOT_DI_6M</th>\n",
       "      <th>EVENT1_30_FLAG</th>\n",
       "      <th>EVENT2_90_SUM</th>\n",
       "      <th>LOGINS</th>\n",
       "      <th>POLICYPURCHASECHANNEL</th>\n",
       "      <th>Call_Flag</th>\n",
       "    </tr>\n",
       "  </thead>\n",
       "  <tbody>\n",
       "    <tr>\n",
       "      <th>0</th>\n",
       "      <td>5/19/2014</td>\n",
       "      <td>ST_S0</td>\n",
       "      <td>1</td>\n",
       "      <td>16.175222</td>\n",
       "      <td>78.403833</td>\n",
       "      <td>MS_S0</td>\n",
       "      <td>F</td>\n",
       "      <td>0.0</td>\n",
       "      <td>0.0</td>\n",
       "      <td>1.0</td>\n",
       "      <td>...</td>\n",
       "      <td>2</td>\n",
       "      <td>0</td>\n",
       "      <td>3</td>\n",
       "      <td>0</td>\n",
       "      <td>0</td>\n",
       "      <td>0</td>\n",
       "      <td>0</td>\n",
       "      <td>0</td>\n",
       "      <td>0</td>\n",
       "      <td>0</td>\n",
       "    </tr>\n",
       "    <tr>\n",
       "      <th>1</th>\n",
       "      <td>5/17/2014</td>\n",
       "      <td>ST_S0</td>\n",
       "      <td>1</td>\n",
       "      <td>15.931554</td>\n",
       "      <td>70.989733</td>\n",
       "      <td>MS_S1</td>\n",
       "      <td>F</td>\n",
       "      <td>0.0</td>\n",
       "      <td>6.0</td>\n",
       "      <td>0.0</td>\n",
       "      <td>...</td>\n",
       "      <td>0</td>\n",
       "      <td>3</td>\n",
       "      <td>3</td>\n",
       "      <td>0</td>\n",
       "      <td>0</td>\n",
       "      <td>0</td>\n",
       "      <td>0</td>\n",
       "      <td>0</td>\n",
       "      <td>0</td>\n",
       "      <td>0</td>\n",
       "    </tr>\n",
       "    <tr>\n",
       "      <th>2</th>\n",
       "      <td>5/15/2014</td>\n",
       "      <td>ST_S0</td>\n",
       "      <td>1</td>\n",
       "      <td>15.937029</td>\n",
       "      <td>87.578371</td>\n",
       "      <td>MS_S2</td>\n",
       "      <td>M</td>\n",
       "      <td>0.0</td>\n",
       "      <td>0.0</td>\n",
       "      <td>10.0</td>\n",
       "      <td>...</td>\n",
       "      <td>0</td>\n",
       "      <td>0</td>\n",
       "      <td>6</td>\n",
       "      <td>0</td>\n",
       "      <td>0</td>\n",
       "      <td>0</td>\n",
       "      <td>0</td>\n",
       "      <td>0</td>\n",
       "      <td>0</td>\n",
       "      <td>0</td>\n",
       "    </tr>\n",
       "    <tr>\n",
       "      <th>3</th>\n",
       "      <td>5/16/2014</td>\n",
       "      <td>ST_S1</td>\n",
       "      <td>1</td>\n",
       "      <td>15.934292</td>\n",
       "      <td>68.438056</td>\n",
       "      <td>MS_S2</td>\n",
       "      <td>M</td>\n",
       "      <td>0.0</td>\n",
       "      <td>0.0</td>\n",
       "      <td>1.0</td>\n",
       "      <td>...</td>\n",
       "      <td>0</td>\n",
       "      <td>0</td>\n",
       "      <td>0</td>\n",
       "      <td>0</td>\n",
       "      <td>0</td>\n",
       "      <td>0</td>\n",
       "      <td>0</td>\n",
       "      <td>0</td>\n",
       "      <td>1</td>\n",
       "      <td>0</td>\n",
       "    </tr>\n",
       "    <tr>\n",
       "      <th>4</th>\n",
       "      <td>5/20/2014</td>\n",
       "      <td>ST_S0</td>\n",
       "      <td>1</td>\n",
       "      <td>15.501711</td>\n",
       "      <td>80.514716</td>\n",
       "      <td>MS_S0</td>\n",
       "      <td>F</td>\n",
       "      <td>0.0</td>\n",
       "      <td>0.0</td>\n",
       "      <td>1.0</td>\n",
       "      <td>...</td>\n",
       "      <td>0</td>\n",
       "      <td>0</td>\n",
       "      <td>1</td>\n",
       "      <td>0</td>\n",
       "      <td>0</td>\n",
       "      <td>0</td>\n",
       "      <td>0</td>\n",
       "      <td>0</td>\n",
       "      <td>0</td>\n",
       "      <td>0</td>\n",
       "    </tr>\n",
       "  </tbody>\n",
       "</table>\n",
       "<p>5 rows × 29 columns</p>\n",
       "</div>"
      ],
      "text/plain": [
       "    DATE_FOR RTD_ST_CD CustomerSegment     Tenure        Age MART_STATUS  \\\n",
       "0  5/19/2014     ST_S0               1  16.175222  78.403833       MS_S0   \n",
       "1  5/17/2014     ST_S0               1  15.931554  70.989733       MS_S1   \n",
       "2  5/15/2014     ST_S0               1  15.937029  87.578371       MS_S2   \n",
       "3  5/16/2014     ST_S1               1  15.934292  68.438056       MS_S2   \n",
       "4  5/20/2014     ST_S0               1  15.501711  80.514716       MS_S0   \n",
       "\n",
       "  GENDER  CHANNEL1_6M  CHANNEL2_6M  CHANNEL3_6M    ...      CHANNEL5_3M  \\\n",
       "0      F          0.0          0.0          1.0    ...                2   \n",
       "1      F          0.0          6.0          0.0    ...                0   \n",
       "2      M          0.0          0.0         10.0    ...                0   \n",
       "3      M          0.0          0.0          1.0    ...                0   \n",
       "4      F          0.0          0.0          1.0    ...                0   \n",
       "\n",
       "   METHOD1_3M  PAYMENTS_3M  NOT_DI_3M  NOT_DI_6M  EVENT1_30_FLAG  \\\n",
       "0           0            3          0          0               0   \n",
       "1           3            3          0          0               0   \n",
       "2           0            6          0          0               0   \n",
       "3           0            0          0          0               0   \n",
       "4           0            1          0          0               0   \n",
       "\n",
       "   EVENT2_90_SUM  LOGINS  POLICYPURCHASECHANNEL  Call_Flag  \n",
       "0              0       0                      0          0  \n",
       "1              0       0                      0          0  \n",
       "2              0       0                      0          0  \n",
       "3              0       0                      1          0  \n",
       "4              0       0                      0          0  \n",
       "\n",
       "[5 rows x 29 columns]"
      ]
     },
     "execution_count": 3,
     "metadata": {},
     "output_type": "execute_result"
    }
   ],
   "source": [
    "#Loading data\n",
    "df = pd.read_csv('DS_MiniProject_ANON.csv')\n",
    "print(df.shape)\n",
    "df.head()"
   ]
  },
  {
   "cell_type": "code",
   "execution_count": 4,
   "metadata": {},
   "outputs": [],
   "source": [
    "#Converting Date to weekday names\n",
    "df['Day_of_Week'] = pd.to_datetime(df['DATE_FOR']).dt.weekday_name"
   ]
  },
  {
   "cell_type": "code",
   "execution_count": 5,
   "metadata": {},
   "outputs": [
    {
     "name": "stdout",
     "output_type": "stream",
     "text": [
      "shape before imputing (130086, 30)\n",
      "DATE_FOR                   0\n",
      "RTD_ST_CD                  0\n",
      "CustomerSegment            0\n",
      "Tenure                     0\n",
      "Age                        0\n",
      "MART_STATUS                0\n",
      "GENDER                     0\n",
      "CHANNEL1_6M              809\n",
      "CHANNEL2_6M              809\n",
      "CHANNEL3_6M              809\n",
      "CHANNEL4_6M              809\n",
      "CHANNEL5_6M              809\n",
      "METHOD1_6M               809\n",
      "RECENT_PAYMENT           809\n",
      "PAYMENTS_6M              809\n",
      "CHANNEL1_3M                0\n",
      "CHANNEL2_3M                0\n",
      "CHANNEL3_3M                0\n",
      "CHANNEL4_3M                0\n",
      "CHANNEL5_3M                0\n",
      "METHOD1_3M                 0\n",
      "PAYMENTS_3M                0\n",
      "NOT_DI_3M                  0\n",
      "NOT_DI_6M                  0\n",
      "EVENT1_30_FLAG             0\n",
      "EVENT2_90_SUM              0\n",
      "LOGINS                     0\n",
      "POLICYPURCHASECHANNEL      0\n",
      "Call_Flag                  0\n",
      "Day_of_Week                0\n",
      "dtype: int64\n",
      "shape after imputing (130086, 30)\n",
      "DATE_FOR                 0\n",
      "RTD_ST_CD                0\n",
      "CustomerSegment          0\n",
      "Tenure                   0\n",
      "Age                      0\n",
      "MART_STATUS              0\n",
      "GENDER                   0\n",
      "CHANNEL1_6M              0\n",
      "CHANNEL2_6M              0\n",
      "CHANNEL3_6M              0\n",
      "CHANNEL4_6M              0\n",
      "CHANNEL5_6M              0\n",
      "METHOD1_6M               0\n",
      "RECENT_PAYMENT           0\n",
      "PAYMENTS_6M              0\n",
      "CHANNEL1_3M              0\n",
      "CHANNEL2_3M              0\n",
      "CHANNEL3_3M              0\n",
      "CHANNEL4_3M              0\n",
      "CHANNEL5_3M              0\n",
      "METHOD1_3M               0\n",
      "PAYMENTS_3M              0\n",
      "NOT_DI_3M                0\n",
      "NOT_DI_6M                0\n",
      "EVENT1_30_FLAG           0\n",
      "EVENT2_90_SUM            0\n",
      "LOGINS                   0\n",
      "POLICYPURCHASECHANNEL    0\n",
      "Call_Flag                0\n",
      "Day_of_Week              0\n",
      "dtype: int64\n"
     ]
    }
   ],
   "source": [
    "print(\"shape before imputing\",df.shape)\n",
    "print(df.isnull().sum())\n",
    "df = df.apply(lambda x:x.fillna(x.value_counts().index[0]))\n",
    "print(\"shape after imputing\",df.shape)\n",
    "print(df.isnull().sum())"
   ]
  },
  {
   "cell_type": "code",
   "execution_count": 6,
   "metadata": {},
   "outputs": [
    {
     "name": "stdout",
     "output_type": "stream",
     "text": [
      "    DATE_FOR RTD_ST_CD CustomerSegment     Tenure        Age MART_STATUS  \\\n",
      "0  5/19/2014     ST_S0               1  16.175222  78.403833       MS_S0   \n",
      "1  5/17/2014     ST_S0               1  15.931554  70.989733       MS_S1   \n",
      "2  5/15/2014     ST_S0               1  15.937029  87.578371       MS_S2   \n",
      "3  5/16/2014     ST_S1               1  15.934292  68.438056       MS_S2   \n",
      "4  5/20/2014     ST_S0               1  15.501711  80.514716       MS_S0   \n",
      "\n",
      "  GENDER  CHANNEL1_6M  CHANNEL2_6M  CHANNEL3_6M     ...       METHOD1_3M  \\\n",
      "0      F          0.0          0.0          1.0     ...                0   \n",
      "1      F          0.0          6.0          0.0     ...                3   \n",
      "2      M          0.0          0.0         10.0     ...                0   \n",
      "3      M          0.0          0.0          1.0     ...                0   \n",
      "4      F          0.0          0.0          1.0     ...                0   \n",
      "\n",
      "   PAYMENTS_3M  NOT_DI_3M  NOT_DI_6M  EVENT1_30_FLAG  EVENT2_90_SUM  LOGINS  \\\n",
      "0            3          0          0               0              0       0   \n",
      "1            3          0          0               0              0       0   \n",
      "2            6          0          0               0              0       0   \n",
      "3            0          0          0               0              0       0   \n",
      "4            1          0          0               0              0       0   \n",
      "\n",
      "   POLICYPURCHASECHANNEL  Call_Flag  Day_of_Week  \n",
      "0                      0          0       Monday  \n",
      "1                      0          0     Saturday  \n",
      "2                      0          0     Thursday  \n",
      "3                      1          0       Friday  \n",
      "4                      0          0      Tuesday  \n",
      "\n",
      "[5 rows x 30 columns]\n"
     ]
    }
   ],
   "source": [
    "print(df.head())"
   ]
  },
  {
   "cell_type": "code",
   "execution_count": 7,
   "metadata": {},
   "outputs": [],
   "source": [
    "Colnames = list(df.columns)"
   ]
  },
  {
   "cell_type": "code",
   "execution_count": 8,
   "metadata": {},
   "outputs": [
    {
     "name": "stdout",
     "output_type": "stream",
     "text": [
      "DATE_FOR               5/13/2014     15254.0\n",
      "                       5/14/2014     16884.0\n",
      "                       5/15/2014     16624.0\n",
      "                       5/16/2014     16570.0\n",
      "                       5/17/2014     16053.0\n",
      "                       5/18/2014     17002.0\n",
      "                       5/19/2014     16704.0\n",
      "                       5/20/2014     14995.0\n",
      "RTD_ST_CD              ST_S0          8512.0\n",
      "                       ST_S1          1151.0\n",
      "                       ST_S10         1164.0\n",
      "                       ST_S11         4258.0\n",
      "                       ST_S12         2270.0\n",
      "                       ST_S13          934.0\n",
      "                       ST_S14         7690.0\n",
      "                       ST_S15          615.0\n",
      "                       ST_S16         3034.0\n",
      "                       ST_S17          949.0\n",
      "                       ST_S18          544.0\n",
      "                       ST_S19          724.0\n",
      "                       ST_S2          1920.0\n",
      "                       ST_S20         2427.0\n",
      "                       ST_S21         1316.0\n",
      "                       ST_S22         5691.0\n",
      "                       ST_S23          438.0\n",
      "                       ST_S24         1660.0\n",
      "                       ST_S25         2635.0\n",
      "                       ST_S26          315.0\n",
      "                       ST_S27          547.0\n",
      "                       ST_S28          710.0\n",
      "                                      ...   \n",
      "                       ST_S7         24475.0\n",
      "                       ST_S8          1044.0\n",
      "                       ST_S9         18834.0\n",
      "CustomerSegment        1             95885.0\n",
      "                       2             25434.0\n",
      "                       3              5065.0\n",
      "                       NONE           3702.0\n",
      "MART_STATUS            MS_S0          4853.0\n",
      "                       MS_S1         45717.0\n",
      "                       MS_S2         58164.0\n",
      "                       MS_S3         13446.0\n",
      "                       MS_S4          7906.0\n",
      "GENDER                 F             60177.0\n",
      "                       M             69909.0\n",
      "RECENT_PAYMENT         0.0          116424.0\n",
      "                       1.0           13662.0\n",
      "NOT_DI_3M              0.0          122844.0\n",
      "                       1.0            7242.0\n",
      "NOT_DI_6M              0.0          119678.0\n",
      "                       1.0           10408.0\n",
      "EVENT1_30_FLAG         0.0          130086.0\n",
      "POLICYPURCHASECHANNEL  0.0          113087.0\n",
      "                       1.0           16999.0\n",
      "Day_of_Week            Tuesday       30249.0\n",
      "                       Sunday        17002.0\n",
      "                       Wednesday     16884.0\n",
      "                       Monday        16704.0\n",
      "                       Thursday      16624.0\n",
      "                       Friday        16570.0\n",
      "                       Saturday      16053.0\n",
      "Length: 86, dtype: float64\n"
     ]
    }
   ],
   "source": [
    "cat_cols = ['DATE_FOR','RTD_ST_CD','CustomerSegment','MART_STATUS','GENDER','RECENT_PAYMENT','NOT_DI_3M','NOT_DI_6M', 'EVENT1_30_FLAG',\n",
    " 'POLICYPURCHASECHANNEL','Day_of_Week']\n",
    "df_cat = df[cat_cols]\n",
    "df_cat.isnull().sum()\n",
    "print(df_cat.apply(lambda x: x.value_counts()).T.stack())"
   ]
  },
  {
   "cell_type": "code",
   "execution_count": 9,
   "metadata": {},
   "outputs": [
    {
     "data": {
      "text/html": [
       "<div>\n",
       "<style scoped>\n",
       "    .dataframe tbody tr th:only-of-type {\n",
       "        vertical-align: middle;\n",
       "    }\n",
       "\n",
       "    .dataframe tbody tr th {\n",
       "        vertical-align: top;\n",
       "    }\n",
       "\n",
       "    .dataframe thead th {\n",
       "        text-align: right;\n",
       "    }\n",
       "</style>\n",
       "<table border=\"1\" class=\"dataframe\">\n",
       "  <thead>\n",
       "    <tr style=\"text-align: right;\">\n",
       "      <th></th>\n",
       "      <th>DATE_FOR</th>\n",
       "      <th>RTD_ST_CD</th>\n",
       "      <th>CustomerSegment</th>\n",
       "      <th>Tenure</th>\n",
       "      <th>Age</th>\n",
       "      <th>MART_STATUS</th>\n",
       "      <th>GENDER</th>\n",
       "      <th>CHANNEL1_6M</th>\n",
       "      <th>CHANNEL2_6M</th>\n",
       "      <th>CHANNEL3_6M</th>\n",
       "      <th>...</th>\n",
       "      <th>CHANNEL5_3M</th>\n",
       "      <th>METHOD1_3M</th>\n",
       "      <th>PAYMENTS_3M</th>\n",
       "      <th>NOT_DI_3M</th>\n",
       "      <th>NOT_DI_6M</th>\n",
       "      <th>EVENT2_90_SUM</th>\n",
       "      <th>LOGINS</th>\n",
       "      <th>POLICYPURCHASECHANNEL</th>\n",
       "      <th>Call_Flag</th>\n",
       "      <th>Day_of_Week</th>\n",
       "    </tr>\n",
       "  </thead>\n",
       "  <tbody>\n",
       "    <tr>\n",
       "      <th>0</th>\n",
       "      <td>5/19/2014</td>\n",
       "      <td>ST_S0</td>\n",
       "      <td>1</td>\n",
       "      <td>16.175222</td>\n",
       "      <td>78.403833</td>\n",
       "      <td>MS_S0</td>\n",
       "      <td>F</td>\n",
       "      <td>0.0</td>\n",
       "      <td>0.0</td>\n",
       "      <td>1.0</td>\n",
       "      <td>...</td>\n",
       "      <td>2</td>\n",
       "      <td>0</td>\n",
       "      <td>3</td>\n",
       "      <td>0</td>\n",
       "      <td>0</td>\n",
       "      <td>0</td>\n",
       "      <td>0</td>\n",
       "      <td>0</td>\n",
       "      <td>0</td>\n",
       "      <td>Monday</td>\n",
       "    </tr>\n",
       "    <tr>\n",
       "      <th>1</th>\n",
       "      <td>5/17/2014</td>\n",
       "      <td>ST_S0</td>\n",
       "      <td>1</td>\n",
       "      <td>15.931554</td>\n",
       "      <td>70.989733</td>\n",
       "      <td>MS_S1</td>\n",
       "      <td>F</td>\n",
       "      <td>0.0</td>\n",
       "      <td>6.0</td>\n",
       "      <td>0.0</td>\n",
       "      <td>...</td>\n",
       "      <td>0</td>\n",
       "      <td>3</td>\n",
       "      <td>3</td>\n",
       "      <td>0</td>\n",
       "      <td>0</td>\n",
       "      <td>0</td>\n",
       "      <td>0</td>\n",
       "      <td>0</td>\n",
       "      <td>0</td>\n",
       "      <td>Saturday</td>\n",
       "    </tr>\n",
       "    <tr>\n",
       "      <th>2</th>\n",
       "      <td>5/15/2014</td>\n",
       "      <td>ST_S0</td>\n",
       "      <td>1</td>\n",
       "      <td>15.937029</td>\n",
       "      <td>87.578371</td>\n",
       "      <td>MS_S2</td>\n",
       "      <td>M</td>\n",
       "      <td>0.0</td>\n",
       "      <td>0.0</td>\n",
       "      <td>10.0</td>\n",
       "      <td>...</td>\n",
       "      <td>0</td>\n",
       "      <td>0</td>\n",
       "      <td>6</td>\n",
       "      <td>0</td>\n",
       "      <td>0</td>\n",
       "      <td>0</td>\n",
       "      <td>0</td>\n",
       "      <td>0</td>\n",
       "      <td>0</td>\n",
       "      <td>Thursday</td>\n",
       "    </tr>\n",
       "    <tr>\n",
       "      <th>3</th>\n",
       "      <td>5/16/2014</td>\n",
       "      <td>ST_S1</td>\n",
       "      <td>1</td>\n",
       "      <td>15.934292</td>\n",
       "      <td>68.438056</td>\n",
       "      <td>MS_S2</td>\n",
       "      <td>M</td>\n",
       "      <td>0.0</td>\n",
       "      <td>0.0</td>\n",
       "      <td>1.0</td>\n",
       "      <td>...</td>\n",
       "      <td>0</td>\n",
       "      <td>0</td>\n",
       "      <td>0</td>\n",
       "      <td>0</td>\n",
       "      <td>0</td>\n",
       "      <td>0</td>\n",
       "      <td>0</td>\n",
       "      <td>1</td>\n",
       "      <td>0</td>\n",
       "      <td>Friday</td>\n",
       "    </tr>\n",
       "    <tr>\n",
       "      <th>4</th>\n",
       "      <td>5/20/2014</td>\n",
       "      <td>ST_S0</td>\n",
       "      <td>1</td>\n",
       "      <td>15.501711</td>\n",
       "      <td>80.514716</td>\n",
       "      <td>MS_S0</td>\n",
       "      <td>F</td>\n",
       "      <td>0.0</td>\n",
       "      <td>0.0</td>\n",
       "      <td>1.0</td>\n",
       "      <td>...</td>\n",
       "      <td>0</td>\n",
       "      <td>0</td>\n",
       "      <td>1</td>\n",
       "      <td>0</td>\n",
       "      <td>0</td>\n",
       "      <td>0</td>\n",
       "      <td>0</td>\n",
       "      <td>0</td>\n",
       "      <td>0</td>\n",
       "      <td>Tuesday</td>\n",
       "    </tr>\n",
       "  </tbody>\n",
       "</table>\n",
       "<p>5 rows × 29 columns</p>\n",
       "</div>"
      ],
      "text/plain": [
       "    DATE_FOR RTD_ST_CD CustomerSegment     Tenure        Age MART_STATUS  \\\n",
       "0  5/19/2014     ST_S0               1  16.175222  78.403833       MS_S0   \n",
       "1  5/17/2014     ST_S0               1  15.931554  70.989733       MS_S1   \n",
       "2  5/15/2014     ST_S0               1  15.937029  87.578371       MS_S2   \n",
       "3  5/16/2014     ST_S1               1  15.934292  68.438056       MS_S2   \n",
       "4  5/20/2014     ST_S0               1  15.501711  80.514716       MS_S0   \n",
       "\n",
       "  GENDER  CHANNEL1_6M  CHANNEL2_6M  CHANNEL3_6M     ...       CHANNEL5_3M  \\\n",
       "0      F          0.0          0.0          1.0     ...                 2   \n",
       "1      F          0.0          6.0          0.0     ...                 0   \n",
       "2      M          0.0          0.0         10.0     ...                 0   \n",
       "3      M          0.0          0.0          1.0     ...                 0   \n",
       "4      F          0.0          0.0          1.0     ...                 0   \n",
       "\n",
       "   METHOD1_3M  PAYMENTS_3M  NOT_DI_3M  NOT_DI_6M  EVENT2_90_SUM  LOGINS  \\\n",
       "0           0            3          0          0              0       0   \n",
       "1           3            3          0          0              0       0   \n",
       "2           0            6          0          0              0       0   \n",
       "3           0            0          0          0              0       0   \n",
       "4           0            1          0          0              0       0   \n",
       "\n",
       "   POLICYPURCHASECHANNEL  Call_Flag  Day_of_Week  \n",
       "0                      0          0       Monday  \n",
       "1                      0          0     Saturday  \n",
       "2                      0          0     Thursday  \n",
       "3                      1          0       Friday  \n",
       "4                      0          0      Tuesday  \n",
       "\n",
       "[5 rows x 29 columns]"
      ]
     },
     "execution_count": 9,
     "metadata": {},
     "output_type": "execute_result"
    }
   ],
   "source": [
    "df = df.drop(['EVENT1_30_FLAG'], axis=1)\n",
    "df.head()"
   ]
  },
  {
   "cell_type": "code",
   "execution_count": 10,
   "metadata": {},
   "outputs": [
    {
     "name": "stdout",
     "output_type": "stream",
     "text": [
      "(130086, 104)\n"
     ]
    }
   ],
   "source": [
    "cat_cols.remove('EVENT1_30_FLAG')\n",
    "df_final = pd.get_dummies(df, columns=cat_cols)\n",
    "df_final.columns\n",
    "print(df_final.shape)"
   ]
  },
  {
   "cell_type": "code",
   "execution_count": 11,
   "metadata": {},
   "outputs": [
    {
     "name": "stdout",
     "output_type": "stream",
     "text": [
      "[[<matplotlib.axes._subplots.AxesSubplot object at 0x00000218104079E8>]]\n"
     ]
    },
    {
     "data": {
      "image/png": "[encoded data removed]",
      "text/plain": [
       "<Figure size 432x288 with 1 Axes>"
      ]
     },
     "metadata": {
      "needs_background": "light"
     },
     "output_type": "display_data"
    }
   ],
   "source": [
    "print(df_final.hist(column='Call_Flag'))"
   ]
  },
  {
   "cell_type": "code",
   "execution_count": 12,
   "metadata": {},
   "outputs": [],
   "source": [
    "random.seed(42)\n",
    "train, test = train_test_split(df_final, test_size=0.20, stratify=df_final['Call_Flag']) "
   ]
  },
  {
   "cell_type": "code",
   "execution_count": 19,
   "metadata": {},
   "outputs": [
    {
     "data": {
      "image/png": "[encoded data removed]",
      "text/plain": [
       "<Figure size 432x288 with 1 Axes>"
      ]
     },
     "metadata": {
      "needs_background": "light"
     },
     "output_type": "display_data"
    }
   ],
   "source": [
    "#DOWNsampling to handle imbalanced data\n",
    "from sklearn.utils import resample\n",
    "train_majority = train[train[\"Call_Flag\"] == 0]\n",
    "train_minority = train[train[\"Call_Flag\"] == 1]\n",
    "train_majority_downsampled = resample(train_majority, \n",
    "                                 replace=False,     \n",
    "                                 n_samples=10000,    \n",
    "                                 random_state=42) \n",
    "train_minority_upsampled = resample(train_minority, \n",
    "                                 replace=True,     \n",
    "                                 n_samples=10000,    \n",
    "                                 random_state=42)\n",
    "df_train = pd.concat([train_minority_upsampled, train_majority_downsampled])\n",
    "\n",
    " \n",
    "# Display new class counts\n",
    "df_train.Call_Flag.plot(kind='hist',bins=[-.5,.5,1.5], ec=\"k\", alpha=0.5)\n",
    "plt.xticks((0,1))\n",
    "plt.show()"
   ]
  },
  {
   "cell_type": "code",
   "execution_count": 20,
   "metadata": {},
   "outputs": [],
   "source": [
    "X = df_train.drop(['Call_Flag'], axis=1)\n",
    "y = df_train['Call_Flag'].values"
   ]
  },
  {
   "cell_type": "markdown",
   "metadata": {
    "_cell_guid": "f170e597-98b9-4e93-aa84-c2e358d8b88c",
    "_uuid": "5e5dd068cbcdbfcb6f7bdbcee839f60547be71fb"
   },
   "source": [
    "Let's set up a parameter grid that will be explored during the search. Note that you can use fewer parameters and fewer options for each parameter. Same goes for more parameter and more options if you want to be very thorough. Also, you can plug in any other ML method instead of XGBoost and search for its optimal parameters."
   ]
  },
  {
   "cell_type": "code",
   "execution_count": 21,
   "metadata": {
    "_cell_guid": "2e8333f1-3d62-40e6-9238-d39f6ce30b4b",
    "_uuid": "920ed200eb1a69250c41cbe57f2fac449e72bc11"
   },
   "outputs": [],
   "source": [
    "# A parameter grid for XGBoost\n",
    "params = {\n",
    "        'min_child_weight': [1, 5, 10],\n",
    "        'gamma': [0.5, 1, 1.5, 2, 5],\n",
    "        'subsample': [0.6, 0.8, 1.0],\n",
    "        'colsample_bytree': [0.6, 0.8, 1.0],\n",
    "        'max_depth': [3, 4, 5, 6, 8, 9, 10, 15],\n",
    "        'learning_rate':[0.001,0.01,0.1,0.2,0.5,0.9],\n",
    "        'n_estimators':[50,100,200,300,400,500,600,700,800,900,1000]\n",
    "        }"
   ]
  },
  {
   "cell_type": "markdown",
   "metadata": {
    "_cell_guid": "853541a7-f638-4071-8d32-983415b4f726",
    "_uuid": "019960cb5c26ef6191a495f8fc23297f78a8bf86"
   },
   "source": [
    "A total number of combinations for the set of parameters above is a product of options for each parameter (3 x 5 x 3 x 3 x 3 = 405). It also needs to be multiplied by 5 to calculate a total number of data-fitting runs as we will be doing 5-fold cross-validation. That gets to be a large number in a hurry if you are using many parameters and lots of options, which is why **brute-force grid search takes a long time**.\n",
    "\n",
    "Next we set up our classifier. We use sklearn's API of XGBoost as that is a requirement for grid search (another reason why Bayesian optimization may be preferable, as it does not need to be sklearn-wrapped). You should consider setting a learning rate to smaller value (at least 0.01, if not even lower), or make it a hyperparameter for grid searching. I am not using very small value here to save on running time. \n",
    "\n",
    "*Even though we have 4 threads available per job on Kaggle, I think it is more efficient to do XGBoost runs on single threads, but instead run 4 parallel jobs in the grid search. It's up to you whether you want to change this.*"
   ]
  },
  {
   "cell_type": "code",
   "execution_count": 22,
   "metadata": {
    "_cell_guid": "14fe1366-f429-4168-886f-69e59d0efcf0",
    "_uuid": "9a51f0a5ca0e0598210798d3e0b3a83af89f10c0"
   },
   "outputs": [],
   "source": [
    "xgb = XGBClassifier(objective='binary:logistic',silent=True, nthread=32)"
   ]
  },
  {
   "cell_type": "markdown",
   "metadata": {
    "_cell_guid": "92dad863-2918-4e4b-aef2-9395b70edebd",
    "_uuid": "966cae216288e8f4c257e39839057cfca917daf5"
   },
   "source": [
    "Next we set up our stratified folds and grid search parameters. I am using AUC as a scoring function, but you can plug in a custom scoring function here if you wish. Grid search wil spawn 4 jobs running a single thread each. The param_comb parameter declares how many different combinations should be picked randomly out of our total (405, see above). I am doing only 5 here, knowing that it will not properly sample the parameter space. Definitely use a bigger number for param_comb.\n",
    "\n",
    "*You may want to increase/decrease verbosity depending on your preference.*\n",
    "\n",
    "**Note that I have set the number of splits/folds to 3 in order to save time. You should probably put 5 there to get a more reliable result.**"
   ]
  },
  {
   "cell_type": "code",
   "execution_count": 23,
   "metadata": {
    "_cell_guid": "4b481813-a095-4a86-b8a2-c12938ed1797",
    "_uuid": "b98b6859ae1dcccfa0e0a37123f57e41390c9995"
   },
   "outputs": [
    {
     "name": "stdout",
     "output_type": "stream",
     "text": [
      "Fitting 5 folds for each of 40 candidates, totalling 200 fits\n"
     ]
    },
    {
     "name": "stderr",
     "output_type": "stream",
     "text": [
      "[Parallel(n_jobs=32)]: Done  64 tasks      | elapsed:  8.0min\n",
      "[Parallel(n_jobs=32)]: Done 200 out of 200 | elapsed: 25.0min finished\n"
     ]
    },
    {
     "name": "stdout",
     "output_type": "stream",
     "text": [
      "\n",
      " Time taken: 0 hours 25 minutes and 27.58 seconds.\n"
     ]
    }
   ],
   "source": [
    "folds = 5\n",
    "param_comb = 40\n",
    "\n",
    "skf = StratifiedKFold(n_splits=folds, shuffle = True, random_state = 42)\n",
    "\n",
    "random_search = RandomizedSearchCV(xgb, param_distributions=params, n_iter=param_comb, scoring='f1', n_jobs=32, cv=skf.split(X, y), verbose=3, random_state=42 )\n",
    "\n",
    "# Here we go\n",
    "start_time = timer(None) # timing starts from this point for \"start_time\" variable\n",
    "random_search.fit(X, y)\n",
    "timer(start_time) # timing ends here for \"start_time\" variable\n"
   ]
  },
  {
   "cell_type": "markdown",
   "metadata": {
    "_cell_guid": "a842a4db-3128-451c-bf9a-f7b37eeb19f4",
    "_uuid": "f87de8a533c18505b1eec99a70c6d50ef7bc29d3"
   },
   "source": [
    "You can actually follow along as the search goes on. To convert to normalized gini, multiply the obtained AUC values by 2 and subtract 1.\n",
    "\n",
    "Let's print the grid-search results and save them in a file."
   ]
  },
  {
   "cell_type": "code",
   "execution_count": 24,
   "metadata": {
    "_cell_guid": "26a88219-7efb-4c8a-91cf-76efc3f5a026",
    "_uuid": "d09f09d16566bba47b69330ba54c7ed294e4a559"
   },
   "outputs": [
    {
     "name": "stdout",
     "output_type": "stream",
     "text": [
      "\n",
      " All results:\n",
      "{'mean_fit_time': array([ 522.11013708,    2.06308212,   19.49545636, 1402.55028324,\n",
      "         46.62489486,  176.2697413 ,   14.48904676,   95.35715342,\n",
      "        117.84460688,   92.46050034,   81.61849985,  302.39839272,\n",
      "         31.31983027,  271.49026117,  242.44594378,  533.0622519 ,\n",
      "        843.49036641,  437.28960748,  105.7950357 ,  168.14746575,\n",
      "        120.23282051,   56.94968019,  201.55371633,  566.79742022,\n",
      "         11.37497592,  133.77160931,  485.21941233,  111.47843509,\n",
      "         61.15024471,  125.77958479,  138.8131248 ,  459.24328899,\n",
      "        325.30911498,   22.90633354,   61.19831624,   19.1872807 ,\n",
      "         26.77498617,   18.33356404,  187.81047392,  109.09481053]), 'std_fit_time': array([38.58690839,  0.10001102,  1.79340277,  1.95721671,  3.1731909 ,\n",
      "        3.14213673,  0.65341284,  0.56658128,  5.8658177 ,  0.58138575,\n",
      "        6.54996762,  0.53620697,  0.4170869 ,  1.63265655,  8.07748347,\n",
      "        3.98573346, 11.64240658,  2.14950373,  0.33186448,  2.26541394,\n",
      "        2.47328387,  0.92029639,  2.42446064,  1.07994569,  0.17530643,\n",
      "        1.43902201,  6.93704376,  1.63635027,  0.31602579,  1.55457897,\n",
      "       11.27871312, 25.64522551,  7.32671655,  0.27684157,  0.65574039,\n",
      "        0.16843162,  0.51303588,  0.16582446,  6.19873203,  0.55770448]), 'mean_score_time': array([0.14561095, 0.06941438, 0.06362972, 0.29022288, 0.08856339,\n",
      "       0.09574437, 0.07081056, 0.06522555, 0.06382942, 0.05904231,\n",
      "       0.06542463, 0.07120981, 0.05545182, 0.08616948, 0.06363034,\n",
      "       0.10152597, 0.12765837, 0.08756547, 0.06482663, 0.08118281,\n",
      "       0.07599673, 0.06482649, 0.0742013 , 0.06901569, 0.05684776,\n",
      "       0.07360549, 0.06781874, 0.06781869, 0.06602378, 0.06562428,\n",
      "       0.06362982, 0.03949418, 0.05086441, 0.0642283 , 0.06602392,\n",
      "       0.05784659, 0.05345716, 0.05824461, 0.03490653, 0.05465388]), 'std_score_time': array([0.00827273, 0.02475732, 0.01684765, 0.23761189, 0.00765794,\n",
      "       0.02137164, 0.01937926, 0.00638915, 0.00476187, 0.00447822,\n",
      "       0.01027968, 0.0082147 , 0.00391897, 0.00731793, 0.00586335,\n",
      "       0.00665388, 0.00508514, 0.00572576, 0.00743653, 0.01536747,\n",
      "       0.01770001, 0.01074167, 0.01106281, 0.00728542, 0.00373219,\n",
      "       0.00741774, 0.00218507, 0.0088085 , 0.00395957, 0.0144994 ,\n",
      "       0.00477887, 0.00343179, 0.00693832, 0.00859318, 0.00801385,\n",
      "       0.00527642, 0.00704097, 0.00439737, 0.00166867, 0.00619344]), 'param_subsample': masked_array(data=[0.6, 1.0, 0.8, 0.8, 0.6, 0.8, 1.0, 0.6, 1.0, 0.6, 1.0,\n",
      "                   0.8, 1.0, 0.6, 1.0, 0.8, 0.8, 0.8, 0.8, 1.0, 1.0, 1.0,\n",
      "                   1.0, 0.8, 0.8, 0.8, 0.6, 1.0, 0.6, 0.6, 1.0, 1.0, 1.0,\n",
      "                   0.8, 1.0, 1.0, 1.0, 0.6, 1.0, 0.6],\n",
      "             mask=[False, False, False, False, False, False, False, False,\n",
      "                   False, False, False, False, False, False, False, False,\n",
      "                   False, False, False, False, False, False, False, False,\n",
      "                   False, False, False, False, False, False, False, False,\n",
      "                   False, False, False, False, False, False, False, False],\n",
      "       fill_value='?',\n",
      "            dtype=object), 'param_n_estimators': masked_array(data=[700, 50, 200, 900, 100, 300, 100, 600, 100, 50, 200,\n",
      "                   300, 100, 800, 400, 700, 1000, 500, 500, 500, 500, 200,\n",
      "                   400, 700, 50, 500, 900, 300, 100, 300, 700, 900, 800,\n",
      "                   50, 400, 50, 100, 100, 600, 400],\n",
      "             mask=[False, False, False, False, False, False, False, False,\n",
      "                   False, False, False, False, False, False, False, False,\n",
      "                   False, False, False, False, False, False, False, False,\n",
      "                   False, False, False, False, False, False, False, False,\n",
      "                   False, False, False, False, False, False, False, False],\n",
      "       fill_value='?',\n",
      "            dtype=object), 'param_min_child_weight': masked_array(data=[5, 10, 5, 1, 10, 10, 10, 10, 1, 1, 10, 10, 5, 10, 10,\n",
      "                   5, 5, 5, 10, 1, 1, 10, 5, 10, 5, 1, 5, 10, 10, 1, 10,\n",
      "                   1, 1, 5, 10, 5, 5, 5, 1, 5],\n",
      "             mask=[False, False, False, False, False, False, False, False,\n",
      "                   False, False, False, False, False, False, False, False,\n",
      "                   False, False, False, False, False, False, False, False,\n",
      "                   False, False, False, False, False, False, False, False,\n",
      "                   False, False, False, False, False, False, False, False],\n",
      "       fill_value='?',\n",
      "            dtype=object), 'param_max_depth': masked_array(data=[15, 3, 5, 15, 15, 9, 3, 4, 15, 15, 10, 15, 6, 6, 15,\n",
      "                   10, 9, 10, 4, 6, 5, 6, 9, 15, 4, 4, 10, 5, 10, 6, 4,\n",
      "                   15, 8, 6, 3, 5, 4, 3, 9, 5],\n",
      "             mask=[False, False, False, False, False, False, False, False,\n",
      "                   False, False, False, False, False, False, False, False,\n",
      "                   False, False, False, False, False, False, False, False,\n",
      "                   False, False, False, False, False, False, False, False,\n",
      "                   False, False, False, False, False, False, False, False],\n",
      "       fill_value='?',\n",
      "            dtype=object), 'param_learning_rate': masked_array(data=[0.01, 0.01, 0.2, 0.01, 0.5, 0.01, 0.5, 0.1, 0.2, 0.001,\n",
      "                   0.2, 0.001, 0.2, 0.01, 0.2, 0.01, 0.001, 0.01, 0.001,\n",
      "                   0.1, 0.9, 0.2, 0.1, 0.5, 0.2, 0.01, 0.9, 0.001, 0.2,\n",
      "                   0.1, 0.2, 0.5, 0.5, 0.01, 0.9, 0.001, 0.001, 0.1, 0.9,\n",
      "                   0.01],\n",
      "             mask=[False, False, False, False, False, False, False, False,\n",
      "                   False, False, False, False, False, False, False, False,\n",
      "                   False, False, False, False, False, False, False, False,\n",
      "                   False, False, False, False, False, False, False, False,\n",
      "                   False, False, False, False, False, False, False, False],\n",
      "       fill_value='?',\n",
      "            dtype=object), 'param_gamma': masked_array(data=[2, 0.5, 1, 1, 1.5, 5, 1.5, 2, 2, 5, 2, 0.5, 1.5, 2, 2,\n",
      "                   5, 1, 1, 1, 0.5, 2, 0.5, 1.5, 2, 1.5, 5, 1, 5, 1, 1.5,\n",
      "                   5, 0.5, 2, 1.5, 1, 5, 0.5, 5, 5, 0.5],\n",
      "             mask=[False, False, False, False, False, False, False, False,\n",
      "                   False, False, False, False, False, False, False, False,\n",
      "                   False, False, False, False, False, False, False, False,\n",
      "                   False, False, False, False, False, False, False, False,\n",
      "                   False, False, False, False, False, False, False, False],\n",
      "       fill_value='?',\n",
      "            dtype=object), 'param_colsample_bytree': masked_array(data=[0.6, 0.6, 1.0, 0.6, 0.8, 0.8, 1.0, 0.6, 0.8, 1.0, 1.0,\n",
      "                   0.6, 1.0, 1.0, 1.0, 1.0, 0.6, 1.0, 0.8, 0.8, 0.6, 0.6,\n",
      "                   1.0, 1.0, 0.8, 1.0, 1.0, 1.0, 0.8, 0.6, 1.0, 0.6, 0.8,\n",
      "                   0.6, 0.6, 0.8, 0.8, 1.0, 0.6, 1.0],\n",
      "             mask=[False, False, False, False, False, False, False, False,\n",
      "                   False, False, False, False, False, False, False, False,\n",
      "                   False, False, False, False, False, False, False, False,\n",
      "                   False, False, False, False, False, False, False, False,\n",
      "                   False, False, False, False, False, False, False, False],\n",
      "       fill_value='?',\n",
      "            dtype=object), 'params': [{'subsample': 0.6, 'n_estimators': 700, 'min_child_weight': 5, 'max_depth': 15, 'learning_rate': 0.01, 'gamma': 2, 'colsample_bytree': 0.6}, {'subsample': 1.0, 'n_estimators': 50, 'min_child_weight': 10, 'max_depth': 3, 'learning_rate': 0.01, 'gamma': 0.5, 'colsample_bytree': 0.6}, {'subsample': 0.8, 'n_estimators': 200, 'min_child_weight': 5, 'max_depth': 5, 'learning_rate': 0.2, 'gamma': 1, 'colsample_bytree': 1.0}, {'subsample': 0.8, 'n_estimators': 900, 'min_child_weight': 1, 'max_depth': 15, 'learning_rate': 0.01, 'gamma': 1, 'colsample_bytree': 0.6}, {'subsample': 0.6, 'n_estimators': 100, 'min_child_weight': 10, 'max_depth': 15, 'learning_rate': 0.5, 'gamma': 1.5, 'colsample_bytree': 0.8}, {'subsample': 0.8, 'n_estimators': 300, 'min_child_weight': 10, 'max_depth': 9, 'learning_rate': 0.01, 'gamma': 5, 'colsample_bytree': 0.8}, {'subsample': 1.0, 'n_estimators': 100, 'min_child_weight': 10, 'max_depth': 3, 'learning_rate': 0.5, 'gamma': 1.5, 'colsample_bytree': 1.0}, {'subsample': 0.6, 'n_estimators': 600, 'min_child_weight': 10, 'max_depth': 4, 'learning_rate': 0.1, 'gamma': 2, 'colsample_bytree': 0.6}, {'subsample': 1.0, 'n_estimators': 100, 'min_child_weight': 1, 'max_depth': 15, 'learning_rate': 0.2, 'gamma': 2, 'colsample_bytree': 0.8}, {'subsample': 0.6, 'n_estimators': 50, 'min_child_weight': 1, 'max_depth': 15, 'learning_rate': 0.001, 'gamma': 5, 'colsample_bytree': 1.0}, {'subsample': 1.0, 'n_estimators': 200, 'min_child_weight': 10, 'max_depth': 10, 'learning_rate': 0.2, 'gamma': 2, 'colsample_bytree': 1.0}, {'subsample': 0.8, 'n_estimators': 300, 'min_child_weight': 10, 'max_depth': 15, 'learning_rate': 0.001, 'gamma': 0.5, 'colsample_bytree': 0.6}, {'subsample': 1.0, 'n_estimators': 100, 'min_child_weight': 5, 'max_depth': 6, 'learning_rate': 0.2, 'gamma': 1.5, 'colsample_bytree': 1.0}, {'subsample': 0.6, 'n_estimators': 800, 'min_child_weight': 10, 'max_depth': 6, 'learning_rate': 0.01, 'gamma': 2, 'colsample_bytree': 1.0}, {'subsample': 1.0, 'n_estimators': 400, 'min_child_weight': 10, 'max_depth': 15, 'learning_rate': 0.2, 'gamma': 2, 'colsample_bytree': 1.0}, {'subsample': 0.8, 'n_estimators': 700, 'min_child_weight': 5, 'max_depth': 10, 'learning_rate': 0.01, 'gamma': 5, 'colsample_bytree': 1.0}, {'subsample': 0.8, 'n_estimators': 1000, 'min_child_weight': 5, 'max_depth': 9, 'learning_rate': 0.001, 'gamma': 1, 'colsample_bytree': 0.6}, {'subsample': 0.8, 'n_estimators': 500, 'min_child_weight': 5, 'max_depth': 10, 'learning_rate': 0.01, 'gamma': 1, 'colsample_bytree': 1.0}, {'subsample': 0.8, 'n_estimators': 500, 'min_child_weight': 10, 'max_depth': 4, 'learning_rate': 0.001, 'gamma': 1, 'colsample_bytree': 0.8}, {'subsample': 1.0, 'n_estimators': 500, 'min_child_weight': 1, 'max_depth': 6, 'learning_rate': 0.1, 'gamma': 0.5, 'colsample_bytree': 0.8}, {'subsample': 1.0, 'n_estimators': 500, 'min_child_weight': 1, 'max_depth': 5, 'learning_rate': 0.9, 'gamma': 2, 'colsample_bytree': 0.6}, {'subsample': 1.0, 'n_estimators': 200, 'min_child_weight': 10, 'max_depth': 6, 'learning_rate': 0.2, 'gamma': 0.5, 'colsample_bytree': 0.6}, {'subsample': 1.0, 'n_estimators': 400, 'min_child_weight': 5, 'max_depth': 9, 'learning_rate': 0.1, 'gamma': 1.5, 'colsample_bytree': 1.0}, {'subsample': 0.8, 'n_estimators': 700, 'min_child_weight': 10, 'max_depth': 15, 'learning_rate': 0.5, 'gamma': 2, 'colsample_bytree': 1.0}, {'subsample': 0.8, 'n_estimators': 50, 'min_child_weight': 5, 'max_depth': 4, 'learning_rate': 0.2, 'gamma': 1.5, 'colsample_bytree': 0.8}, {'subsample': 0.8, 'n_estimators': 500, 'min_child_weight': 1, 'max_depth': 4, 'learning_rate': 0.01, 'gamma': 5, 'colsample_bytree': 1.0}, {'subsample': 0.6, 'n_estimators': 900, 'min_child_weight': 5, 'max_depth': 10, 'learning_rate': 0.9, 'gamma': 1, 'colsample_bytree': 1.0}, {'subsample': 1.0, 'n_estimators': 300, 'min_child_weight': 10, 'max_depth': 5, 'learning_rate': 0.001, 'gamma': 5, 'colsample_bytree': 1.0}, {'subsample': 0.6, 'n_estimators': 100, 'min_child_weight': 10, 'max_depth': 10, 'learning_rate': 0.2, 'gamma': 1, 'colsample_bytree': 0.8}, {'subsample': 0.6, 'n_estimators': 300, 'min_child_weight': 1, 'max_depth': 6, 'learning_rate': 0.1, 'gamma': 1.5, 'colsample_bytree': 0.6}, {'subsample': 1.0, 'n_estimators': 700, 'min_child_weight': 10, 'max_depth': 4, 'learning_rate': 0.2, 'gamma': 5, 'colsample_bytree': 1.0}, {'subsample': 1.0, 'n_estimators': 900, 'min_child_weight': 1, 'max_depth': 15, 'learning_rate': 0.5, 'gamma': 0.5, 'colsample_bytree': 0.6}, {'subsample': 1.0, 'n_estimators': 800, 'min_child_weight': 1, 'max_depth': 8, 'learning_rate': 0.5, 'gamma': 2, 'colsample_bytree': 0.8}, {'subsample': 0.8, 'n_estimators': 50, 'min_child_weight': 5, 'max_depth': 6, 'learning_rate': 0.01, 'gamma': 1.5, 'colsample_bytree': 0.6}, {'subsample': 1.0, 'n_estimators': 400, 'min_child_weight': 10, 'max_depth': 3, 'learning_rate': 0.9, 'gamma': 1, 'colsample_bytree': 0.6}, {'subsample': 1.0, 'n_estimators': 50, 'min_child_weight': 5, 'max_depth': 5, 'learning_rate': 0.001, 'gamma': 5, 'colsample_bytree': 0.8}, {'subsample': 1.0, 'n_estimators': 100, 'min_child_weight': 5, 'max_depth': 4, 'learning_rate': 0.001, 'gamma': 0.5, 'colsample_bytree': 0.8}, {'subsample': 0.6, 'n_estimators': 100, 'min_child_weight': 5, 'max_depth': 3, 'learning_rate': 0.1, 'gamma': 5, 'colsample_bytree': 1.0}, {'subsample': 1.0, 'n_estimators': 600, 'min_child_weight': 1, 'max_depth': 9, 'learning_rate': 0.9, 'gamma': 5, 'colsample_bytree': 0.6}, {'subsample': 0.6, 'n_estimators': 400, 'min_child_weight': 5, 'max_depth': 5, 'learning_rate': 0.01, 'gamma': 0.5, 'colsample_bytree': 1.0}], 'split0_test_score': array([0.85263413, 0.76903808, 0.84067137, 0.90144231, 0.87736981,\n",
      "       0.81245403, 0.80523974, 0.82510992, 0.89502762, 0.82708232,\n",
      "       0.84476004, 0.81124303, 0.82830739, 0.81187637, 0.87346349,\n",
      "       0.83520782, 0.81904299, 0.84014688, 0.7809291 , 0.8728936 ,\n",
      "       0.8803052 , 0.83866244, 0.86686103, 0.89940828, 0.79393791,\n",
      "       0.79011742, 0.90011862, 0.7831384 , 0.84510472, 0.85204819,\n",
      "       0.79990239, 0.9098733 , 0.89069212, 0.78875969, 0.84946757,\n",
      "       0.7841431 , 0.78383459, 0.79125737, 0.86764353, 0.79970796]), 'split1_test_score': array([0.85873246, 0.77659311, 0.85027906, 0.90210124, 0.88104265,\n",
      "       0.8225256 , 0.81566707, 0.83604566, 0.89935453, 0.83669012,\n",
      "       0.85239586, 0.82199711, 0.84820337, 0.81983953, 0.87532903,\n",
      "       0.8446273 , 0.82561242, 0.84993939, 0.78969742, 0.88147793,\n",
      "       0.88419554, 0.84346135, 0.87214062, 0.90112994, 0.81544855,\n",
      "       0.80958201, 0.89884461, 0.78624079, 0.85541   , 0.86336155,\n",
      "       0.80888455, 0.91506067, 0.89227111, 0.80820265, 0.85006017,\n",
      "       0.79913503, 0.78419605, 0.80667321, 0.8769084 , 0.81338544]), 'split2_test_score': array([0.85387795, 0.75190259, 0.83373728, 0.89928058, 0.8729892 ,\n",
      "       0.81428571, 0.79910714, 0.82559844, 0.89837009, 0.82699805,\n",
      "       0.85387795, 0.81459711, 0.8314223 , 0.814851  , 0.86144871,\n",
      "       0.83536288, 0.81564792, 0.84084816, 0.76919192, 0.87466923,\n",
      "       0.87879512, 0.83921187, 0.8660241 , 0.89190476, 0.79464286,\n",
      "       0.79456119, 0.88994987, 0.78314441, 0.84821864, 0.85679787,\n",
      "       0.80058723, 0.90608529, 0.89118424, 0.79441313, 0.84172314,\n",
      "       0.78659869, 0.76777976, 0.79402985, 0.87551168, 0.80460897]), 'split3_test_score': array([0.85686747, 0.76463263, 0.83714147, 0.89423077, 0.87391723,\n",
      "       0.80840665, 0.80624695, 0.81924768, 0.89651861, 0.82145446,\n",
      "       0.85168159, 0.81135707, 0.83044645, 0.81065233, 0.86952312,\n",
      "       0.83794275, 0.81488642, 0.84120799, 0.7732942 , 0.87096774,\n",
      "       0.88268956, 0.83619647, 0.8630866 , 0.88671596, 0.79912131,\n",
      "       0.7888563 , 0.88757396, 0.77984984, 0.84858812, 0.85458505,\n",
      "       0.79980445, 0.9041816 , 0.89022052, 0.79267999, 0.83783784,\n",
      "       0.77880859, 0.76560197, 0.79050416, 0.87002653, 0.79833781]), 'split4_test_score': array([0.85375876, 0.7642236 , 0.84094185, 0.89868263, 0.87902064,\n",
      "       0.81459854, 0.80655417, 0.82666667, 0.89374851, 0.82884195,\n",
      "       0.86272618, 0.81090207, 0.83013366, 0.81371595, 0.87934757,\n",
      "       0.83568303, 0.81384653, 0.83999032, 0.78425584, 0.87353574,\n",
      "       0.884707  , 0.84000971, 0.87080415, 0.90014265, 0.79776373,\n",
      "       0.79244357, 0.89541716, 0.77535873, 0.84829422, 0.84977092,\n",
      "       0.79680697, 0.91051507, 0.89570846, 0.79710495, 0.84241104,\n",
      "       0.78704375, 0.77268195, 0.7913776 , 0.87359618, 0.79990263]), 'mean_test_score': array([0.85517416, 0.765278  , 0.84055421, 0.89914751, 0.87686791,\n",
      "       0.81445411, 0.80656302, 0.82653367, 0.89660387, 0.82821338,\n",
      "       0.85308832, 0.81401928, 0.83370263, 0.81418704, 0.87182238,\n",
      "       0.83776476, 0.81780726, 0.84242655, 0.7794737 , 0.87470885,\n",
      "       0.88213848, 0.83950837, 0.8677833 , 0.89586032, 0.80018287,\n",
      "       0.7951121 , 0.89438085, 0.78154643, 0.84912314, 0.85531272,\n",
      "       0.80119712, 0.90914319, 0.89201529, 0.79623208, 0.84429995,\n",
      "       0.78714583, 0.77481886, 0.79476844, 0.87273726, 0.80318856]), 'std_test_score': array([0.00226557, 0.00803243, 0.00552909, 0.00277124, 0.00303531,\n",
      "       0.00459935, 0.00529764, 0.00541264, 0.00206546, 0.00491304,\n",
      "       0.00575031, 0.00420693, 0.00732011, 0.00317638, 0.00607483,\n",
      "       0.00357118, 0.00427385, 0.00378289, 0.00739477, 0.00359136,\n",
      "       0.0022659 , 0.00235158, 0.00328987, 0.0056207 , 0.00787034,\n",
      "       0.00749513, 0.0048967 , 0.0036957 , 0.00339009, 0.00466664,\n",
      "       0.00405852, 0.00377888, 0.00196813, 0.00656992, 0.00472972,\n",
      "       0.00667198, 0.00785215, 0.00607089, 0.00343883, 0.00552151]), 'rank_test_score': array([14, 40, 19,  2,  8, 26, 29, 24,  3, 23, 15, 28, 22, 27, 11, 21, 25,\n",
      "       18, 38,  9,  7, 20, 12,  4, 32, 34,  5, 37, 16, 13, 31,  1,  6, 33,\n",
      "       17, 36, 39, 35, 10, 30]), 'split0_train_score': array([0.9157572 , 0.76874063, 0.8992665 , 0.98548196, 0.96922887,\n",
      "       0.84030024, 0.82809521, 0.86580826, 0.98548377, 0.86856517,\n",
      "       0.90749386, 0.8363945 , 0.88070926, 0.83903212, 0.95384995,\n",
      "       0.8816167 , 0.84654607, 0.89591261, 0.78635087, 0.9533481 ,\n",
      "       0.97591182, 0.8949665 , 0.94430724, 0.9915914 , 0.81725548,\n",
      "       0.80604688, 0.999875  , 0.79020428, 0.91669738, 0.9175952 ,\n",
      "       0.81896867, 0.9999375 , 0.98316247, 0.80625868, 0.91018331,\n",
      "       0.7962963 , 0.79285   , 0.80363057, 0.96140784, 0.81753959]), 'split1_train_score': array([0.91530424, 0.76324555, 0.89806183, 0.9833105 , 0.96806931,\n",
      "       0.83810923, 0.83617622, 0.86955459, 0.98455598, 0.8674171 ,\n",
      "       0.91630875, 0.83597306, 0.88170067, 0.8374817 , 0.94672586,\n",
      "       0.88475156, 0.84403222, 0.89691165, 0.77874772, 0.95508187,\n",
      "       0.97849929, 0.89345267, 0.94042685, 0.99258521, 0.81549477,\n",
      "       0.80279961, 0.99981254, 0.78060846, 0.9134574 , 0.91979858,\n",
      "       0.81076463, 0.9999375 , 0.98427302, 0.80259646, 0.91067913,\n",
      "       0.79086669, 0.76995009, 0.79948269, 0.96158352, 0.81394352]), 'split2_train_score': array([0.91855398, 0.76484561, 0.89713095, 0.98661687, 0.97129423,\n",
      "       0.83639931, 0.83264245, 0.86846295, 0.98700168, 0.8687557 ,\n",
      "       0.92836041, 0.83412265, 0.88373809, 0.83753982, 0.94548373,\n",
      "       0.88545232, 0.83962667, 0.89712389, 0.78138082, 0.95230456,\n",
      "       0.97775023, 0.89633921, 0.94246778, 0.9936401 , 0.81270739,\n",
      "       0.80612057, 0.99981254, 0.79187012, 0.91505601, 0.91982087,\n",
      "       0.82125191, 0.9999375 , 0.98755445, 0.80833788, 0.91335585,\n",
      "       0.795364  , 0.77254137, 0.80202294, 0.95156029, 0.81456507]), 'split3_train_score': array([0.91958384, 0.76339034, 0.89978521, 0.98517688, 0.96627684,\n",
      "       0.83573841, 0.83709796, 0.86255982, 0.98660186, 0.8627451 ,\n",
      "       0.93100061, 0.83662434, 0.87925849, 0.83608469, 0.95281038,\n",
      "       0.8812791 , 0.84284406, 0.89526736, 0.78531073, 0.94795906,\n",
      "       0.98009796, 0.89692875, 0.94296296, 0.99114824, 0.8147283 ,\n",
      "       0.80695076, 0.99968752, 0.79238396, 0.91599779, 0.92017684,\n",
      "       0.81492793, 0.9999375 , 0.98507463, 0.8091047 , 0.91566413,\n",
      "       0.79330503, 0.77826653, 0.80280305, 0.96485387, 0.81614625]), 'split4_train_score': array([0.91756184, 0.76706029, 0.8951869 , 0.98400448, 0.96760607,\n",
      "       0.83937065, 0.83690987, 0.86649936, 0.98299595, 0.86818127,\n",
      "       0.93805855, 0.8350503 , 0.87697316, 0.83650561, 0.9577882 ,\n",
      "       0.88260099, 0.84013605, 0.89503372, 0.78635945, 0.94903751,\n",
      "       0.97651069, 0.89455928, 0.93768912, 0.99214758, 0.81703586,\n",
      "       0.805736  , 0.99975003, 0.78470552, 0.91234522, 0.91828459,\n",
      "       0.81277761, 1.        , 0.98456175, 0.80920179, 0.90985016,\n",
      "       0.79467726, 0.77480845, 0.80141229, 0.95863897, 0.81657526]), 'mean_train_score': array([0.91735222, 0.76545648, 0.89788628, 0.98491814, 0.96849506,\n",
      "       0.83798357, 0.83418434, 0.866577  , 0.98532785, 0.86713287,\n",
      "       0.92424444, 0.83563297, 0.88047593, 0.83732879, 0.95133162,\n",
      "       0.88314013, 0.84263702, 0.89604985, 0.78362992, 0.95154622,\n",
      "       0.977754  , 0.89524928, 0.94157079, 0.99222251, 0.81544436,\n",
      "       0.80553076, 0.99978752, 0.78795447, 0.91471076, 0.91913522,\n",
      "       0.81573815, 0.99995   , 0.98492526, 0.8070999 , 0.91194652,\n",
      "       0.79410186, 0.77768329, 0.80187031, 0.9596089 , 0.81575394]), 'std_train_score': array([1.62521422e-03, 2.13953874e-03, 1.63700496e-03, 1.15670240e-03,\n",
      "       1.68913717e-03, 1.72379589e-03, 3.44500278e-03, 2.41485234e-03,\n",
      "       1.44793899e-03, 2.24131818e-03, 1.09267928e-02, 9.27251474e-04,\n",
      "       2.27805513e-03, 1.01927997e-03, 4.59623683e-03, 1.67438751e-03,\n",
      "       2.55292677e-03, 8.43789433e-04, 3.05199413e-03, 2.66398217e-03,\n",
      "       1.48250174e-03, 1.24839158e-03, 2.30680746e-03, 8.60127746e-04,\n",
      "       1.66248715e-03, 1.42351396e-03, 6.37334550e-05, 4.57239362e-03,\n",
      "       1.60555191e-03, 1.00899526e-03, 3.87285309e-03, 2.49984376e-05,\n",
      "       1.45601687e-03, 2.48830867e-03, 2.23234077e-03, 1.88896106e-03,\n",
      "       8.06071783e-03, 1.40728722e-03, 4.48031067e-03, 1.31970071e-03])}\n",
      "\n",
      " Best estimator:\n",
      "XGBClassifier(base_score=0.5, booster='gbtree', colsample_bylevel=1,\n",
      "       colsample_bynode=1, colsample_bytree=0.6, gamma=0.5,\n",
      "       learning_rate=0.5, max_delta_step=0, max_depth=15,\n",
      "       min_child_weight=1, missing=None, n_estimators=900, n_jobs=1,\n",
      "       nthread=32, objective='binary:logistic', random_state=0,\n",
      "       reg_alpha=0, reg_lambda=1, scale_pos_weight=1, seed=None,\n",
      "       silent=True, subsample=1.0, verbosity=1)\n",
      "\n",
      " Best normalized gini score for 5-fold search with 40 parameter combinations:\n",
      "0.8182863723467617\n",
      "\n",
      " Best hyperparameters:\n",
      "{'subsample': 1.0, 'n_estimators': 900, 'min_child_weight': 1, 'max_depth': 15, 'learning_rate': 0.5, 'gamma': 0.5, 'colsample_bytree': 0.6}\n"
     ]
    }
   ],
   "source": [
    "print('\\n All results:')\n",
    "print(random_search.cv_results_)\n",
    "print('\\n Best estimator:')\n",
    "print(random_search.best_estimator_)\n",
    "print('\\n Best normalized gini score for %d-fold search with %d parameter combinations:' % (folds, param_comb))\n",
    "print(random_search.best_score_ * 2 - 1)\n",
    "print('\\n Best hyperparameters:')\n",
    "print(random_search.best_params_)\n",
    "results = pd.DataFrame(random_search.cv_results_)\n",
    "results.to_csv('xgb-random-grid-search-results-01.csv', index=False)\n"
   ]
  },
  {
   "cell_type": "markdown",
   "metadata": {
    "_cell_guid": "6447f3d0-5ef3-4839-8fb4-cd099909fb65",
    "_uuid": "ecbe97acf379f9a442f7b6bfc111d5c1e5bac161"
   },
   "source": [
    "Not surprisingly, this search does not produce a great score because of 3-fold validation and limited parameter sampling.\n",
    "\n",
    "Lastly, let's make a prediction based on best parameters found during the search."
   ]
  },
  {
   "cell_type": "code",
   "execution_count": 25,
   "metadata": {},
   "outputs": [],
   "source": [
    "X_test = test.drop(['Call_Flag'], axis=1)\n",
    "y_test = test['Call_Flag'].values"
   ]
  },
  {
   "cell_type": "code",
   "execution_count": 26,
   "metadata": {
    "_cell_guid": "f185d719-25b1-4dc3-a1f1-3cea218f3967",
    "_uuid": "2174c78da609042833528bfb430d1babffa502a2"
   },
   "outputs": [],
   "source": [
    "y_predict = random_search.predict(X_test)\n",
    "y_predict_probs = random_search.predict_proba(X_test)"
   ]
  },
  {
   "cell_type": "code",
   "execution_count": 27,
   "metadata": {},
   "outputs": [
    {
     "name": "stdout",
     "output_type": "stream",
     "text": [
      "             precision    recall  f1-score   support\n",
      "\n",
      "          0       0.98      0.88      0.93     25065\n",
      "          1       0.15      0.59      0.25       953\n",
      "\n",
      "avg / total       0.95      0.87      0.90     26018\n",
      "\n"
     ]
    }
   ],
   "source": [
    "from sklearn.metrics import classification_report\n",
    "target_names = ['0', '1']\n",
    "print(classification_report(y_test, y_predict, target_names=target_names))"
   ]
  },
  {
   "cell_type": "code",
   "execution_count": 28,
   "metadata": {},
   "outputs": [
    {
     "data": {
      "text/plain": [
       "0.8392063530937087"
      ]
     },
     "execution_count": 28,
     "metadata": {},
     "output_type": "execute_result"
    }
   ],
   "source": [
    "from sklearn.metrics import roc_auc_score\n",
    "\n",
    "# Calculate roc auc\n",
    "roc_value = roc_auc_score(y_test, y_predict_probs[:, 1])\n",
    "roc_value"
   ]
  },
  {
   "cell_type": "code",
   "execution_count": 29,
   "metadata": {},
   "outputs": [
    {
     "data": {
      "image/png": "[encoded data removed]",
      "text/plain": [
       "<Figure size 432x288 with 1 Axes>"
      ]
     },
     "metadata": {
      "needs_background": "light"
     },
     "output_type": "display_data"
    }
   ],
   "source": [
    "from matplotlib import pyplot as plt\n",
    "from sklearn.metrics import roc_auc_score\n",
    "from sklearn.metrics import roc_curve\n",
    "RF_roc_auc = roc_auc_score(y_test, y_predict)\n",
    "fpr, tpr, thresholds = roc_curve(y_test, y_predict)\n",
    "plt.figure()\n",
    "plt.plot(fpr, tpr, label='xgb (area = %0.2f)' % roc_value)\n",
    "plt.plot([0, 1], [0, 1],'r--')\n",
    "plt.xlim([0.0, 1.0])\n",
    "plt.ylim([0.0, 1.05])\n",
    "plt.xlabel('False Positive Rate')\n",
    "plt.ylabel('True Positive Rate')\n",
    "plt.title('Receiver operating characteristic')\n",
    "plt.legend(loc=\"lower right\")\n",
    "plt.savefig('xgboost with Resampling_ROC')\n",
    "plt.show()"
   ]
  },
  {
   "cell_type": "code",
   "execution_count": 30,
   "metadata": {},
   "outputs": [
    {
     "data": {
      "text/plain": [
       "array([[21989,  3076],\n",
       "       [  389,   564]], dtype=int64)"
      ]
     },
     "execution_count": 30,
     "metadata": {},
     "output_type": "execute_result"
    }
   ],
   "source": [
    "from sklearn.metrics import confusion_matrix\n",
    "confusion_matrix(y_test, y_predict)"
   ]
  },
  {
   "cell_type": "code",
   "execution_count": 31,
   "metadata": {},
   "outputs": [],
   "source": [
    "Ys = np.column_stack((y_predict, y_test))\n",
    "from numpy import savetxt\n",
    "savetxt('Ys_xgb_resampled_40000.csv', Ys, delimiter=',')"
   ]
  },
  {
   "cell_type": "code",
   "execution_count": 32,
   "metadata": {},
   "outputs": [],
   "source": [
    "y_prob = random_search.predict_proba(X_test)\n",
    "Ys_prob = np.column_stack((y_prob, y_test))\n",
    "from numpy import savetxt\n",
    "savetxt('Ys_xgb_Down-Upsampled_5000_prob_MoreCombs.csv', Ys_prob, delimiter=',')"
   ]
  },
  {
   "cell_type": "code",
   "execution_count": null,
   "metadata": {},
   "outputs": [],
   "source": []
  }
 ],
 "metadata": {
  "kernelspec": {
   "display_name": "Python 3",
   "language": "python",
   "name": "python3"
  },
  "language_info": {
   "codemirror_mode": {
    "name": "ipython",
    "version": 3
   },
   "file_extension": ".py",
   "mimetype": "text/x-python",
   "name": "python",
   "nbconvert_exporter": "python",
   "pygments_lexer": "ipython3",
   "version": "3.7.0"
  }
 },
 "nbformat": 4,
 "nbformat_minor": 1
}
